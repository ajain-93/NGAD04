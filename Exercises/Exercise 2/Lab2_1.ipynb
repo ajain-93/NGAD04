{
 "cells": [
  {
   "cell_type": "markdown",
   "id": "0212c06e-4b75-4228-a19c-b898da068431",
   "metadata": {},
   "source": [
    "### Assignment 1: projections\n",
    "- Download the shapefile of world's countries from here: https://public.opendatasoft.com/api/explore/v2.1/catalog/datasets/world-administrative-boundaries/exports/shp?lang=en&timezone=Europe%2FBerlin\n",
    "\n",
    "- Download a shapefile of world's urban areas: https://geo.nyu.edu/catalog/stanford-yk247bg4748\n",
    "\n",
    "While you can download the files and add them in your working directory manually, it is recommended you load them as geopandas data frames from their url's. The addresses for each file are shown below:"
   ]
  },
  {
   "cell_type": "code",
   "execution_count": null,
   "id": "56f2c7bf-4bc2-4abf-b55b-329a69cb3e42",
   "metadata": {},
   "outputs": [],
   "source": [
    "#RUN YOUR CODE HERE\n",
    "\n",
    "import geopandas as gpd\n",
    "import pandas as pd\n",
    "import matplotlib.pyplot as plt\n",
    "\n",
    "# Download and extract the shapefile of world's countries using geopandas\n",
    "#url for countries\n",
    "url = 'https://public.opendatasoft.com/api/explore/v2.1/catalog/datasets/world-administrative-boundaries/exports/shp?lang=en&timezone=Europe%2FBerlin'\n",
    "\n",
    "\n",
    "# Download and extract the shapefile of urban areas\n",
    "#url for cities\n",
    "url = 'https://stacks.stanford.edu/file/druid:yk247bg4748/data.zip'\n",
    "\n",
    "\n",
    "\n"
   ]
  },
  {
   "cell_type": "markdown",
   "id": "f6664067-1399-42ac-917c-7232a5d9f3ab",
   "metadata": {},
   "source": [
    "1) What is the coordinate system of these 2 geodaframes? Use the pyproj library to print the information"
   ]
  },
  {
   "cell_type": "code",
   "execution_count": null,
   "id": "d0de6236-cb5e-4bde-8885-586ad7025e0c",
   "metadata": {},
   "outputs": [],
   "source": [
    "#RUN YOUR CODE HERE\n",
    "\n",
    "import pyproj\n",
    "# Get the CRS as a pyproj.CRS object\n",
    "\n",
    "\n",
    "# Print the properties of the CRS\n",
    "\n",
    "\n",
    "# Get the CRS as a pyproj.CRS object\n",
    "\n",
    "\n",
    "# Print the properties of the CRS\n",
    "\n"
   ]
  },
  {
   "cell_type": "markdown",
   "id": "dba2b252-c80c-4969-954f-9e6f77348b72",
   "metadata": {},
   "source": [
    "2) Reproject these two files in a new coordinate system with an EPSG value of 3857."
   ]
  },
  {
   "cell_type": "code",
   "execution_count": null,
   "id": "d0bcfc90-b078-416e-843b-fc3e52d95207",
   "metadata": {},
   "outputs": [],
   "source": [
    "#RUN YOUR CODE HERE\n",
    "# Reproject the geopandas dataframes to EPSG 3857\n"
   ]
  },
  {
   "cell_type": "markdown",
   "id": "4ea1bc60-65c0-4af8-8ed0-637e87a28113",
   "metadata": {},
   "source": [
    "3) What is their coordinate system now? Use pyproj again to print the reprojected system."
   ]
  },
  {
   "cell_type": "code",
   "execution_count": null,
   "id": "5247cb53-84e8-4e77-8423-48e08d5b3144",
   "metadata": {},
   "outputs": [],
   "source": [
    "#RUN YOUR CODE HERE\n"
   ]
  },
  {
   "cell_type": "markdown",
   "id": "82e3edd7-b3c1-4021-bf4e-c943e3419abe",
   "metadata": {},
   "source": [
    "4) Plot the two files."
   ]
  },
  {
   "cell_type": "code",
   "execution_count": null,
   "id": "64369ece-e84e-4302-b4e3-d720109c113c",
   "metadata": {},
   "outputs": [],
   "source": []
  },
  {
   "cell_type": "markdown",
   "id": "b222c8a8-634a-4e2a-861b-2ca90fb1ffa3",
   "metadata": {},
   "source": [
    "5) Save the GeoDataFrames to a a gpkg file"
   ]
  },
  {
   "cell_type": "code",
   "execution_count": null,
   "id": "060a4077-0176-415a-8cdc-7ac964c090ff",
   "metadata": {},
   "outputs": [],
   "source": [
    "#RUN YOUR CODE HERE"
   ]
  },
  {
   "cell_type": "markdown",
   "id": "01289ff0-447a-406a-95f1-4df51292d0d6",
   "metadata": {},
   "source": [
    "Good job! Now, you can move on to the next part!"
   ]
  },
  {
   "cell_type": "code",
   "execution_count": null,
   "id": "f4943bc0-46c0-4245-8b84-d1708b887c5b",
   "metadata": {},
   "outputs": [],
   "source": []
  },
  {
   "cell_type": "code",
   "execution_count": null,
   "id": "49335696-e73a-4f58-bf10-3ebe28a80367",
   "metadata": {},
   "outputs": [],
   "source": []
  }
 ],
 "metadata": {
  "kernelspec": {
   "display_name": "Python 3 (ipykernel)",
   "language": "python",
   "name": "python3"
  },
  "language_info": {
   "codemirror_mode": {
    "name": "ipython",
    "version": 3
   },
   "file_extension": ".py",
   "mimetype": "text/x-python",
   "name": "python",
   "nbconvert_exporter": "python",
   "pygments_lexer": "ipython3",
   "version": "3.11.8"
  }
 },
 "nbformat": 4,
 "nbformat_minor": 5
}
