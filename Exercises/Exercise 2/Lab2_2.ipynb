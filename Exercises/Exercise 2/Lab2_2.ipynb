{
 "cells": [
  {
   "cell_type": "markdown",
   "id": "c663b088-ab8e-4c03-ab4d-f57150d6432c",
   "metadata": {},
   "source": [
    "### Assignment 2: Points to map "
   ]
  },
  {
   "cell_type": "markdown",
   "id": "aff4b8f0-72d8-415c-96c7-1d234f6573f0",
   "metadata": {},
   "source": [
    " Plot a map of points, based on a set of longitude and latitude coordinates that are stored in a csv file."
   ]
  },
  {
   "cell_type": "markdown",
   "id": "4adecc44-deb5-45c6-a521-69d597d4fd60",
   "metadata": {},
   "source": [
    "The input data is stored in the CSV spreadsheet ***'sweden_points.csv'*** which you can download from the exercise folder. Add it your working directory and import it.  The coordinates stored there are in WGS84 format (decimal degrees, EPSG:4326) and it contains 2000 locations and 3 columns (latitude, longtitde and ID)."
   ]
  },
  {
   "cell_type": "markdown",
   "id": "6bec09a7-4bd1-4d76-9949-6bae06b23a2b",
   "metadata": {},
   "source": [
    "First import the csv file as a pandas dataframe."
   ]
  },
  {
   "cell_type": "code",
   "execution_count": null,
   "id": "f7b373dc-d57e-428d-877a-ba82a73db6ff",
   "metadata": {},
   "outputs": [],
   "source": [
    "# RUN YOUR CODE HERE\n",
    "import pandas as pd\n"
   ]
  },
  {
   "cell_type": "markdown",
   "id": "0259941f-52a2-45b1-965e-d46b43f10039",
   "metadata": {},
   "source": [
    "1) Add a geometry column and fill it with geometries.\n",
    "Create an empty column called ***geometry*** where you will store shapely Point objects.\n",
    "Insert Point objects into the column geometry based on the coordinate columns.\n",
    "You want to create a shapely.geometry.Point for each row, based on the columns longitude and latitude"
   ]
  },
  {
   "cell_type": "code",
   "execution_count": null,
   "id": "20478ed9-cdec-482c-b0fa-ba86f99c872b",
   "metadata": {},
   "outputs": [],
   "source": [
    "# RUN YOUR CODE HERE\n",
    "from shapely.geometry import Point\n",
    "# Create an empty column called 'geometry'\n",
    "\n",
    "# Iterate over each row in the DataFrame and insert a Point object into the 'geometry' column\n",
    "\n",
    "# Print the first few rows of the DataFrame to verify that the 'geometry' column was added correctly\n"
   ]
  },
  {
   "cell_type": "markdown",
   "id": "ec9ca829-6032-420a-b397-f337a6610ac3",
   "metadata": {},
   "source": [
    "2) Convert the pandas.DataFrame into a geopandas.GeoDataFrame "
   ]
  },
  {
   "cell_type": "code",
   "execution_count": null,
   "id": "1a2cdb90-ea25-4060-acdb-93439a7315b3",
   "metadata": {},
   "outputs": [],
   "source": [
    "# RUN YOUR CODE HERE\n",
    "\n",
    "# Convert the Pandas DataFrame to a GeoPandas DataFrame\n",
    "\n",
    "# Print the first few rows of the GeoPandas DataFrame to verify that it was created correctly\n"
   ]
  },
  {
   "cell_type": "markdown",
   "id": "4a599e6c-fa26-4699-bd68-c291a3f0c8ea",
   "metadata": {},
   "source": [
    " 3) Save the data in Shapefile format as sweden_points.shp inside the data directory"
   ]
  },
  {
   "cell_type": "code",
   "execution_count": null,
   "id": "1499f83b-99c4-4b40-bd5c-b0e1817b3ffc",
   "metadata": {},
   "outputs": [],
   "source": [
    "# RUN YOUR CODE HERE\n"
   ]
  },
  {
   "cell_type": "markdown",
   "id": "ac1f2410-bc15-45c1-8946-47a6b2101556",
   "metadata": {},
   "source": [
    "4. Simply plot your points with geodataframe.plot() https://geopandas.org/en/stable/docs/user_guide/mapping.html "
   ]
  },
  {
   "cell_type": "code",
   "execution_count": null,
   "id": "b50fb5d0-49ec-4e46-89c0-ffa35e80a3ac",
   "metadata": {},
   "outputs": [],
   "source": []
  }
 ],
 "metadata": {
  "kernelspec": {
   "display_name": "Python 3 (ipykernel)",
   "language": "python",
   "name": "python3"
  },
  "language_info": {
   "codemirror_mode": {
    "name": "ipython",
    "version": 3
   },
   "file_extension": ".py",
   "mimetype": "text/x-python",
   "name": "python",
   "nbconvert_exporter": "python",
   "pygments_lexer": "ipython3",
   "version": "3.11.8"
  }
 },
 "nbformat": 4,
 "nbformat_minor": 5
}
