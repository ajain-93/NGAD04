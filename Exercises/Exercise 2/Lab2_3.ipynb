{
 "cells": [
  {
   "cell_type": "markdown",
   "id": "1e6830d8-f993-444f-aec6-3725d9c9eae0",
   "metadata": {},
   "source": [
    "### Assignment 3: Calculating Routes"
   ]
  },
  {
   "cell_type": "markdown",
   "id": "ba517499-b7e1-4e61-85c9-05bd92e03e55",
   "metadata": {},
   "source": [
    "Continuing from the outcome of the previous assignment, we want to calculate different types of information based on the routes of users. The column trip_id denotes locations that a certain user has gone through. As such, a unique user (i.e ID=1) has gone through different locations. To do the calculations for this, we will need to use the trip_id column of the data set ***sweden_points.shp*** that we created at the last step of Assignment 2.\n",
    "\n",
    "Answer the following questions:\n",
    "\n",
    "- What was the shortest distance a user travelled between all their posts (in meters)?\n",
    "\n",
    "- What was the mean distance travelled per user (in meters)?\n",
    "\n",
    "- What was the maximum distance a user travelled (in meters)?"
   ]
  },
  {
   "cell_type": "markdown",
   "id": "91ef26cb-3c9d-4423-81be-0bb85e836b40",
   "metadata": {},
   "source": [
    "1) First, import the shapefile  and transform it into a projected system (SWEREF99, EPSG:3006)"
   ]
  },
  {
   "cell_type": "code",
   "execution_count": null,
   "id": "4032002c-1262-46f5-a14b-8c1d1aa6f536",
   "metadata": {},
   "outputs": [],
   "source": [
    "# RUN YOUR OWN CODE\n"
   ]
  },
  {
   "cell_type": "markdown",
   "id": "a026aa35-cdc2-45ef-b26c-b1398b4e9995",
   "metadata": {},
   "source": [
    " 2) Following, group the data by user id."
   ]
  },
  {
   "cell_type": "code",
   "execution_count": null,
   "id": "1871c7c9-583c-4d7b-95b3-2f91b828f642",
   "metadata": {},
   "outputs": [],
   "source": [
    "# RUN YOUR OWN CODE\n"
   ]
  },
  {
   "cell_type": "code",
   "execution_count": null,
   "id": "70d287eb-62ba-40db-bf10-d418a308e098",
   "metadata": {},
   "outputs": [],
   "source": [
    "#  Check if your code works, adjust for variable names if needed\n",
    "assert len(grouped_by_trip_id.groups) == len(sweden_points[\"trip_id\"].unique()), \"Number of groups should match number of unique users!\"\n"
   ]
  },
  {
   "cell_type": "markdown",
   "id": "11ede585-081c-4541-b48c-e3d35c410622",
   "metadata": {},
   "source": [
    "3) Create ***shapely.geometry.LineString*** objects for each user. There are multiple ways to solve this problem (see the hints for this exercise). You can use, for instance, a dictionary or an empty GeoDataFrame to collect data that is generated using the steps below:\n",
    "\n",
    "- Use a for-loop to iterate over the grouped object.\n",
    "- For each user’s data: create a shapely.geometry.LineString based on the user’s points.\n",
    "- Store the results in a geopandas.GeoDataFrame called ***movements***, and remember to assign a CRS."
   ]
  },
  {
   "cell_type": "code",
   "execution_count": null,
   "id": "c5233cfa-c57c-48a5-9327-d801188d5b43",
   "metadata": {},
   "outputs": [],
   "source": [
    "# RUN YOUR OWN CODE"
   ]
  },
  {
   "cell_type": "code",
   "execution_count": null,
   "id": "18bf6411-40a3-40d9-a45f-65bcb0ecc813",
   "metadata": {},
   "outputs": [],
   "source": [
    "# Check the result\n",
    "\n"
   ]
  },
  {
   "cell_type": "markdown",
   "id": "8f4a9a13-4ebd-401a-bc12-20bcd0c98f2b",
   "metadata": {},
   "source": [
    "4) Calculate the distance between all locations of a user.\n",
    "Compute the lengths of the lines, and store it in a new column called ***distance***.\n"
   ]
  },
  {
   "cell_type": "code",
   "execution_count": null,
   "id": "760b29d6-eb23-435b-a2d5-bbfa6688c5c3",
   "metadata": {},
   "outputs": [],
   "source": [
    "# RUN YOUR OWN CODE"
   ]
  },
  {
   "cell_type": "markdown",
   "id": "b4731422-efc2-4203-8c20-62d0e05be44b",
   "metadata": {},
   "source": [
    "\n",
    "\n",
    "5) What was the shortest distance a user travelled between all their posts (in meters)? (store the value in a variable shortest_distance)\n",
    " \n",
    "   What was the mean distance travelled per user (in meters)? (store the value in a variable mean_distance)\n",
    "\n",
    "   What was the maximum distance a user travelled (in meters)? (store the value in a variable longest_distance)"
   ]
  },
  {
   "cell_type": "code",
   "execution_count": null,
   "id": "f6d3f800-7914-4086-a5df-ffd31f36ec50",
   "metadata": {},
   "outputs": [],
   "source": [
    "# Shortest distance traveled by each user\n",
    "\n",
    "\n",
    "# Mean distance traveled by each user\n",
    "\n",
    "\n",
    "# Longest distance traveled by each user\n"
   ]
  },
  {
   "cell_type": "markdown",
   "id": "b502828a-b060-4337-bb9f-293fce6009fc",
   "metadata": {},
   "source": [
    "Great work! Upload the Jupyter Notebook files on Canvas!"
   ]
  },
  {
   "cell_type": "code",
   "execution_count": null,
   "id": "ed0f9649-d4bb-40af-9fc1-9310e129d92b",
   "metadata": {},
   "outputs": [],
   "source": []
  }
 ],
 "metadata": {
  "kernelspec": {
   "display_name": "Python 3 (ipykernel)",
   "language": "python",
   "name": "python3"
  },
  "language_info": {
   "codemirror_mode": {
    "name": "ipython",
    "version": 3
   },
   "file_extension": ".py",
   "mimetype": "text/x-python",
   "name": "python",
   "nbconvert_exporter": "python",
   "pygments_lexer": "ipython3",
   "version": "3.11.8"
  }
 },
 "nbformat": 4,
 "nbformat_minor": 5
}
