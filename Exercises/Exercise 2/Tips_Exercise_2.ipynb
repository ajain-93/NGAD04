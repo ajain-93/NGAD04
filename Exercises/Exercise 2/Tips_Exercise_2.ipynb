{
 "cells": [
  {
   "cell_type": "markdown",
   "id": "adde6780-1e08-4c1b-a937-a7ebfd9802cb",
   "metadata": {},
   "source": [
    "##  TIPS"
   ]
  },
  {
   "cell_type": "markdown",
   "id": "d6516e4f-63d2-474e-aa4e-4ac135a9d646",
   "metadata": {},
   "source": [
    "### Converting a pandas DataFrame to a geopandas GeoDataFrame\n",
    "\n",
    "Sometimes we can encounter non-spatial data formats, like Excel or CSV files, which, can include geographical information such as longitude and latitude coordinates. While `geopandas` offers the `read_file()` function capable of importing various file types, it is often more reliable to first use `pandas` for data ingestion, followed by a conversion into a `GeoDataFrame`.\n",
    "\n",
    "Suppose we have imported a dataset into a pandas DataFrame named `df` using the `pandas.read_csv()` method:\n"
   ]
  },
  {
   "cell_type": "code",
   "execution_count": 28,
   "id": "dc62a5a2-cad5-42b7-8b89-769e101cbc28",
   "metadata": {},
   "outputs": [
    {
     "name": "stdout",
     "output_type": "stream",
     "text": [
      "   longitude  latitude\n",
      "0    18.0686   59.3289\n",
      "1    18.0330   59.3299\n",
      "2    18.0758   59.3266\n"
     ]
    }
   ],
   "source": [
    "import pandas as pd\n",
    "\n",
    "# Creating a DataFrame with new coordinates in Stockholm, Sweden\n",
    "data = {\n",
    "    \"longitude\": [18.0686, 18.0330, 18.0758],  # Coordinates for Stockholm City Hall, Vasa Museum, and Skansen respectively\n",
    "    \"latitude\": [59.3289, 59.3299, 59.3266]\n",
    "}\n",
    "\n",
    "df = pd.DataFrame(data)\n",
    "\n",
    "print(df)\n"
   ]
  },
  {
   "cell_type": "code",
   "execution_count": 29,
   "id": "a875a7f8-64c1-448f-808a-d7ab50980f13",
   "metadata": {},
   "outputs": [
    {
     "data": {
      "text/html": [
       "<div>\n",
       "<style scoped>\n",
       "    .dataframe tbody tr th:only-of-type {\n",
       "        vertical-align: middle;\n",
       "    }\n",
       "\n",
       "    .dataframe tbody tr th {\n",
       "        vertical-align: top;\n",
       "    }\n",
       "\n",
       "    .dataframe thead th {\n",
       "        text-align: right;\n",
       "    }\n",
       "</style>\n",
       "<table border=\"1\" class=\"dataframe\">\n",
       "  <thead>\n",
       "    <tr style=\"text-align: right;\">\n",
       "      <th></th>\n",
       "      <th>longitude</th>\n",
       "      <th>latitude</th>\n",
       "    </tr>\n",
       "  </thead>\n",
       "  <tbody>\n",
       "    <tr>\n",
       "      <th>0</th>\n",
       "      <td>18.0686</td>\n",
       "      <td>59.3289</td>\n",
       "    </tr>\n",
       "    <tr>\n",
       "      <th>1</th>\n",
       "      <td>18.0330</td>\n",
       "      <td>59.3299</td>\n",
       "    </tr>\n",
       "    <tr>\n",
       "      <th>2</th>\n",
       "      <td>18.0758</td>\n",
       "      <td>59.3266</td>\n",
       "    </tr>\n",
       "  </tbody>\n",
       "</table>\n",
       "</div>"
      ],
      "text/plain": [
       "   longitude  latitude\n",
       "0    18.0686   59.3289\n",
       "1    18.0330   59.3299\n",
       "2    18.0758   59.3266"
      ]
     },
     "execution_count": 29,
     "metadata": {},
     "output_type": "execute_result"
    }
   ],
   "source": [
    "df"
   ]
  },
  {
   "cell_type": "markdown",
   "id": "cb839b0b-f9fe-4d3b-b9f0-b349b9c05049",
   "metadata": {},
   "source": [
    "To transform a `pandas.DataFrame` into a `geopandas.GeoDataFrame`, the `geopandas.GeoDataFrame()` function can be used. This function requires the input DataFrame but does not automatically populate the geometry column. To assist with this, `geopandas` provides a convenient function, `geopandas.points_from_xy()`, for generating geometric data. Additionally, it's crucial to define a Coordinate Reference System (CRS) for spatial datasets. With `geopandas`, you can easily specify the CRS for your input data as follows:\n"
   ]
  },
  {
   "cell_type": "code",
   "execution_count": 30,
   "id": "0e97547d-0ec9-4653-bed2-03caba0eaa35",
   "metadata": {},
   "outputs": [
    {
     "data": {
      "text/html": [
       "<div>\n",
       "<style scoped>\n",
       "    .dataframe tbody tr th:only-of-type {\n",
       "        vertical-align: middle;\n",
       "    }\n",
       "\n",
       "    .dataframe tbody tr th {\n",
       "        vertical-align: top;\n",
       "    }\n",
       "\n",
       "    .dataframe thead th {\n",
       "        text-align: right;\n",
       "    }\n",
       "</style>\n",
       "<table border=\"1\" class=\"dataframe\">\n",
       "  <thead>\n",
       "    <tr style=\"text-align: right;\">\n",
       "      <th></th>\n",
       "      <th>longitude</th>\n",
       "      <th>latitude</th>\n",
       "      <th>geometry</th>\n",
       "    </tr>\n",
       "  </thead>\n",
       "  <tbody>\n",
       "    <tr>\n",
       "      <th>0</th>\n",
       "      <td>18.0686</td>\n",
       "      <td>59.3289</td>\n",
       "      <td>POINT (18.06860 59.32890)</td>\n",
       "    </tr>\n",
       "    <tr>\n",
       "      <th>1</th>\n",
       "      <td>18.0330</td>\n",
       "      <td>59.3299</td>\n",
       "      <td>POINT (18.03300 59.32990)</td>\n",
       "    </tr>\n",
       "    <tr>\n",
       "      <th>2</th>\n",
       "      <td>18.0758</td>\n",
       "      <td>59.3266</td>\n",
       "      <td>POINT (18.07580 59.32660)</td>\n",
       "    </tr>\n",
       "  </tbody>\n",
       "</table>\n",
       "</div>"
      ],
      "text/plain": [
       "   longitude  latitude                   geometry\n",
       "0    18.0686   59.3289  POINT (18.06860 59.32890)\n",
       "1    18.0330   59.3299  POINT (18.03300 59.32990)\n",
       "2    18.0758   59.3266  POINT (18.07580 59.32660)"
      ]
     },
     "execution_count": 30,
     "metadata": {},
     "output_type": "execute_result"
    }
   ],
   "source": [
    "import geopandas\n",
    "\n",
    "gdf = geopandas.GeoDataFrame(\n",
    "    df,\n",
    "    geometry=geopandas.points_from_xy(df.longitude, df.latitude),\n",
    "    crs=\"EPSG:4326\"\n",
    ")\n",
    "\n",
    "gdf"
   ]
  },
  {
   "cell_type": "markdown",
   "id": "0347b613-48f9-4916-96c1-45068724ea99",
   "metadata": {},
   "source": [
    "We now possess a 'proper' `GeoDataFrame`, ready for any geospatial operations we might wish to undertake.\n",
    "\n",
    "### Creating a New `geopandas.GeoDataFrame`: Alternative 1\n",
    "\n",
    "There are scenarios where beginning with an empty dataset and incrementally adding records is the most sensible approach. `geopandas` facilitates this process, allowing the creation of DataFrames that can subsequently be exported as a new geopackage or shapefile.\n",
    "\n",
    "To start, we create a completely empty `GeoDataFrame`:\n"
   ]
  },
  {
   "cell_type": "code",
   "execution_count": 31,
   "id": "070b55d8-078c-430c-8205-43cdcc56ab91",
   "metadata": {},
   "outputs": [],
   "source": [
    "import geopandas\n",
    "\n",
    "new_geodataframe = geopandas.GeoDataFrame()"
   ]
  },
  {
   "cell_type": "markdown",
   "id": "48b7a3e1-14d4-4142-b255-9b2c7fc9357a",
   "metadata": {},
   "source": [
    "Then, create shapely geometry objects and insert them into the data frame. To insert a geometry object into the geometry column, and a name into the name column, in a newly added row, use:"
   ]
  },
  {
   "cell_type": "code",
   "execution_count": 32,
   "id": "610e760c-3dc3-483b-ae7c-c44366925a25",
   "metadata": {},
   "outputs": [
    {
     "data": {
      "text/html": [
       "<div>\n",
       "<style scoped>\n",
       "    .dataframe tbody tr th:only-of-type {\n",
       "        vertical-align: middle;\n",
       "    }\n",
       "\n",
       "    .dataframe tbody tr th {\n",
       "        vertical-align: top;\n",
       "    }\n",
       "\n",
       "    .dataframe thead th {\n",
       "        text-align: right;\n",
       "    }\n",
       "</style>\n",
       "<table border=\"1\" class=\"dataframe\">\n",
       "  <thead>\n",
       "    <tr style=\"text-align: right;\">\n",
       "      <th></th>\n",
       "      <th>name</th>\n",
       "      <th>geometry</th>\n",
       "    </tr>\n",
       "  </thead>\n",
       "  <tbody>\n",
       "    <tr>\n",
       "      <th>0</th>\n",
       "      <td>Gamla Stan</td>\n",
       "      <td>POLYGON ((18.06750 59.32510, 18.06750 59.32580...</td>\n",
       "    </tr>\n",
       "  </tbody>\n",
       "</table>\n",
       "</div>"
      ],
      "text/plain": [
       "         name                                           geometry\n",
       "0  Gamla Stan  POLYGON ((18.06750 59.32510, 18.06750 59.32580..."
      ]
     },
     "execution_count": 32,
     "metadata": {},
     "output_type": "execute_result"
    }
   ],
   "source": [
    "import shapely.geometry\n",
    "\n",
    "# Defining a polygon around Gamla Stan, Stockholm, Sweden\n",
    "polygon = shapely.geometry.Polygon(\n",
    "    [\n",
    "        (18.0675, 59.3251),  # Bottom left corner\n",
    "        (18.0675, 59.3258),  # Top left corner\n",
    "        (18.0701, 59.3258),  # Top right corner\n",
    "        (18.0701, 59.3251)   # Bottom right corner\n",
    "    ]\n",
    ")\n",
    "\n",
    "name = \"Gamla Stan\"\n",
    "\n",
    "# Assuming 'new_geodataframe' is already defined and is a GeoDataFrame\n",
    "new_geodataframe.loc[\n",
    "    len(new_geodataframe),  # in which row,\n",
    "    [\"name\", \"geometry\"]    # in which columns to save values\n",
    "] = [name, polygon]\n",
    "\n",
    "new_geodataframe\n"
   ]
  },
  {
   "cell_type": "markdown",
   "id": "a9832679-c48e-4611-95d8-4ae766ee5e92",
   "metadata": {},
   "source": [
    "Before saving the newly created dataset, don’t forget to define a CRS for it. Otherwise, you will have issues reusing the file in other GIS software/programs:"
   ]
  },
  {
   "cell_type": "code",
   "execution_count": 37,
   "id": "052fb172-6158-4df7-b952-4db7cdd20254",
   "metadata": {},
   "outputs": [
    {
     "data": {
      "text/html": [
       "<div>\n",
       "<style scoped>\n",
       "    .dataframe tbody tr th:only-of-type {\n",
       "        vertical-align: middle;\n",
       "    }\n",
       "\n",
       "    .dataframe tbody tr th {\n",
       "        vertical-align: top;\n",
       "    }\n",
       "\n",
       "    .dataframe thead th {\n",
       "        text-align: right;\n",
       "    }\n",
       "</style>\n",
       "<table border=\"1\" class=\"dataframe\">\n",
       "  <thead>\n",
       "    <tr style=\"text-align: right;\">\n",
       "      <th></th>\n",
       "      <th>name</th>\n",
       "      <th>geometry</th>\n",
       "    </tr>\n",
       "  </thead>\n",
       "  <tbody>\n",
       "    <tr>\n",
       "      <th>0</th>\n",
       "      <td>Gamla Stan</td>\n",
       "      <td>POLYGON ((18.06750 59.32510, 18.06750 59.32580...</td>\n",
       "    </tr>\n",
       "  </tbody>\n",
       "</table>\n",
       "</div>"
      ],
      "text/plain": [
       "         name                                           geometry\n",
       "0  Gamla Stan  POLYGON ((18.06750 59.32510, 18.06750 59.32580..."
      ]
     },
     "execution_count": 37,
     "metadata": {},
     "output_type": "execute_result"
    }
   ],
   "source": [
    "\n",
    "\n",
    "# Now, explicitly set the 'geometry' column as the active geometry column\n",
    "new_geodataframe = new_geodataframe.set_geometry('geometry')\n",
    "\n",
    "# After setting the geometry column, you can safely define the CRS\n",
    "new_geodataframe.crs = \"EPSG:4326\"\n",
    "\n",
    "new_geodataframe\n"
   ]
  },
  {
   "cell_type": "markdown",
   "id": "3d0a481a-e910-473e-9c26-d34f6139382b",
   "metadata": {},
   "source": [
    "In the previous example, we utilized `len(new_geodataframe)` to determine the row index for inserting a new record. In the context of a newly initiated DataFrame, this index corresponds directly to the next sequential row number. Given that row indexing commences from 0, the DataFrame's length—indicative of its row count—is invariably one unit higher than the index of its final row. Consequently, this method guarantees the addition of a new row, irrespective of the DataFrame's current size.\n",
    "\n",
    "It's important to note that, while in freshly created DataFrames the index and row numbers typically align, the index itself is an independent entity and does not always mirror the actual row numbers.\n"
   ]
  },
  {
   "cell_type": "markdown",
   "id": "c7db914d-2d2e-4542-a68c-8b57675e3319",
   "metadata": {},
   "source": [
    "### Creating a New `geopandas.GeoDataFrame`: Alternative 2\n",
    "\n",
    "In many cases, it proves to be both more convenient and elegant to initially compile data into a dictionary, subsequently transforming it into a DataFrame in a singular operation.\n",
    "\n",
    "To begin, establish a dictionary wherein column names serve as keys, paired with empty lists as their respective values:\n"
   ]
  },
  {
   "cell_type": "code",
   "execution_count": 38,
   "id": "5db8a4bc-2ea1-4869-bb06-bf7a9f4c07af",
   "metadata": {},
   "outputs": [],
   "source": [
    "data = {\n",
    "    \"name\": [],\n",
    "    \"geometry\": []\n",
    "}"
   ]
  },
  {
   "cell_type": "code",
   "execution_count": 39,
   "id": "a110b398-7c4c-4325-8105-29c97047ae9b",
   "metadata": {},
   "outputs": [],
   "source": [
    "import shapely.geometry\n",
    "\n",
    "data[\"name\"].append(\"Gamla Stan\")\n",
    "data[\"geometry\"].append(\n",
    "    shapely.geometry.Polygon(\n",
    "        [\n",
    "        (18.0675, 59.3251),  \n",
    "        (18.0675, 59.3258),  \n",
    "        (18.0701, 59.3258),  \n",
    "        (18.0701, 59.3251)   \n",
    "        ]\n",
    "    )\n",
    ")"
   ]
  },
  {
   "cell_type": "markdown",
   "id": "65a1dcca-e9a2-4338-a57b-e6934feb89db",
   "metadata": {},
   "source": [
    "Finally, use this dictionary as input for a new GeoDataFrame. Don’t forget to specify a CRS:\n",
    "\n"
   ]
  },
  {
   "cell_type": "code",
   "execution_count": 40,
   "id": "578856c0-b17e-45d9-97a3-73264cba19ea",
   "metadata": {},
   "outputs": [
    {
     "data": {
      "text/html": [
       "<div>\n",
       "<style scoped>\n",
       "    .dataframe tbody tr th:only-of-type {\n",
       "        vertical-align: middle;\n",
       "    }\n",
       "\n",
       "    .dataframe tbody tr th {\n",
       "        vertical-align: top;\n",
       "    }\n",
       "\n",
       "    .dataframe thead th {\n",
       "        text-align: right;\n",
       "    }\n",
       "</style>\n",
       "<table border=\"1\" class=\"dataframe\">\n",
       "  <thead>\n",
       "    <tr style=\"text-align: right;\">\n",
       "      <th></th>\n",
       "      <th>name</th>\n",
       "      <th>geometry</th>\n",
       "    </tr>\n",
       "  </thead>\n",
       "  <tbody>\n",
       "    <tr>\n",
       "      <th>0</th>\n",
       "      <td>Gamla Stan</td>\n",
       "      <td>POLYGON ((18.06750 59.32510, 18.06750 59.32580...</td>\n",
       "    </tr>\n",
       "  </tbody>\n",
       "</table>\n",
       "</div>"
      ],
      "text/plain": [
       "         name                                           geometry\n",
       "0  Gamla Stan  POLYGON ((18.06750 59.32510, 18.06750 59.32580..."
      ]
     },
     "execution_count": 40,
     "metadata": {},
     "output_type": "execute_result"
    }
   ],
   "source": [
    "new_geodataframe = geopandas.GeoDataFrame(data, crs=\"EPSG:4326\")\n",
    "new_geodataframe"
   ]
  },
  {
   "cell_type": "code",
   "execution_count": null,
   "id": "e51dd748-675a-415b-92b3-bc82c770bd5b",
   "metadata": {},
   "outputs": [],
   "source": []
  }
 ],
 "metadata": {
  "kernelspec": {
   "display_name": "Python (new_geopy_env)",
   "language": "python",
   "name": "new_geopy_env"
  },
  "language_info": {
   "codemirror_mode": {
    "name": "ipython",
    "version": 3
   },
   "file_extension": ".py",
   "mimetype": "text/x-python",
   "name": "python",
   "nbconvert_exporter": "python",
   "pygments_lexer": "ipython3",
   "version": "3.11.8"
  }
 },
 "nbformat": 4,
 "nbformat_minor": 5
}
