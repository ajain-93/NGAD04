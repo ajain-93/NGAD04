{
 "cells": [
  {
   "cell_type": "markdown",
   "id": "7a9230ae",
   "metadata": {},
   "source": [
    "\n",
    "## Hints\n",
    "\n",
    "In this notebook you will find some potential hints that can help you solve the tasks of exercise 1. \n",
    "\n",
    "- [Introduction to Python lecture 4: Functions](https://github.com/Sgeorgan/Lecture_4)\n",
    "- [Introduction to Python lecture 6: Iterating dataframe rows](https://github.com/Sgeorgan/Lecture_6)\n",
    "- [Introduction to Python lecture 6: Using assertions](https://github.com/Sgeorgan/Lecture_6)\n",
    "\n",
    "\n",
    "### `assert` statements\n",
    "\n",
    "# Assertions in Python\n",
    "\n",
    "**Assertions** are a language feature in Python that enable programmers to verify that a certain condition is met. This feature is particularly useful for ensuring that variables are within an appropriate range, or having the right type for further analysis. For example, in a function that converts temperatures, an assertion can be used to check that the input value is not below absolute zero or if that input is of type float or integer.\n",
    "\n",
    "In essence, `assert` statements function similarly to an electrical fuse: if the input current is too high, the fuse blows to protect the appliance that follows. Likewise, if input values are outside an expected range, the `assert` statement triggers an error, halting the program to prevent subsequent code from running with incorrect inputs.\n",
    "\n",
    "Assertions are commonly utilized within functions to verify that input values are within acceptable bounds and sometimes part of the exercises so that the examiners (or yourself) can assess check that your code works as expected. Here's an example:\n",
    "\n",
    "```python\n"
   ]
  },
  {
   "cell_type": "code",
   "execution_count": null,
   "id": "a0f7a753-eeb4-46f0-b47f-8d70175b2635",
   "metadata": {
    "tags": []
   },
   "outputs": [],
   "source": [
    "\n",
    "def convert_temperature(value):\n",
    "    # Ensure the temperature is above absolute zero\n",
    "    assert value >= -273.15, \"Temperature below absolute zero!\"\n",
    "    # Temperature conversion logic here\n"
   ]
  },
  {
   "cell_type": "code",
   "execution_count": null,
   "id": "24981f52-62d1-4d0c-b52c-428dbb6e7c1a",
   "metadata": {
    "tags": []
   },
   "outputs": [],
   "source": [
    "convert_temperature(-290.15)"
   ]
  },
  {
   "cell_type": "markdown",
   "id": "ca5ba000-b273-4106-bf2f-616546d1b628",
   "metadata": {},
   "source": [
    "# Checking input validity in functions\n",
    "\n",
    "In Python, ensuring that function arguments are of the expected type is important for writing robust code. The isinstance() function allows one to verify that a variable or argument belongs to a specific data type or tuple of types. This is particularly useful for validating inputs to functions.\n",
    "\n",
    "The following example demonstrates how to use isinstance() to ensure that a function only processes numbers (integers and floats) by squaring them. If the input is not a number, the function raises a TypeError with an informative message, preventing unexpected behavior or errors."
   ]
  },
  {
   "cell_type": "code",
   "execution_count": null,
   "id": "7d9125f3-483d-4f9d-82f6-614f170eb164",
   "metadata": {},
   "outputs": [],
   "source": [
    "def square_number(number):\n",
    "    # Check if the input is an instance of int or float\n",
    "    if not isinstance(number, (int, float)):\n",
    "        raise TypeError(\"Input must be an integer or float\")\n",
    "    \n",
    "    # Perform the operation\n",
    "    result = number ** 2\n",
    "    \n",
    "    return result\n",
    "\n",
    "# Correct usage examples\n",
    "print(square_number(4))    # Should print 16\n",
    "print(square_number(3.5))  # Should print 12.25\n",
    "\n",
    "# Incorrect usage example, uncomment to test\n",
    "# print(square_number(\"not a number\"))  # This will raise a TypeError\n"
   ]
  },
  {
   "cell_type": "markdown",
   "id": "58386f96",
   "metadata": {},
   "source": [
    "### Alternatives to `pandas.DataFrame.iterrows()\n",
    "It is entirely possible to solve *problem 3* using the `iterrows()` approach shown here https://github.com/Sgeorgan/Lecture_6: \n",
    "and your code could look something like this:"
   ]
  },
  {
   "cell_type": "code",
   "execution_count": null,
   "id": "60b37a92",
   "metadata": {
    "tags": []
   },
   "outputs": [],
   "source": [
    "import pandas\n",
    "import shapely.geometry\n",
    "\n",
    "data = pandas.DataFrame({\"x\": [10, 20, 30], \"y\": [1, 3, 4]})\n",
    "\n",
    "# Option 1: iterate over DataFrame’s rows:\n",
    "\n",
    "for i, row in data.iterrows():\n",
    "    point = shapely.geometry.Point(row[\"x\"], row[\"y\"])\n",
    "    # ...\n"
   ]
  },
  {
   "cell_type": "markdown",
   "id": "7161ece9",
   "metadata": {},
   "source": [
    "# Enhancing Efficiency with Pandas `apply()`\n",
    "\n",
    "**However**, it's worth noting that there are better, faster, and more elegant solutions available that are also more concise. One such example is the use of the `apply()` method in Pandas' `DataFrame`s. This method allows for the execution of a user-defined function on each row or column of the DataFrame, the behavior of which is determined by the `axis` parameter. Setting `axis=1` applies the function across rows.\n",
    "\n",
    "The results of executing the function in parallel are aggregated into a `pandas.GeoSeries`, which is then returned by `apply()`. This result can subsequently be assigned to a new column or row.\n",
    "\n",
    "To illustrate, consider the following simple example: We define a function that takes a row as input and multiplies its `x` and `y` values:\n",
    "\n",
    "\n"
   ]
  },
  {
   "cell_type": "code",
   "execution_count": null,
   "id": "9ba02a00",
   "metadata": {
    "tags": []
   },
   "outputs": [],
   "source": [
    "def multiply(row):\n",
    "    \"\"\"Multiply a row’s x and y values.\"\"\"\n",
    "    return (row[\"x\"] * row[\"y\"])\n",
    "\n",
    "product = data.apply(multiply, axis=1)\n",
    "# note how the function is not called here (no parentheses!),\n",
    "# but only passed as a reference\n",
    "\n",
    "product = list(product)\n",
    "product"
   ]
  },
  {
   "cell_type": "markdown",
   "id": "779f1339",
   "metadata": {},
   "source": [
    "#### Pandas’ `apply()` method\n",
    "\n",
    "Exactly the same can be done with the more complex example of creating a point geometry:"
   ]
  },
  {
   "cell_type": "code",
   "execution_count": null,
   "id": "99ba6b8e",
   "metadata": {
    "tags": []
   },
   "outputs": [],
   "source": [
    "# Option 2: Define a custom function, and apply this function to the data frame\n",
    "\n",
    "def create_point(row):\n",
    "    \"\"\"Create a Point geometry from a row with x and y values.\"\"\"\n",
    "    point = shapely.geometry.Point(row[\"x\"], row[\"y\"])\n",
    "    return point\n",
    "\n",
    "point_series = data.apply(create_point, axis=1)\n"
   ]
  },
  {
   "cell_type": "markdown",
   "id": "6af36599",
   "metadata": {},
   "source": [
    "### Applying a Lambda Function\n",
    "\n",
    "For straightforward functions that are concise enough to fit in a single line, it's possible to utilize what's known as a *lambda function* or *lambda notation*. Lambda functions adhere to the syntax `lambda arguments: return-value`, which involves the `lambda` keyword followed by one or more argument names (separated by commas), a colon (`:`), and the expression defining the return value. For instance, a lambda function that takes two arguments and returns their sum would be written as `lambda a, b: (a + b)`.\n",
    "\n",
    "These lambda functions are useful for their brevity and are meant to be used directly where they're defined, providing a convenient way to incorporate simple expressions without the need for defining separate functions. Although prevalent in data science, lambda functions should be used with caution. As a general guideline, lambda functions are best reserved for cases where the code can comfortably fit on one (short) line.\n",
    "\n",
    "\n",
    "\n",
    "You can find more detailed information on lambda functions in the [Python documentation](https://docs.python.org/3/tutorial/controlflow.html#lambda-expressions).\n",
    "\n",
    "\n",
    "In the context of the previously mentioned geo-spatial problem, a lambda function can be applied to generate a point 'on-the-fly':\n"
   ]
  },
  {
   "cell_type": "code",
   "execution_count": null,
   "id": "39bac53c",
   "metadata": {},
   "outputs": [],
   "source": [
    "# Option 3: Apply a lambda function to the data frame\n",
    "\n",
    "point_series = data.apply(\n",
    "    lambda row: shapely.geometry.Point(row[\"x\"], row[\"y\"]),\n",
    "    axis=1\n",
    ")\n",
    "point_series"
   ]
  },
  {
   "cell_type": "markdown",
   "id": "1e92b617",
   "metadata": {},
   "source": [
    "\n",
    "### Iterating over multiple lists simultaneously\n",
    "\n",
    "The [built-in Python function `zip()`](https://docs.python.org/3/library/functions.html#zip)\n",
    "makes it easy to work with multiple lists at the same time. It combines two or\n",
    "more lists and iterates over them in parallel, returning one value of each list\n",
    "at a time. Consider the following example:"
   ]
  },
  {
   "cell_type": "markdown",
   "id": "3b9669b6-8e37-43b5-834e-e8b2150437eb",
   "metadata": {},
   "source": [
    "## Iterating Over Lists in Parallel\n",
    "\n",
    "Python provides a straightforward way to iterate over multiple lists in parallel, which is particularly useful when you have related data in separate lists. This can be achieved using the `zip` function. `zip` takes multiple iterable objects and returns an iterator of tuples, where each tuple contains elements from each list corresponding to the same index.\n",
    "\n",
    "Consider the example of maintaining lists of pet names and their corresponding ages. Here's how you can iterate over these lists in parallel to print out a statement about each pet:\n",
    "\n"
   ]
  },
  {
   "cell_type": "code",
   "execution_count": null,
   "id": "5c9421f2-5f81-4e20-9723-9119c64dc0e5",
   "metadata": {},
   "outputs": [],
   "source": [
    "# Example lists of pet names and their ages\n",
    "pet_names = [\"Whiskers\", \"Paws\", \"Fido\"]\n",
    "pet_ages = [3, 7, 2]\n",
    "\n",
    "# Iterate over the pet names and ages lists in parallel:\n",
    "for name, age in zip(pet_names, pet_ages):\n",
    "    print(f\"{name} is {age} years old\")\n"
   ]
  },
  {
   "cell_type": "markdown",
   "id": "ba5dda43",
   "metadata": {},
   "source": [
    "\n",
    "This example illustrates quite well, why variable names should be chosen wisely: lists, for instance, almost always represent multiple values, so their names should be in plural (E.g., `dog_names`). In a loop, having more than one variable can become confusing quickly; refrain from using short names such as `i` or `j` for anything but a simple counter: use descriptive names such as `pet_name` or `pet_age` in the above example.\n",
    "\n",
    "\n",
    "\n"
   ]
  },
  {
   "cell_type": "markdown",
   "id": "f5f9612e-4a53-4425-8827-05165dad07e0",
   "metadata": {},
   "source": [
    "Sources: https://autogis-site.readthedocs.io/en/latest/lessons/lesson-1/exercise-1.html under a CC4 license https://creativecommons.org/licenses/by/4.0/deed.en"
   ]
  },
  {
   "cell_type": "code",
   "execution_count": null,
   "id": "27b3c50f-4fa6-4fed-aff7-df73a169baec",
   "metadata": {},
   "outputs": [],
   "source": []
  }
 ],
 "metadata": {
  "jupytext": {
   "text_representation": {
    "extension": ".md",
    "format_name": "myst",
    "format_version": "0.13",
    "jupytext_version": "1.14.1"
   }
  },
  "kernelspec": {
   "display_name": "Python 3 (ipykernel)",
   "language": "python",
   "name": "python3"
  },
  "language_info": {
   "codemirror_mode": {
    "name": "ipython",
    "version": 3
   },
   "file_extension": ".py",
   "mimetype": "text/x-python",
   "name": "python",
   "nbconvert_exporter": "python",
   "pygments_lexer": "ipython3",
   "version": "3.10.14"
  },
  "source_map": [
   11,
   72,
   79,
   90,
   102,
   111,
   123,
   129,
   140,
   169,
   178,
   189,
   196
  ]
 },
 "nbformat": 4,
 "nbformat_minor": 5
}
