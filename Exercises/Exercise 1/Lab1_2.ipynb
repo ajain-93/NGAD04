{
 "cells": [
  {
   "cell_type": "markdown",
   "id": "34018980-a805-4f4e-82be-5e326b11b90e",
   "metadata": {},
   "source": [
    "# Assignment 3 and 4\n",
    "\n",
    "The  focus of the following exercises is to create geometric objects and functions, from a simple text files that contain coordinate locations - in this case, latitude and longtitude values.  \n",
    "Python is an excellent tool for this kind of a task: it can read data from (almost) any input format (CSV, text, Excel, GPX, various databases).\n",
    "\n",
    "The reading of the data files is commonly done  using [pandas](https://pandas.pydata.org/), while the geometric analysis through the [shapely](https://shapely.readthedocs.io/), library.\n",
    "\n",
    "## Sample data set\n",
    "\n",
    "For this exercise, we read simulated data from a file that lists travel times between different locations.\n",
    "The data is stored in a semicolon-separated text file [`travel_times.txt`](data/travel_times.txt).\n",
    "\n",
    "The first four rows of our data look like this:\n",
    "\n",
    "```\n",
    "from_id;to_id;fromid_toid;route_number;at;from_x;from_y;to_x;to_y;total_route_time;route_time;route_distance;route_total_lines\n",
    "5807270;5814548;5807270_5814548;1;08:10;18.0715972;59.3091487;18.0900702;59.3274161;62.8095746;63.8796211;9120.9728828;3\n",
    "5800860;5813108;5800860_5813108;1;08:10;18.0658924;59.3877461;18.0421721;59.3079419;83.8267506;85.1239344;10918.6411340;2\n",
    "5805390;5817158;5805390_5817158;4;08:10;18.0027096;59.3265600;18.0276828;59.3085658;142.8083640;138.4989656;11327.4226781;2\n",
    "5805191;5817400;5805191_5817400;2;08:10;18.0221972;59.3129515;18.0592350;59.3894191;72.4615612;117.2012476;11165.3161290;1\n",
    "```\n",
    "\n",
    "In this exercise, we are interested in the following columns:\n",
    "\n",
    "| Column name        | Description                                              |\n",
    "|:------------------ |:-------------------------------------------------------- |\n",
    "| `from_x`           | x-coordinate of the **origin** location (longitude)      |\n",
    "| `from_y`           | y-coordinate of the **origin** location (latitude)       |\n",
    "| `to_x`             | x-coordinate of the **destination** location (longitude) |\n",
    "| `to_y`             | y-coordinate of the **destination** location (latitude)  |\n",
    "| `total_route_time` | Travel time with public transportation at the route      |\n",
    "\n",
    "\n",
    "NOTE: At the parts where your code can be checked (i.e., # CODE CELL FOR TESTING YOUR SOLUTION) you might need to adjust the variable names if you have used different. In general, you can adapt any part of the code and customize it as you wish, as long as you fulfil the primary objectives.\n"
   ]
  },
  {
   "cell_type": "markdown",
   "id": "395629d2-2e7b-4ad1-a9cd-6e21580680ce",
   "metadata": {},
   "source": [
    "\n",
    "----\n",
    "\n",
    "## Assignment 3: Reading coordinates from a text file, and creating geometries\n",
    "\n",
    "In this problem, your task is to read data from the file described above, and create two lists of points representing \n",
    "the origins and destinations of the routes described in the data set.\n",
    "\n",
    "This task entails multiple steps:\n",
    "\n",
    "1. Read the data into a `pandas.DataFrame`\n",
    "2. Discard all unnecessary columns (this is good practice, as it helps reduce the memory footprint of a program)\n",
    "3. Create two lists of `shapely.geometry.Point`s\n",
    "\n",
    "Let’s go step-by-step. \n"
   ]
  },
  {
   "cell_type": "markdown",
   "id": "f34a29aa-5090-4319-b4e8-b575e9a2927c",
   "metadata": {},
   "source": [
    "\n",
    "----\n",
    "\n",
    "#### (1)\n",
    "\n",
    "First, use `pandas` to read the file into a variable `data`. Consult the [pandas documentation](https://pandas.pydata.org/docs/user_guide/) to find the best way to do this."
   ]
  },
  {
   "cell_type": "code",
   "execution_count": 1,
   "id": "f8578b22-d57a-47fb-89f1-9927f8dec794",
   "metadata": {},
   "outputs": [],
   "source": [
    "# RUN YOUR OWN CODE HERE\n",
    "import pandas as pd\n",
    "\n",
    "filepath = \"/geopython/Exercises/Exercise 1/simulated_travel_times_stockholm.txt\"\n",
    "data = pd.read_csv(filepath, sep=\";\")"
   ]
  },
  {
   "cell_type": "markdown",
   "id": "fd21dad5-ff6c-4de2-8ea5-ff0f0b36e1c2",
   "metadata": {},
   "source": [
    "As a little sanity check, print the number of rows and columns of the data set:"
   ]
  },
  {
   "cell_type": "code",
   "execution_count": 2,
   "id": "90db54e1-0b24-4b23-acb6-0f1b53e278af",
   "metadata": {},
   "outputs": [
    {
     "name": "stdout",
     "output_type": "stream",
     "text": [
      "(240, 13)\n"
     ]
    }
   ],
   "source": [
    "# RUN YOUR OWN CODE HERE\n",
    "print(data.shape)"
   ]
  },
  {
   "cell_type": "markdown",
   "id": "42f58129-16da-42e3-bbae-3dfea5065550",
   "metadata": {},
   "source": [
    "If you loaded the data set successfully, the following code cell will print the first few rows of the data:"
   ]
  },
  {
   "cell_type": "code",
   "execution_count": 3,
   "id": "83bd730d-b0cb-4158-b342-df35cd2902bd",
   "metadata": {},
   "outputs": [
    {
     "data": {
      "text/html": [
       "<div>\n",
       "<style scoped>\n",
       "    .dataframe tbody tr th:only-of-type {\n",
       "        vertical-align: middle;\n",
       "    }\n",
       "\n",
       "    .dataframe tbody tr th {\n",
       "        vertical-align: top;\n",
       "    }\n",
       "\n",
       "    .dataframe thead th {\n",
       "        text-align: right;\n",
       "    }\n",
       "</style>\n",
       "<table border=\"1\" class=\"dataframe\">\n",
       "  <thead>\n",
       "    <tr style=\"text-align: right;\">\n",
       "      <th></th>\n",
       "      <th>from_id</th>\n",
       "      <th>to_id</th>\n",
       "      <th>fromid_toid</th>\n",
       "      <th>route_number</th>\n",
       "      <th>at</th>\n",
       "      <th>from_x</th>\n",
       "      <th>from_y</th>\n",
       "      <th>to_x</th>\n",
       "      <th>to_y</th>\n",
       "      <th>total_route_time</th>\n",
       "      <th>route_time</th>\n",
       "      <th>route_distance</th>\n",
       "      <th>route_total_lines</th>\n",
       "    </tr>\n",
       "  </thead>\n",
       "  <tbody>\n",
       "    <tr>\n",
       "      <th>0</th>\n",
       "      <td>5807270</td>\n",
       "      <td>5814548</td>\n",
       "      <td>5807270_5814548</td>\n",
       "      <td>1</td>\n",
       "      <td>08:10</td>\n",
       "      <td>18.071597</td>\n",
       "      <td>59.309149</td>\n",
       "      <td>18.090070</td>\n",
       "      <td>59.327416</td>\n",
       "      <td>62.809575</td>\n",
       "      <td>63.879621</td>\n",
       "      <td>9120.972883</td>\n",
       "      <td>3</td>\n",
       "    </tr>\n",
       "    <tr>\n",
       "      <th>1</th>\n",
       "      <td>5800860</td>\n",
       "      <td>5813108</td>\n",
       "      <td>5800860_5813108</td>\n",
       "      <td>1</td>\n",
       "      <td>08:10</td>\n",
       "      <td>18.065892</td>\n",
       "      <td>59.387746</td>\n",
       "      <td>18.042172</td>\n",
       "      <td>59.307942</td>\n",
       "      <td>83.826751</td>\n",
       "      <td>85.123934</td>\n",
       "      <td>10918.641134</td>\n",
       "      <td>2</td>\n",
       "    </tr>\n",
       "    <tr>\n",
       "      <th>2</th>\n",
       "      <td>5805390</td>\n",
       "      <td>5817158</td>\n",
       "      <td>5805390_5817158</td>\n",
       "      <td>4</td>\n",
       "      <td>08:10</td>\n",
       "      <td>18.002710</td>\n",
       "      <td>59.326560</td>\n",
       "      <td>18.027683</td>\n",
       "      <td>59.308566</td>\n",
       "      <td>142.808364</td>\n",
       "      <td>138.498966</td>\n",
       "      <td>11327.422678</td>\n",
       "      <td>2</td>\n",
       "    </tr>\n",
       "    <tr>\n",
       "      <th>3</th>\n",
       "      <td>5805191</td>\n",
       "      <td>5817400</td>\n",
       "      <td>5805191_5817400</td>\n",
       "      <td>2</td>\n",
       "      <td>08:10</td>\n",
       "      <td>18.022197</td>\n",
       "      <td>59.312951</td>\n",
       "      <td>18.059235</td>\n",
       "      <td>59.389419</td>\n",
       "      <td>72.461561</td>\n",
       "      <td>117.201248</td>\n",
       "      <td>11165.316129</td>\n",
       "      <td>1</td>\n",
       "    </tr>\n",
       "    <tr>\n",
       "      <th>4</th>\n",
       "      <td>5805734</td>\n",
       "      <td>5813170</td>\n",
       "      <td>5805734_5813170</td>\n",
       "      <td>3</td>\n",
       "      <td>08:10</td>\n",
       "      <td>18.023107</td>\n",
       "      <td>59.388875</td>\n",
       "      <td>18.091236</td>\n",
       "      <td>59.319187</td>\n",
       "      <td>87.216702</td>\n",
       "      <td>42.716742</td>\n",
       "      <td>18614.165038</td>\n",
       "      <td>3</td>\n",
       "    </tr>\n",
       "  </tbody>\n",
       "</table>\n",
       "</div>"
      ],
      "text/plain": [
       "   from_id    to_id      fromid_toid  route_number     at     from_x  \\\n",
       "0  5807270  5814548  5807270_5814548             1  08:10  18.071597   \n",
       "1  5800860  5813108  5800860_5813108             1  08:10  18.065892   \n",
       "2  5805390  5817158  5805390_5817158             4  08:10  18.002710   \n",
       "3  5805191  5817400  5805191_5817400             2  08:10  18.022197   \n",
       "4  5805734  5813170  5805734_5813170             3  08:10  18.023107   \n",
       "\n",
       "      from_y       to_x       to_y  total_route_time  route_time  \\\n",
       "0  59.309149  18.090070  59.327416         62.809575   63.879621   \n",
       "1  59.387746  18.042172  59.307942         83.826751   85.123934   \n",
       "2  59.326560  18.027683  59.308566        142.808364  138.498966   \n",
       "3  59.312951  18.059235  59.389419         72.461561  117.201248   \n",
       "4  59.388875  18.091236  59.319187         87.216702   42.716742   \n",
       "\n",
       "   route_distance  route_total_lines  \n",
       "0     9120.972883                  3  \n",
       "1    10918.641134                  2  \n",
       "2    11327.422678                  2  \n",
       "3    11165.316129                  1  \n",
       "4    18614.165038                  3  "
      ]
     },
     "execution_count": 3,
     "metadata": {},
     "output_type": "execute_result"
    }
   ],
   "source": [
    "# CODE CELL FOR TESTING YOUR SOLUTION\n",
    "data.head()"
   ]
  },
  {
   "cell_type": "markdown",
   "id": "37f51f18-ece5-4bd7-9a3e-2cab25972362",
   "metadata": {},
   "source": [
    "\n",
    "----\n",
    "#### (2)\n",
    "\n",
    "Now, select the 4 columns that contain coordinate information (**`from_x`**, **`from_y`**, **`to_x`**, **`to_y`**), and store them in a DataFrame **`data`**. \n",
    "(i.e. update the variable `data`  to contain only these four columns)."
   ]
  },
  {
   "cell_type": "code",
   "execution_count": 4,
   "id": "238c5f84-74a1-4c0e-9e03-6ec0699dcede",
   "metadata": {},
   "outputs": [],
   "source": [
    "# RUN YOUR OWN CODE HERE\n",
    "\n",
    "data = data[[\"from_x\", \"from_y\", \"to_x\", \"to_y\"]]"
   ]
  },
  {
   "cell_type": "markdown",
   "id": "23941efa-e24a-4010-a28c-de4db2ea8a32",
   "metadata": {},
   "source": [
    "Run the following code cell to test whether you have successfully replaced `data` with only the required data columns: it prints an error if you haven’t."
   ]
  },
  {
   "cell_type": "code",
   "execution_count": 5,
   "id": "5c912a96-a2fa-4cc8-9538-c0e773640f94",
   "metadata": {},
   "outputs": [],
   "source": [
    "#  CODE CELL FOR TESTING YOUR SOLUTION\n",
    "\n",
    "assert list(data.columns) == [\n",
    "    \"from_x\",\n",
    "    \"from_y\",\n",
    "    \"to_x\",\n",
    "    \"to_y\",\n",
    "], \"Error: `data` does not (or not only) contain the four columns it should\""
   ]
  },
  {
   "cell_type": "markdown",
   "id": "886a346f-df62-40c1-8583-b1e1be2e625d",
   "metadata": {},
   "source": [
    "\n",
    "----\n",
    "\n",
    "#### (3)\n",
    "\n",
    "Finally, create two lists called **`origin_points`** and **`destination_points`** that contain `shapely.geometry.Point` objects created using the coordinates from `data`. \n",
    "\n",
    "In particular, the origin points in `origin_points` should be based on columns `from_x` and `from_y`, and the destination points in `destination_points` on columns `to_x` and `to_y`.\n",
    "\n",
    "There are many ways to achieve this, find two possible approaches below (you can implement either one of them):\n",
    "\n",
    "##### **Approach A**\n",
    "\n",
    "- Create two empty lists for the origin and destination points, respectively\n",
    "- Use a for-loop to iterate over the rows of your dataframe:\n",
    "    - For each row, create a `shapely.geometry.Point` object based on the coordinate columns\n",
    "    - Append the point object to the `origin_points` and `destination_point` lists\n",
    "\n",
    "\n",
    "##### **Approach B (more advanced)**\n",
    "\n",
    "- Make use of the `.apply()` function of the `pandas.DataFrame` to operate on all rows at once (see its [documentation](https://pandas.pydata.org/docs/reference/api/pandas.DataFrame.apply.html), *HINT:* you might want to use the `axis` parameter)\n",
    "- Use the `shapely.geometry.Point` constructor directly, or wrap it into a [lambda function](https://towardsdatascience.com/apply-and-lambda-usage-in-pandas-b13a1ea037f7)\n",
    "- Finally, convert the output `pandas.Series` into `list`s\n",
    "\n",
    "\n",
    "\n"
   ]
  },
  {
   "cell_type": "code",
   "execution_count": 6,
   "id": "62357159-83a9-4bc8-868f-164eda80cae0",
   "metadata": {},
   "outputs": [],
   "source": [
    "# RUN YOUR OWN CODE HERE\n",
    "from shapely.geometry import Point\n",
    "\n",
    "origin_points = [Point(origin[\"from_x\"], origin[\"from_y\"]) for idx, origin in data.iterrows()]\n",
    "destination_points = [Point(destination[\"to_x\"], destination[\"to_y\"]) for idx, destination in data.iterrows()]"
   ]
  },
  {
   "cell_type": "markdown",
   "id": "1e53cd12-2050-458c-9280-9f8abdce43e5",
   "metadata": {},
   "source": [
    "\n",
    "**NOTE: After you have solved this problem, there might be some left-over variables around.<br />We recommend you *restart the kernel and run all cells* from the toolbar or JupyterLab’s menu.***\n"
   ]
  },
  {
   "cell_type": "markdown",
   "id": "ae36d639-f03a-4261-9faf-337db2d498a9",
   "metadata": {},
   "source": [
    "\n",
    "Use the following code cell to test whether your solution works:"
   ]
  },
  {
   "cell_type": "code",
   "execution_count": 7,
   "id": "3c6aaeef-3b0e-4e70-8645-24fa5a5581f6",
   "metadata": {
    "tags": []
   },
   "outputs": [
    {
     "name": "stdout",
     "output_type": "stream",
     "text": [
      "ORIGIN X Y: 18.0715972 59.3091487\n",
      "DESTINATION X Y: 18.0900702 59.3274161\n"
     ]
    }
   ],
   "source": [
    "# CODE CELL FOR TESTING YOUR SOLUTION\n",
    "\n",
    "# This test print should print out the first origin and destination coordinates in the two lists:\n",
    "print(\"ORIGIN X Y:\", origin_points[0].x, origin_points[0].y)\n",
    "print(\"DESTINATION X Y:\", destination_points[0].x, destination_points[0].y)\n",
    "\n",
    "# Check that you created a correct amount of points:\n",
    "assert len(origin_points) == len(\n",
    "    data\n",
    "), \"Number of origin points must be the same as number of rows in the original file\"\n",
    "assert len(destination_points) == len(\n",
    "    data\n",
    "), \"Number of destination points must be the same as number of rows in the original file\""
   ]
  },
  {
   "cell_type": "markdown",
   "id": "425a0a1c-3a2e-45cd-88ce-a5a80bf51f2c",
   "metadata": {},
   "source": [
    "\n",
    "\n",
    "### Done!\n",
    "\n",
    "That’s it. Now you are ready to continue to problem 4."
   ]
  },
  {
   "cell_type": "markdown",
   "id": "2c5d474f-596c-4d4b-ab6c-d8df2a1b3b1c",
   "metadata": {},
   "source": [
    "\n",
    "----\n",
    "\n",
    "## Assignment 4: Creating LineStrings that represent the movements:\n",
    "\n",
    "This problem continues where we left off after completing *Assignment 3*. \n",
    "\n",
    "The task is to:\n",
    "\n",
    "1. create a list lines (`shapely.geometry.LineString`) between each pair of origin and destination points, and \n",
    "2. calculate the over-all total_length of all those lines.\n",
    "\n",
    "Store the list of lines in a variable called `lines`, and the sum of lengths in a variable called `total_length`.\n",
    "\n",
    "Once you have working solutions for both tasks, \n",
    "\n",
    "3. create functions for them so you can apply them to other similar data sets in the future (see instructions below)."
   ]
  },
  {
   "cell_type": "markdown",
   "id": "29fbd78c-7405-4c2b-b47a-009651d4521b",
   "metadata": {},
   "source": [
    "#### (1)\n",
    "\n",
    "To create the `shapely.geometry.LineString`s for each pair of origins and destinations, you need to loop over both lists at the same time.\n",
    "\n",
    "Again, there are many ways to achieve this, here are two suggestions:\n",
    "\n",
    "- (alternative 1) Use the `zip()` function that allows you to iterate over multiple lists at the same time. See this week’s exercise hints!\n",
    "- (alternative 2) Use the *for-range loop*  and an index variable to access the same value in both lists\n"
   ]
  },
  {
   "cell_type": "code",
   "execution_count": 8,
   "id": "c81af422-cff0-47c5-a0ac-b0a61dfc3296",
   "metadata": {},
   "outputs": [],
   "source": [
    "# RUN YOUR OWN CODE HERE\n",
    "from shapely.geometry import LineString\n",
    "\n",
    "lines = [\n",
    "    LineString([origin, destination])\n",
    "    for origin, destination in zip(origin_points, destination_points)\n",
    "]"
   ]
  },
  {
   "cell_type": "markdown",
   "id": "857f8411-2201-4fe2-9198-560800f1ad78",
   "metadata": {},
   "source": [
    "\n",
    "**NOTE: After you have solved this problem, there might be some left-over variables around.<br />We recommend you *restart the kernel and run all cells* from the toolbar or JupyterLab’s menu.***\n"
   ]
  },
  {
   "cell_type": "code",
   "execution_count": 9,
   "id": "af46ba36-e4e8-472d-954d-4e0bfeddb27c",
   "metadata": {},
   "outputs": [],
   "source": [
    "# CODE CELL FOR TESTING YOUR SOLUTION\n",
    "\n",
    "# Test that the list has correct number of LineStrings\n",
    "assert len(lines) == len(\n",
    "    data\n",
    "), \"There should be as many lines as there are rows in the original data\""
   ]
  },
  {
   "cell_type": "markdown",
   "id": "2c476228-8afd-41f4-ba52-4944978ffab5",
   "metadata": {},
   "source": [
    "\n",
    "----\n",
    "\n",
    "#### (2)\n",
    "\n",
    "Create a variable called **`total_length`**, and store the total (Euclidian) distance of all the origin-destination LineStrings that we just created into that variable.\n",
    "\n",
    "*Hint*: A simple solution is to start with a `total_length` of `0`, and add each line’s length while iterating over the list of lines.\n"
   ]
  },
  {
   "cell_type": "code",
   "execution_count": 10,
   "id": "56bd488a-5a26-4d6d-ac41-64f53c78ebac",
   "metadata": {},
   "outputs": [],
   "source": [
    "# RUN YOUR OWN CODE HERE\n",
    "\n",
    "total_length = sum([line.length for line in lines])"
   ]
  },
  {
   "cell_type": "code",
   "execution_count": 11,
   "id": "8f7b8aa7-ac99-473b-9b73-83ea7bf493c7",
   "metadata": {},
   "outputs": [],
   "source": [
    "# CODE CELL FOR TESTING YOUR SOLUTION\n",
    "\n",
    "assert isinstance(\n",
    "    total_length, (float, int)\n",
    "), \"The total length should be a numerical value\""
   ]
  },
  {
   "cell_type": "markdown",
   "id": "fcfbcb40-431d-4734-9e4e-5d200afd648c",
   "metadata": {},
   "source": [
    "\n",
    "----\n",
    "\n",
    "#### (3)\n",
    "\n",
    "Now, create functions that automate the functionality you implemented for part (1) and part (2) of this problem:\n",
    "\n",
    "- `create_od_lines()`: accepts two `list`s of `shapely.geometry.Point`s and returns a `list` of `shapely.geometry.LineString`s \n",
    "- `calculate_total_distance()`: takes a `list` of `shapely.geometry.LineString` geometries and returns their total length\n",
    "\n",
    "You can copy and paste the codes you have written earlier into the functions. Be sure to add a **docstring** to each function.\n",
    "Below, you can find a code cell for testing your functions (you should get the same result as earler)."
   ]
  },
  {
   "cell_type": "code",
   "execution_count": 12,
   "id": "89f14cc6-f967-4615-ba50-e3b8a49df236",
   "metadata": {},
   "outputs": [],
   "source": [
    "# RUN YOUR OWN CODE HERE\n",
    "\n",
    "# RUN YOUR OWN CODE HERE\n",
    "\n",
    "from shapely.geometry import Point, LineString\n",
    "\n",
    "\n",
    "def create_od_lines(origin_points, destination_points):\n",
    "    \"\"\"\n",
    "    Create a list of LineString objects representing origin-destination lines.\n",
    "\n",
    "    Parameters:\n",
    "    origin_points (list): A list of Shapely Point objects representing the origin points.\n",
    "    destination_points (list): A list of Shapely Point objects representing the destination points.\n",
    "\n",
    "    Returns:\n",
    "    list: A list of Shapely LineString objects representing the lines from origin to destination points.\n",
    "\n",
    "    Raises:\n",
    "    AssertionError: If the input lists are not of the same length, or if they do not contain only Shapely Point objects.\n",
    "    \"\"\"\n",
    "    assert isinstance(origin_points, list), \"The origin_points should be a list\"\n",
    "    assert isinstance(\n",
    "        destination_points, list\n",
    "    ), \"The destination_points should be a list\"\n",
    "    assert len(origin_points) == len(\n",
    "        destination_points\n",
    "    ), \"The lists should have the same length\"\n",
    "    assert all(\n",
    "        [isinstance(point, Point) for point in origin_points]\n",
    "    ), \"All origin_points should be Shapely Point objects\"\n",
    "    assert all(\n",
    "        [isinstance(point, Point) for point in destination_points]\n",
    "    ), \"All destination_points should be Shapely Point objects\"\n",
    "\n",
    "    return [\n",
    "        LineString([origin, destination])\n",
    "        for origin, destination in zip(origin_points, destination_points)\n",
    "    ]\n",
    "\n",
    "def calculate_total_distance(od_lines):\n",
    "    \"\"\"\n",
    "    Calculate the total distance of the lines in the input list.\n",
    "\n",
    "    Parameters:\n",
    "    od_lines (list): A list of Shapely LineString objects.\n",
    "\n",
    "    Returns:\n",
    "    float: The total distance of the lines in the list.\n",
    "    \"\"\"\n",
    "    assert isinstance(od_lines, list), \"The input should be a list\"\n",
    "    assert all(\n",
    "        [isinstance(line, LineString) for line in od_lines]\n",
    "    ), \"All items in the list should be Shapely LineString objects\"\n",
    "\n",
    "    return sum([line.length for line in od_lines])"
   ]
  },
  {
   "cell_type": "code",
   "execution_count": 13,
   "id": "3ddc553b-39e8-44c6-9033-a255cbffd7b7",
   "metadata": {},
   "outputs": [
    {
     "name": "stdout",
     "output_type": "stream",
     "text": [
      "Total distance 12.57\n"
     ]
    }
   ],
   "source": [
    "# CODE CELL FOR TESTING YOUR SOLUTION\n",
    "\n",
    "# Create origin-destination lines\n",
    "od_lines = create_od_lines(origin_points, destination_points)\n",
    "\n",
    "# Calculate the total distance\n",
    "tot_dist = calculate_total_distance(od_lines)\n",
    "\n",
    "print(\"Total distance\", round(tot_dist, 2))\n",
    "assert tot_dist == total_length"
   ]
  },
  {
   "cell_type": "code",
   "execution_count": 14,
   "id": "69216708-1080-4a3a-b481-16d8fdc98857",
   "metadata": {},
   "outputs": [],
   "source": [
    "\n",
    "## Well done!"
   ]
  },
  {
   "cell_type": "markdown",
   "id": "1c3416dc-46a3-430e-ac98-65a89a77d5be",
   "metadata": {},
   "source": [
    "## Sources\n",
    "\n",
    "This lesson is inspired by the [Programming in Python lessons](http://swcarpentry.github.io/python-novice-inflammation/) from the [Software Carpentry organization](http://software-carpentry.org) and has adapted or reused material from University of Helsinki Automating GIS processis course (https://autogis-site.readthedocs.io/en/latest/course-info/license.html) under a Creative Commons Attribution-ShareAlike 4.0 International licence (https://creativecommons.org/licenses/by-sa/4.0/deed.en).\n"
   ]
  },
  {
   "cell_type": "code",
   "execution_count": null,
   "id": "296011ac-9627-47b8-9b44-3decf2b8c76d",
   "metadata": {},
   "outputs": [],
   "source": []
  }
 ],
 "metadata": {
  "kernelspec": {
   "display_name": "Python 3 (ipykernel)",
   "language": "python",
   "name": "python3"
  },
  "language_info": {
   "codemirror_mode": {
    "name": "ipython",
    "version": 3
   },
   "file_extension": ".py",
   "mimetype": "text/x-python",
   "name": "python",
   "nbconvert_exporter": "python",
   "pygments_lexer": "ipython3",
   "version": "3.10.13"
  }
 },
 "nbformat": 4,
 "nbformat_minor": 5
}
