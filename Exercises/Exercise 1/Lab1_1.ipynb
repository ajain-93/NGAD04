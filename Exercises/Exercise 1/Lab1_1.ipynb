{
 "cells": [
  {
   "cell_type": "markdown",
   "id": "6912bbe4-0acd-4c42-bc10-7c101b531b79",
   "metadata": {},
   "source": [
    "## Assignment 1: Creating basic geometries\n",
    "\n",
    "In this problem, you will create custom functions that create geometry objects. \n",
    "We start with a very simple function, and proceed to creating functions that can handle invalid input values.  \n",
    "\n",
    "Feel free to adapt and customize the code as you wish, as long as you fulfill the exercise objectives."
   ]
  },
  {
   "cell_type": "markdown",
   "id": "def3491a-e0d7-48ca-835d-2e3c2809255a",
   "metadata": {},
   "source": [
    "---\n",
    "\n",
    "#### (1a)\n",
    "\n",
    "Create a function called **`create_point_geometry()`** that accepts two parameters, `x_coord` and `y_coord`. \n",
    "The function should return a `shapely.geometry.Point` geometry object. "
   ]
  },
  {
   "cell_type": "code",
   "execution_count": null,
   "id": "e09d0f4d-64ec-4498-8939-8a2a93a589ab",
   "metadata": {},
   "outputs": [],
   "source": [
    "# RUN YOUR OWN CODE HERE"
   ]
  },
  {
   "cell_type": "code",
   "execution_count": null,
   "id": "24caed73-a808-4bd1-bf9c-34f55ad74f8e",
   "metadata": {},
   "outputs": [],
   "source": [
    "# This is an example of testing your function. Write similarly in future tasks.\n",
    "point1 = create_point_geometry(0.0, 1.1)\n",
    "print(point1)\n",
    "print(point1.geom_type)"
   ]
  },
  {
   "cell_type": "markdown",
   "id": "6790ad22-9035-48c9-8de5-eb9195746b0e",
   "metadata": {},
   "source": [
    "\n",
    "----\n",
    "\n",
    "#### (1b)\n",
    "\n",
    "Create a function called **`create_line_geometry()`** that takes a list of `shapely.geometry.Point`s as\n",
    "an argument, and returns a `shapely.geometry.LineString` object of those input points.\n",
    "\n",
    "\n",
    "  - Inside the function, first check that the input is a **list**. If something else than a list is\n",
    "    passed, raise the following error: \"Input should be a list\".\n",
    "  - Use `assert` to check that the input list contains **at least** two values. Otherwise, raise the error: \"At\n",
    "    minimum two points are required for a LineString\""
   ]
  },
  {
   "cell_type": "code",
   "execution_count": null,
   "id": "6e627f88-5d05-419a-86e3-3865df27a6f7",
   "metadata": {},
   "outputs": [],
   "source": [
    "# RUN YOUR OWN CODE HERE"
   ]
  },
  {
   "cell_type": "markdown",
   "id": "70d984de-ef54-42d1-a2da-6a4a61aa8339",
   "metadata": {},
   "source": [
    "Demonstrate how to use your function:\n",
    "Create a line object with two points, `Point(45.2, 22.34)` and `Point(100.22, -3.20)`, and store the result in a variable called `line1`."
   ]
  },
  {
   "cell_type": "code",
   "execution_count": null,
   "id": "5f55331f-4a7f-4d10-a029-b7f267410dd5",
   "metadata": {},
   "outputs": [],
   "source": [
    "# RUN YOUR OWN CODE HERE\n"
   ]
  },
  {
   "cell_type": "markdown",
   "id": "d59dcfd1-c53b-488d-8159-b59d02712f04",
   "metadata": {},
   "source": [
    "Run this code cell to check your solution:"
   ]
  },
  {
   "cell_type": "code",
   "execution_count": null,
   "id": "1f1748d7-b6a2-4da9-a9d0-273c190661d6",
   "metadata": {},
   "outputs": [],
   "source": [
    "# TESTING YOUR SOLUTION\n",
    "print(line1)\n",
    "print(line1.geom_type)"
   ]
  },
  {
   "cell_type": "markdown",
   "id": "63d40058-9b2c-46e9-8e2d-f1f5fa82564a",
   "metadata": {},
   "source": [
    "\n",
    "----\n",
    "\n",
    "#### (1c)\n",
    "\n",
    "Create a function **`create_polygon_geometry()`** that accepts one parameter `coordinates`. `coordinates` should be *a list of\n",
    "coordinate tuples*. The function should create and return a `shapely.geometry.Polygon` object based on these coordinates.  \n",
    "\n",
    "Again, you may use `assert` statements to ensure the input arguments are valid:\n",
    "\n",
    "  - first check that the input is a **list**. If something else than a list is\n",
    "    passed, raise the following error: \"Input should be a list\".\n",
    "  - Check that the input list contains **at least three values**. Otherwise, raise the error: \"At\n",
    "    minimum three points are required for a polygon\"\n",
    "  - Check that all values in the input list are tuples of two values.\n",
    "    Otherwise, raise the error: \"All list values must be coordinate tuples\"\n",
    "\n",
    "\n",
    "*(Optional)* Write the function in a way that also allows the input to be a list of `shapely.geometry.Point`s.\n",
    "If `coords` contains `shapely.geometry.Point` objects, return a polygon based on these points.\n",
    "If the input is neither a list of tuples, nor a list of Points, raise an appropriate error message.\n",
    "  "
   ]
  },
  {
   "cell_type": "code",
   "execution_count": null,
   "id": "21f23dbe-d06f-4523-b99f-298c730f3eca",
   "metadata": {},
   "outputs": [],
   "source": [
    "# RUN YOUR OWN CODE HERE"
   ]
  },
  {
   "cell_type": "markdown",
   "id": "d79026eb-0b86-4a8f-a600-29e6ea678e65",
   "metadata": {},
   "source": [
    "Demonstrate how to use the function. \n",
    "For example, create a Polygon `polygon1` with three points: `(45.2, 22.34)`, `(100.22, -3.20)`, `(70.0, 10.20)`."
   ]
  },
  {
   "cell_type": "code",
   "execution_count": null,
   "id": "8187f49e-5176-425f-838a-1d03a74d78ae",
   "metadata": {},
   "outputs": [],
   "source": [
    "# RUN YOUR OWN CODE HERE"
   ]
  },
  {
   "cell_type": "markdown",
   "id": "854a08f2-400e-4db2-b48f-d887cd07db53",
   "metadata": {},
   "source": [
    "Use the following code cell to test your solution:"
   ]
  },
  {
   "cell_type": "code",
   "execution_count": null,
   "id": "c41cf878-7e50-4ce9-8a68-67e2a5c96710",
   "metadata": {},
   "outputs": [],
   "source": [
    "# CODE CELL FOR TESTING YOUR SOLUTION\n",
    "print(polygon1)\n",
    "print(polygon1.geom_type)"
   ]
  },
  {
   "cell_type": "markdown",
   "id": "81513dac-cadf-4b18-b7c2-ec847e2353f6",
   "metadata": {},
   "source": [
    "----\n",
    "\n",
    "#### (1d)\n",
    "## Calculating distance between two points\n",
    "\n",
    "In this problem, you will create a custom function that calculates the Euclidean distance between two points. \n",
    "\n",
    "Create a function called **`calculate_distance()`** that accepts four parameters, `x1`, `y1`, `x2`, and `y2`. The function should return the Euclidean distance between the points (x1, y1) and (x2, y2).\n",
    "\n",
    "Hints:\n",
    "- The formula for calculating Euclidean distance between two points (x1, y1) and (x2, y2) is: sqrt((x2 - x1)^2 + (y2 - y1)^2)\n",
    "- You can use the math module in Python to access the square root function. Import it with `import math`."
   ]
  },
  {
   "cell_type": "code",
   "execution_count": null,
   "id": "2139afa3-5447-42a2-8b4f-16762d4656a2",
   "metadata": {},
   "outputs": [],
   "source": [
    "# RUN YOUR OWN CODE HERE\n"
   ]
  },
  {
   "cell_type": "code",
   "execution_count": null,
   "id": "45c5def6-2ddd-425c-8612-3a500aa84715",
   "metadata": {},
   "outputs": [],
   "source": [
    "# test your solution here, answer should be = 5.0. In this case P1(x1,y1)= (0,0) and P2 (x2,y2)= (3,4)\n",
    "distance = calculate_distance(0, 0, 3, 4)\n",
    "print(distance)"
   ]
  },
  {
   "cell_type": "markdown",
   "id": "952921ca-f1aa-469b-b4d8-93ce1a0a487e",
   "metadata": {},
   "source": [
    "## Assignment 2: Attributes of geometries\n",
    "\n"
   ]
  },
  {
   "cell_type": "markdown",
   "id": "3b47f4e0-33d2-4541-bdd6-958ba53f7967",
   "metadata": {},
   "source": [
    "\n",
    "----\n",
    "\n",
    "#### (2a)\n",
    "\n",
    "Create a function called **`get_centroid()`** that accepts one parameter, `geom`. \n",
    "The function should take any kind of Shapely’s geometry objects (any instance of `shapely.geometry.base.BaseGeometry`)\n",
    "as an input, and return the centroid of that geometry. \n",
    "\n",
    "Make sure to validate the function’s input arguments using `assert` statements:\n",
    "\n",
    "  - check that the input is a `shapely.geometry.base.BaseGeometry` or one of its child classes.\n",
    "    Otherwise, raise the error \"Input must be a `shapely` geometry\".\n"
   ]
  },
  {
   "cell_type": "code",
   "execution_count": null,
   "id": "f8aec30b-4afe-41aa-8688-9c9c3551d6bf",
   "metadata": {},
   "outputs": [],
   "source": [
    "# RUN YOUR OWN CODE HERE\n"
   ]
  },
  {
   "cell_type": "markdown",
   "id": "9f57275a-5983-49f1-a75d-b53a7b62c3c5",
   "metadata": {},
   "source": [
    "Test and demonstrate the usage of the function. You can, for example, create shapely objects using the functions you created in problem 1 and print out information about their centroids:"
   ]
  },
  {
   "cell_type": "code",
   "execution_count": null,
   "id": "a733b83f-7457-480d-b68b-0ef036218f45",
   "metadata": {},
   "outputs": [],
   "source": [
    "# RUN YOUR OWN CODE HERE\n"
   ]
  },
  {
   "cell_type": "code",
   "execution_count": null,
   "id": "34e88ef9-8b00-4694-bae4-b4556121d41b",
   "metadata": {
    "tags": []
   },
   "outputs": [],
   "source": [
    "# RUN YOUR OWN CODE HERE\n"
   ]
  },
  {
   "cell_type": "markdown",
   "id": "501ae813-05f4-4d34-a7d6-aa2e0e13e476",
   "metadata": {},
   "source": [
    "\n",
    "----\n",
    "\n",
    "#### (2b)\n",
    "\n",
    "Create a function **`get_area()`** accepting one parameter `polygon`. \n",
    "\n",
    "The function should accept a `shapely.geometry.Polygon` and return its area. \n",
    "Again, use `assert` to make sure the input values are valid, in particular, check that:\n",
    "- the input is a `shapely.geometry.Polygon`. If the argument is anything else, \n",
    "  raise an error: \"Input should be a `shapely.geometry.Polygon`\"."
   ]
  },
  {
   "cell_type": "code",
   "execution_count": null,
   "id": "b2479692-b8fe-4333-8556-3b44627c9087",
   "metadata": {},
   "outputs": [],
   "source": [
    "# RUN YOUR OWN CODE HERE"
   ]
  },
  {
   "cell_type": "markdown",
   "id": "b9696d73-7ac8-4713-93b6-232bb6fd7eae",
   "metadata": {},
   "source": [
    "Test and demonstrate how to use the function:"
   ]
  },
  {
   "cell_type": "code",
   "execution_count": null,
   "id": "03e8ceea-412e-42dd-ab11-69991c6d0b67",
   "metadata": {},
   "outputs": [],
   "source": [
    "# RUN YOUR OWN CODE HERE"
   ]
  },
  {
   "cell_type": "code",
   "execution_count": null,
   "id": "c3edc3e3-db35-4e44-b531-f8e3a134af25",
   "metadata": {},
   "outputs": [],
   "source": [
    "#  TESTING YOUR SOLUTION\n",
    "area = get_area(polygon1)\n",
    "print(round(area, 2))"
   ]
  },
  {
   "cell_type": "markdown",
   "id": "74a56701-0a19-45ee-a25e-f9849e22761d",
   "metadata": {},
   "source": [
    "\n",
    "----\n",
    "\n",
    "#### (2c)\n",
    "\n",
    "Create a function **`get_length()`** accepting one parameter, `geometry`. \n",
    "\n",
    "The function should accept either a `shapely.geometry.LineString` or a `shapely.geometry.Polygon` as input.\n",
    "Check the type of the input and return the length of the line if input is a LineString and length of the\n",
    "exterior ring if the input is a Polygon. \n",
    "\n",
    "If something else is passed to the function, raise an error \"‘geometry’ should be either a LineString or a Polygon\". Use `assert` or (advanced, optional) [raise a `ValueError` exception](https://docs.python.org/3/tutorial/errors.html#handling-exceptions).\n"
   ]
  },
  {
   "cell_type": "code",
   "execution_count": null,
   "id": "c8c3cbe9-a0b8-4f65-b935-312de57fc1d3",
   "metadata": {},
   "outputs": [],
   "source": [
    "# RUN YOUR OWN CODE HERE"
   ]
  },
  {
   "cell_type": "markdown",
   "id": "18b3cd95-0428-4b4f-9745-184179a73921",
   "metadata": {},
   "source": [
    "Test and demonstrate the usage of the function:"
   ]
  },
  {
   "cell_type": "code",
   "execution_count": null,
   "id": "9b84165b-c7b0-4d1d-99a0-14237d280643",
   "metadata": {},
   "outputs": [],
   "source": [
    "# RUN YOUR OWN CODE HERE"
   ]
  },
  {
   "cell_type": "code",
   "execution_count": null,
   "id": "6b084aef-df4b-4596-b416-ca8deceb937b",
   "metadata": {},
   "outputs": [],
   "source": [
    "#  NON- TESTING YOUR SOLUTION\n",
    "\n",
    "# List all functions we created\n",
    "functions = [\n",
    "    create_point_geometry,\n",
    "    create_line_geometry,\n",
    "    create_polygon_geometry,\n",
    "    get_centroid,\n",
    "    get_area,\n",
    "    get_length\n",
    "]\n",
    "\n",
    "print(\"My functions:\\n\")\n",
    "\n",
    "for function in functions:\n",
    "    # print function name and docstring:\n",
    "    print(\"-\", function.__name__ +\":\", function.__doc__)"
   ]
  },
  {
   "cell_type": "markdown",
   "id": "8b627716-9f7d-4ecb-9f20-ab2c394ddf29",
   "metadata": {},
   "source": [
    "## Sources\n",
    "\n",
    "This lesson is inspired by the [Programming in Python lessons](http://swcarpentry.github.io/python-novice-inflammation/) from the [Software Carpentry organization](http://software-carpentry.org) and has adapted or reused material from University of Helsinki Automating GIS processis course (https://autogis-site.readthedocs.io/en/latest/course-info/license.html) under a Creative Commons Attribution-ShareAlike 4.0 International licence (https://creativecommons.org/licenses/by-sa/4.0/deed.en)."
   ]
  },
  {
   "cell_type": "code",
   "execution_count": null,
   "id": "f14946af-0590-40a3-9bb8-c7277a120f91",
   "metadata": {},
   "outputs": [],
   "source": []
  }
 ],
 "metadata": {
  "kernelspec": {
   "display_name": "Python 3 (ipykernel)",
   "language": "python",
   "name": "python3"
  },
  "language_info": {
   "codemirror_mode": {
    "name": "ipython",
    "version": 3
   },
   "file_extension": ".py",
   "mimetype": "text/x-python",
   "name": "python",
   "nbconvert_exporter": "python",
   "pygments_lexer": "ipython3",
   "version": "3.10.14"
  }
 },
 "nbformat": 4,
 "nbformat_minor": 5
}
