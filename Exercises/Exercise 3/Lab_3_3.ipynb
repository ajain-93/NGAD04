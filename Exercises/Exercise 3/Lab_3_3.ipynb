{
 "cells": [
  {
   "cell_type": "markdown",
   "id": "214ab925-eef7-4c1f-968f-aa2a7686dae6",
   "metadata": {},
   "source": [
    "\n",
    "## Assignment 3:\n",
    " Use a *spatial join* to relate data from a population data set to the buffer layer created in *assignment 2* to find out how many people live in all population grid cells that are **within** 1 km distance from each shopping centre in Stockholm \n"
   ]
  },
  {
   "cell_type": "markdown",
   "id": "172b4330-6e93-4b5a-ad5a-12b9408ae1ba",
   "metadata": {},
   "source": [
    "Load the population layer for Stockholm named 'pop_stockholm.shp' in a geodataframe. Don’t forget to check if the layer is on an appropriate CRS (EPSG 3006, SWEREF99 TM)"
   ]
  },
  {
   "cell_type": "code",
   "execution_count": 1,
   "id": "b221585e",
   "metadata": {},
   "outputs": [],
   "source": [
    "import pathlib\n",
    "\n",
    "# Setup data directory\n",
    "NOTEBOOK_PATH = pathlib.Path(\"/geopython/Exercises/Exercise 3\")\n",
    "DATA_DIRECTORY = NOTEBOOK_PATH / \"data\"\n",
    "\n",
    "# Setup filepath\n",
    "filepath_population = DATA_DIRECTORY / \"pop_stockholm.shp\"\n",
    "filepath_buffers = DATA_DIRECTORY / \"buffers.gpkg\""
   ]
  },
  {
   "cell_type": "code",
   "execution_count": 2,
   "id": "2bbbe93c-63dc-4119-8fff-e609e2316394",
   "metadata": {},
   "outputs": [
    {
     "data": {
      "text/html": [
       "<div>\n",
       "<style scoped>\n",
       "    .dataframe tbody tr th:only-of-type {\n",
       "        vertical-align: middle;\n",
       "    }\n",
       "\n",
       "    .dataframe tbody tr th {\n",
       "        vertical-align: top;\n",
       "    }\n",
       "\n",
       "    .dataframe thead th {\n",
       "        text-align: right;\n",
       "    }\n",
       "</style>\n",
       "<table border=\"1\" class=\"dataframe\">\n",
       "  <thead>\n",
       "    <tr style=\"text-align: right;\">\n",
       "      <th></th>\n",
       "      <th>fid</th>\n",
       "      <th>RutStorl</th>\n",
       "      <th>Ruta</th>\n",
       "      <th>POP</th>\n",
       "      <th>geometry</th>\n",
       "    </tr>\n",
       "  </thead>\n",
       "  <tbody>\n",
       "    <tr>\n",
       "      <th>0</th>\n",
       "      <td>147.0</td>\n",
       "      <td>1000</td>\n",
       "      <td>6900006558000</td>\n",
       "      <td>3</td>\n",
       "      <td>POLYGON ((690000.000 6558000.000, 690000.000 6...</td>\n",
       "    </tr>\n",
       "    <tr>\n",
       "      <th>1</th>\n",
       "      <td>261.0</td>\n",
       "      <td>1000</td>\n",
       "      <td>6580006565000</td>\n",
       "      <td>3276</td>\n",
       "      <td>POLYGON ((658000.000 6565000.000, 658000.000 6...</td>\n",
       "    </tr>\n",
       "    <tr>\n",
       "      <th>2</th>\n",
       "      <td>281.0</td>\n",
       "      <td>1000</td>\n",
       "      <td>6820006564000</td>\n",
       "      <td>686</td>\n",
       "      <td>POLYGON ((682000.000 6564000.000, 682000.000 6...</td>\n",
       "    </tr>\n",
       "    <tr>\n",
       "      <th>3</th>\n",
       "      <td>291.0</td>\n",
       "      <td>1000</td>\n",
       "      <td>6510006570000</td>\n",
       "      <td>42</td>\n",
       "      <td>POLYGON ((651000.000 6570000.000, 651000.000 6...</td>\n",
       "    </tr>\n",
       "    <tr>\n",
       "      <th>4</th>\n",
       "      <td>299.0</td>\n",
       "      <td>1000</td>\n",
       "      <td>6520006573000</td>\n",
       "      <td>74</td>\n",
       "      <td>POLYGON ((652000.000 6573000.000, 652000.000 6...</td>\n",
       "    </tr>\n",
       "    <tr>\n",
       "      <th>...</th>\n",
       "      <td>...</td>\n",
       "      <td>...</td>\n",
       "      <td>...</td>\n",
       "      <td>...</td>\n",
       "      <td>...</td>\n",
       "    </tr>\n",
       "    <tr>\n",
       "      <th>1945</th>\n",
       "      <td>114876.0</td>\n",
       "      <td>1000</td>\n",
       "      <td>6810006567000</td>\n",
       "      <td>220</td>\n",
       "      <td>POLYGON ((681000.000 6567000.000, 681000.000 6...</td>\n",
       "    </tr>\n",
       "    <tr>\n",
       "      <th>1946</th>\n",
       "      <td>114899.0</td>\n",
       "      <td>1000</td>\n",
       "      <td>6880006571000</td>\n",
       "      <td>363</td>\n",
       "      <td>POLYGON ((688000.000 6571000.000, 688000.000 6...</td>\n",
       "    </tr>\n",
       "    <tr>\n",
       "      <th>1947</th>\n",
       "      <td>114916.0</td>\n",
       "      <td>1000</td>\n",
       "      <td>6570006581000</td>\n",
       "      <td>60</td>\n",
       "      <td>POLYGON ((657000.000 6581000.000, 657000.000 6...</td>\n",
       "    </tr>\n",
       "    <tr>\n",
       "      <th>1948</th>\n",
       "      <td>114921.0</td>\n",
       "      <td>1000</td>\n",
       "      <td>6510006567000</td>\n",
       "      <td>651</td>\n",
       "      <td>POLYGON ((651000.000 6567000.000, 651000.000 6...</td>\n",
       "    </tr>\n",
       "    <tr>\n",
       "      <th>1949</th>\n",
       "      <td>114958.0</td>\n",
       "      <td>1000</td>\n",
       "      <td>6520006579000</td>\n",
       "      <td>188</td>\n",
       "      <td>POLYGON ((652000.000 6579000.000, 652000.000 6...</td>\n",
       "    </tr>\n",
       "  </tbody>\n",
       "</table>\n",
       "<p>1950 rows × 5 columns</p>\n",
       "</div>"
      ],
      "text/plain": [
       "           fid  RutStorl           Ruta   POP  \\\n",
       "0        147.0      1000  6900006558000     3   \n",
       "1        261.0      1000  6580006565000  3276   \n",
       "2        281.0      1000  6820006564000   686   \n",
       "3        291.0      1000  6510006570000    42   \n",
       "4        299.0      1000  6520006573000    74   \n",
       "...        ...       ...            ...   ...   \n",
       "1945  114876.0      1000  6810006567000   220   \n",
       "1946  114899.0      1000  6880006571000   363   \n",
       "1947  114916.0      1000  6570006581000    60   \n",
       "1948  114921.0      1000  6510006567000   651   \n",
       "1949  114958.0      1000  6520006579000   188   \n",
       "\n",
       "                                               geometry  \n",
       "0     POLYGON ((690000.000 6558000.000, 690000.000 6...  \n",
       "1     POLYGON ((658000.000 6565000.000, 658000.000 6...  \n",
       "2     POLYGON ((682000.000 6564000.000, 682000.000 6...  \n",
       "3     POLYGON ((651000.000 6570000.000, 651000.000 6...  \n",
       "4     POLYGON ((652000.000 6573000.000, 652000.000 6...  \n",
       "...                                                 ...  \n",
       "1945  POLYGON ((681000.000 6567000.000, 681000.000 6...  \n",
       "1946  POLYGON ((688000.000 6571000.000, 688000.000 6...  \n",
       "1947  POLYGON ((657000.000 6581000.000, 657000.000 6...  \n",
       "1948  POLYGON ((651000.000 6567000.000, 651000.000 6...  \n",
       "1949  POLYGON ((652000.000 6579000.000, 652000.000 6...  \n",
       "\n",
       "[1950 rows x 5 columns]"
      ]
     },
     "execution_count": 2,
     "metadata": {},
     "output_type": "execute_result"
    },
    {
     "data": {
      "image/png": "[encoded data removed]",
      "text/plain": [
       "<Figure size 640x480 with 1 Axes>"
      ]
     },
     "metadata": {},
     "output_type": "display_data"
    }
   ],
   "source": [
    "import geopandas as gpd\n",
    "\n",
    "# Load points from from disk\n",
    "pop_stockholm = gpd.read_file(filepath_population)\n",
    "\n",
    "# Ensure the data is in correct crs\n",
    "if not pop_stockholm.crs == \"EPSG:3006\":\n",
    "    pop_stockholm = pop_stockholm.to_crs(\"EPSG:3006\")\n",
    "\n",
    "pop_stockholm.plot(column=\"POP\")\n",
    "pop_stockholm"
   ]
  },
  {
   "cell_type": "markdown",
   "id": "09624ac4-22d0-47a9-8510-128220eb4721",
   "metadata": {},
   "source": [
    "Load the buffers computed in *assignment 2* into a `GeoDataFrame` called `shopping_centre_buffers`. Make sure both layers are in the same CRS"
   ]
  },
  {
   "cell_type": "code",
   "execution_count": 3,
   "id": "349b2bb9-ece0-4354-9762-bdf2cf5ee659",
   "metadata": {},
   "outputs": [
    {
     "data": {
      "text/html": [
       "<div>\n",
       "<style scoped>\n",
       "    .dataframe tbody tr th:only-of-type {\n",
       "        vertical-align: middle;\n",
       "    }\n",
       "\n",
       "    .dataframe tbody tr th {\n",
       "        vertical-align: top;\n",
       "    }\n",
       "\n",
       "    .dataframe thead th {\n",
       "        text-align: right;\n",
       "    }\n",
       "</style>\n",
       "<table border=\"1\" class=\"dataframe\">\n",
       "  <thead>\n",
       "    <tr style=\"text-align: right;\">\n",
       "      <th></th>\n",
       "      <th>id</th>\n",
       "      <th>name</th>\n",
       "      <th>addr</th>\n",
       "      <th>address</th>\n",
       "      <th>geometry</th>\n",
       "    </tr>\n",
       "  </thead>\n",
       "  <tbody>\n",
       "    <tr>\n",
       "      <th>0</th>\n",
       "      <td>1</td>\n",
       "      <td>Gallerian</td>\n",
       "      <td>Hamngatan 37, 111 53 Stockholm</td>\n",
       "      <td>37, Hamngatan, Klara, Norrmalm, Norra innersta...</td>\n",
       "      <td>POLYGON ((676473.725 6581089.637, 676464.094 6...</td>\n",
       "    </tr>\n",
       "    <tr>\n",
       "      <th>1</th>\n",
       "      <td>2</td>\n",
       "      <td>Mall of Scandinavia</td>\n",
       "      <td>Stjärntorget 2, 169 79 Solna</td>\n",
       "      <td>Westfield Mall of Scandinavia, 2, Stjärntorget...</td>\n",
       "      <td>POLYGON ((672635.567 6585150.741, 672625.936 6...</td>\n",
       "    </tr>\n",
       "    <tr>\n",
       "      <th>2</th>\n",
       "      <td>3</td>\n",
       "      <td>Solna Centrum</td>\n",
       "      <td>Solnavägen 13, 171 45 Solna</td>\n",
       "      <td>13H, Solnavägen, Västra skogen, Solna Kyrkby, ...</td>\n",
       "      <td>POLYGON ((673741.419 6583122.341, 673731.788 6...</td>\n",
       "    </tr>\n",
       "    <tr>\n",
       "      <th>3</th>\n",
       "      <td>4</td>\n",
       "      <td>Sturegallerian</td>\n",
       "      <td>Sturegatan 4, 114 35 Stockholm</td>\n",
       "      <td>4, Sturegatan, Villastaden, Östermalm, Norra i...</td>\n",
       "      <td>POLYGON ((676806.152 6581558.512, 676796.522 6...</td>\n",
       "    </tr>\n",
       "    <tr>\n",
       "      <th>4</th>\n",
       "      <td>5</td>\n",
       "      <td>Bergshamra Centrum</td>\n",
       "      <td>Bergshamravägen 1, 170 72 Solna</td>\n",
       "      <td>Bergshamravägen, Kungshamra, Tivoli, Bergshamr...</td>\n",
       "      <td>POLYGON ((674278.454 6586300.362, 674268.824 6...</td>\n",
       "    </tr>\n",
       "    <tr>\n",
       "      <th>5</th>\n",
       "      <td>6</td>\n",
       "      <td>Kista Galleria</td>\n",
       "      <td>Hanstavägen 55 F, 164 53 Kista</td>\n",
       "      <td>Matmissionen, 55F, Hanstavägen, Kista, Järva s...</td>\n",
       "      <td>POLYGON ((669039.837 6588778.684, 669030.207 6...</td>\n",
       "    </tr>\n",
       "  </tbody>\n",
       "</table>\n",
       "</div>"
      ],
      "text/plain": [
       "   id                  name                              addr  \\\n",
       "0   1             Gallerian    Hamngatan 37, 111 53 Stockholm   \n",
       "1   2   Mall of Scandinavia      Stjärntorget 2, 169 79 Solna   \n",
       "2   3         Solna Centrum       Solnavägen 13, 171 45 Solna   \n",
       "3   4        Sturegallerian    Sturegatan 4, 114 35 Stockholm   \n",
       "4   5    Bergshamra Centrum   Bergshamravägen 1, 170 72 Solna   \n",
       "5   6        Kista Galleria    Hanstavägen 55 F, 164 53 Kista   \n",
       "\n",
       "                                             address  \\\n",
       "0  37, Hamngatan, Klara, Norrmalm, Norra innersta...   \n",
       "1  Westfield Mall of Scandinavia, 2, Stjärntorget...   \n",
       "2  13H, Solnavägen, Västra skogen, Solna Kyrkby, ...   \n",
       "3  4, Sturegatan, Villastaden, Östermalm, Norra i...   \n",
       "4  Bergshamravägen, Kungshamra, Tivoli, Bergshamr...   \n",
       "5  Matmissionen, 55F, Hanstavägen, Kista, Järva s...   \n",
       "\n",
       "                                            geometry  \n",
       "0  POLYGON ((676473.725 6581089.637, 676464.094 6...  \n",
       "1  POLYGON ((672635.567 6585150.741, 672625.936 6...  \n",
       "2  POLYGON ((673741.419 6583122.341, 673731.788 6...  \n",
       "3  POLYGON ((676806.152 6581558.512, 676796.522 6...  \n",
       "4  POLYGON ((674278.454 6586300.362, 674268.824 6...  \n",
       "5  POLYGON ((669039.837 6588778.684, 669030.207 6...  "
      ]
     },
     "execution_count": 3,
     "metadata": {},
     "output_type": "execute_result"
    },
    {
     "data": {
      "image/png": "[encoded data removed]",
      "text/plain": [
       "<Figure size 640x480 with 1 Axes>"
      ]
     },
     "metadata": {},
     "output_type": "display_data"
    }
   ],
   "source": [
    "# Load points from from disk\n",
    "shopping_centre_buffers = gpd.read_file(filepath_buffers)\n",
    "\n",
    "# Ensure the data is in correct crs\n",
    "if not shopping_centre_buffers.crs == \"EPSG:3006\":\n",
    "    shopping_centre_buffers = shopping_centre_buffers.to_crs(\"EPSG:3006\")\n",
    "\n",
    "shopping_centre_buffers.plot()\n",
    "shopping_centre_buffers"
   ]
  },
  {
   "cell_type": "code",
   "execution_count": 4,
   "id": "735d8e50",
   "metadata": {},
   "outputs": [],
   "source": [
    "assert shopping_centre_buffers.crs == pop_stockholm.crs , \"The GeoPandas DataFrames`shopping_centre_buffers` and `pop_stockholm` are different CRS\""
   ]
  },
  {
   "cell_type": "markdown",
   "id": "6fa63cea-536a-4808-a215-144412d6a766",
   "metadata": {},
   "source": [
    "\n",
    "Join the shopping centre’s `id` column to the population data frame, for all population grid cells that are **within** the buffer area of each shopping centre. [Use a *join-type* that retains only rows from both input data frames for which the geometric predicate is true](https://geopandas.org/en/stable/gallery/spatial_joins.html#Types-of-spatial-joins). "
   ]
  },
  {
   "cell_type": "code",
   "execution_count": 5,
   "id": "8523b41e-5595-4541-99ee-91119ba7dd8e",
   "metadata": {},
   "outputs": [],
   "source": [
    "# Perform a spatial join between the population df and shopping df, using the `within` predicate\n",
    "shopping_centers = pop_stockholm.sjoin(\n",
    "    shopping_centre_buffers, how=\"right\", predicate=\"within\"\n",
    ")\n",
    "# shopping_centers"
   ]
  },
  {
   "cell_type": "code",
   "execution_count": 6,
   "id": "84ff7b80",
   "metadata": {},
   "outputs": [
    {
     "data": {
      "text/plain": [
       "<Axes: >"
      ]
     },
     "execution_count": 6,
     "metadata": {},
     "output_type": "execute_result"
    },
    {
     "data": {
      "image/png": "[encoded data removed]",
      "text/plain": [
       "<Figure size 640x480 with 1 Axes>"
      ]
     },
     "metadata": {},
     "output_type": "display_data"
    }
   ],
   "source": [
    "# DEBUG\n",
    "# Plot population boxes that fit into first buffer zone\n",
    "\n",
    "axes = shopping_centre_buffers.plot(facecolor=\"grey\", )\n",
    "shopping_centers.loc[0].plot(ax=axes, color=\"blue\", markersize=5)\n",
    "pop_stockholm.loc[shopping_centers.loc[0][\"index_left\"]].plot(ax=axes, column=\"POP\")"
   ]
  },
  {
   "cell_type": "markdown",
   "id": "dc217b1e-44c0-4244-92e6-c49602c7c5ff",
   "metadata": {},
   "source": [
    "Compute the population sum for each shopping center's buffer. Print the results (ie., 'People living in Shopping center named 'XXX' is XX')"
   ]
  },
  {
   "cell_type": "code",
   "execution_count": 7,
   "id": "eeb6d6ed-f392-43f4-bb7e-b5f32b64acc9",
   "metadata": {},
   "outputs": [
    {
     "name": "stdout",
     "output_type": "stream",
     "text": [
      "People living in Shopping center named 'Gallerian' is 65538'\n",
      "People living in Shopping center named 'Mall of Scandinavia' is 34980'\n",
      "People living in Shopping center named 'Solna Centrum' is 30795'\n",
      "People living in Shopping center named 'Sturegallerian' is 71195'\n",
      "People living in Shopping center named 'Bergshamra Centrum' is 17082'\n",
      "People living in Shopping center named 'Kista Galleria' is 22132'\n"
     ]
    }
   ],
   "source": [
    "# Iterate through all index\n",
    "for i in shopping_centers.index.unique():\n",
    "    location = shopping_centers.loc[i]\n",
    "\n",
    "    # Assert that the names and addresses are unique and there is no mixup\n",
    "    assert len(location[\"name\"].unique()) == 1 , f\"Multiple names for location at index {i}\"\n",
    "    assert len(location[\"address\"].unique()) == 1 , f\"Multiple address for location at index {i}\"\n",
    "\n",
    "    print(f\"People living in Shopping center named '{location['name'].unique()[0].strip()}' is {location['POP'].sum()}'\"  )\n"
   ]
  },
  {
   "cell_type": "markdown",
   "id": "8eed71e7",
   "metadata": {},
   "source": [
    "## Comments\n",
    "\n",
    "I notice that using a buffer zone is a very blunt but an efficient way to measure the population within 1km radius of a point.\n",
    "\n",
    "Looking at the plot in the debug (`input [7]`), we can see that 7 whole boxes can fit within the circle radius of 2km.\n",
    "\n",
    "This means using the buffer zone of 2000m is actually too large, and shows a radius greater than 1km from each point.\n"
   ]
  },
  {
   "cell_type": "markdown",
   "id": "cd553483",
   "metadata": {},
   "source": []
  }
 ],
 "metadata": {
  "kernelspec": {
   "display_name": "Python 3 (ipykernel)",
   "language": "python",
   "name": "python3"
  },
  "language_info": {
   "codemirror_mode": {
    "name": "ipython",
    "version": 3
   },
   "file_extension": ".py",
   "mimetype": "text/x-python",
   "name": "python",
   "nbconvert_exporter": "python",
   "pygments_lexer": "ipython3",
   "version": "3.10.13"
  }
 },
 "nbformat": 4,
 "nbformat_minor": 5
}
