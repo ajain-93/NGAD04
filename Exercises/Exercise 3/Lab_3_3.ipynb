{
 "cells": [
  {
   "cell_type": "markdown",
   "id": "214ab925-eef7-4c1f-968f-aa2a7686dae6",
   "metadata": {},
   "source": [
    "\n",
    "## Assignment 3:\n",
    " Use a *spatial join* to relate data from a population data set to the buffer layer created in *assignment 2* to find out how many people live in all population grid cells that are **within** 1 km distance from each shopping centre in Stockholm \n"
   ]
  },
  {
   "cell_type": "markdown",
   "id": "172b4330-6e93-4b5a-ad5a-12b9408ae1ba",
   "metadata": {},
   "source": [
    "Load the population layer for Stockholm named 'pop_stockholm.shp' in a geodataframe. Don’t forget to check if the layer is on an appropriate CRS (EPSG 3006, SWEREF99 TM)"
   ]
  },
  {
   "cell_type": "code",
   "execution_count": 2,
   "id": "2bbbe93c-63dc-4119-8fff-e609e2316394",
   "metadata": {},
   "outputs": [],
   "source": [
    "# RUN YOUR CODE HERE"
   ]
  },
  {
   "cell_type": "markdown",
   "id": "09624ac4-22d0-47a9-8510-128220eb4721",
   "metadata": {},
   "source": [
    "Load the buffers computed in *assignment 2* into a `GeoDataFrame` called `shopping_centre_buffers`. Make sure both layers are in the same CRS"
   ]
  },
  {
   "cell_type": "code",
   "execution_count": null,
   "id": "349b2bb9-ece0-4354-9762-bdf2cf5ee659",
   "metadata": {},
   "outputs": [],
   "source": [
    "# RUN YOUR CODE HERE"
   ]
  },
  {
   "cell_type": "markdown",
   "id": "6fa63cea-536a-4808-a215-144412d6a766",
   "metadata": {},
   "source": [
    "\n",
    "Join the shopping centre’s `id` column to the population data frame, for all population grid cells that are **within** the buffer area of each shopping centre. [Use a *join-type* that retains only rows from both input data frames for which the geometric predicate is true](https://geopandas.org/en/stable/gallery/spatial_joins.html#Types-of-spatial-joins). "
   ]
  },
  {
   "cell_type": "code",
   "execution_count": null,
   "id": "8523b41e-5595-4541-99ee-91119ba7dd8e",
   "metadata": {},
   "outputs": [],
   "source": [
    "# RUN YOUR CODE HERE"
   ]
  },
  {
   "cell_type": "markdown",
   "id": "dc217b1e-44c0-4244-92e6-c49602c7c5ff",
   "metadata": {},
   "source": [
    "Compute the population sum for each shopping center's buffer. Print the results (ie., 'People living in Shopping center named 'XXX' is XX')"
   ]
  },
  {
   "cell_type": "code",
   "execution_count": null,
   "id": "eeb6d6ed-f392-43f4-bb7e-b5f32b64acc9",
   "metadata": {},
   "outputs": [],
   "source": []
  }
 ],
 "metadata": {
  "kernelspec": {
   "display_name": "Python 3 (ipykernel)",
   "language": "python",
   "name": "python3"
  },
  "language_info": {
   "codemirror_mode": {
    "name": "ipython",
    "version": 3
   },
   "file_extension": ".py",
   "mimetype": "text/x-python",
   "name": "python",
   "nbconvert_exporter": "python",
   "pygments_lexer": "ipython3",
   "version": "3.11.8"
  }
 },
 "nbformat": 4,
 "nbformat_minor": 5
}
