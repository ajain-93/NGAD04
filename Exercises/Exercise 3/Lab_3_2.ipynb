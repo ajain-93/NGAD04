{
 "cells": [
  {
   "cell_type": "markdown",
   "id": "bb49ee47-a7fb-4190-ba46-cd1ba8cd60ec",
   "metadata": {},
   "source": [
    "## Assignment 2: Create buffers around shopping centers \n",
    "\n"
   ]
  },
  {
   "cell_type": "markdown",
   "id": "9fb4c9fe-4572-4054-b88a-9f741b86998e",
   "metadata": {},
   "source": [
    "### \n",
    "\n",
    "First, load the shopping centre *point* data set you created in *assignment 1* into a `GeoDataFrame` called `shopping_centres`."
   ]
  },
  {
   "cell_type": "code",
   "execution_count": null,
   "id": "fce32a72-14a2-4b5e-bb5a-fa2608e62330",
   "metadata": {},
   "outputs": [],
   "source": [
    "# RUN YOUR CODE HERE"
   ]
  },
  {
   "cell_type": "markdown",
   "id": "43e51bb5-bcd6-4df8-af36-e5befb92317a",
   "metadata": {},
   "source": [
    "Calculate a 2 km buffer around the shopping locations. \n",
    "Use the geopandas.GeoDataFrame.buffer() method, that uses shapely’s buffer() in the background."
   ]
  },
  {
   "cell_type": "code",
   "execution_count": null,
   "id": "0bf293ef-09b9-4fe2-980d-d7e4ef5f4830",
   "metadata": {},
   "outputs": [],
   "source": [
    "# RUN YOUR CODE HERE"
   ]
  },
  {
   "cell_type": "markdown",
   "id": "3011433b-3d90-40d6-9d32-89066cbee667",
   "metadata": {},
   "source": [
    "Save the data frame containing the buffer geometries into a new layer `buffers` as a .gpkg or .shp. Your buffers layer should contain the information for the shopping centers as well."
   ]
  },
  {
   "cell_type": "code",
   "execution_count": 2,
   "id": "2c68b039-6209-4c3d-a76f-cc2f25e8dd13",
   "metadata": {},
   "outputs": [],
   "source": [
    "# RUN YOUR CODE HERE"
   ]
  },
  {
   "cell_type": "code",
   "execution_count": null,
   "id": "4a3d6411-1e0d-46cd-be41-671216fd62b7",
   "metadata": {},
   "outputs": [],
   "source": []
  },
  {
   "cell_type": "code",
   "execution_count": null,
   "id": "d4f9edf4-c3b0-4832-b307-b01fc6831d04",
   "metadata": {},
   "outputs": [],
   "source": []
  }
 ],
 "metadata": {
  "kernelspec": {
   "display_name": "Python 3 (ipykernel)",
   "language": "python",
   "name": "python3"
  },
  "language_info": {
   "codemirror_mode": {
    "name": "ipython",
    "version": 3
   },
   "file_extension": ".py",
   "mimetype": "text/x-python",
   "name": "python",
   "nbconvert_exporter": "python",
   "pygments_lexer": "ipython3",
   "version": "3.10.14"
  }
 },
 "nbformat": 4,
 "nbformat_minor": 5
}
