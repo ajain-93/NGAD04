{
 "cells": [
  {
   "cell_type": "markdown",
   "id": "621fca0f-caf4-4052-93f4-9f29371f238a",
   "metadata": {},
   "source": [
    "## Assignment1: Geocoding points of interest\n",
    "\n",
    "The aim of this exercise is to find out how many people live in proximity to shopping centers in Stockholm.\n",
    "\n",
    "---"
   ]
  },
  {
   "cell_type": "markdown",
   "id": "05e418da-59cf-4610-af9d-82596b290744",
   "metadata": {},
   "source": [
    "### a) Create a file with the addresses of a few shopping centers in Stockholm\n",
    "\n",
    "Find out the addresses of shopping centers in Stockholm  and collect them in a text file called `shopping_centres.txt`. The list does not have to be exhaustive - between 5-10 centers would be enough.\n",
    "\n",
    " \n",
    "The text file should be in semicolon-separated format (`;`) and include the following columns:\n",
    "\n",
    "- `id` (integer) a unique identifier for each shopping centre (a\n",
    "- `name` (string) of each shopping center\n",
    "- `addr` (string) the address \n",
    "\n",
    "\n",
    "---"
   ]
  },
  {
   "cell_type": "markdown",
   "id": "9831f36b-6e46-43bf-ad16-cb5c18377b6d",
   "metadata": {},
   "source": [
    "### b) Import the file\n",
    "\n",
    "Read the list of addresses you just prepared into a `pandas.DataFrame` called `shopping_centres`"
   ]
  },
  {
   "cell_type": "code",
   "execution_count": 1,
   "id": "b4fa0a03-03f0-48d5-ad75-ab17d38d2b7e",
   "metadata": {},
   "outputs": [],
   "source": [
    "# RUN YOUR CODE HERE\n"
   ]
  },
  {
   "cell_type": "markdown",
   "id": "cb26c9a6-9870-417c-a729-2d2c4aac6a9a",
   "metadata": {},
   "source": [
    "\n",
    "---\n",
    "\n",
    "### c) Geocode the addresses\n",
    "\n",
    "Geocode the addresses using the Nominatim geocoding service. Join the results with the input data, and store them in a `geopandas.GeoDataFrame` with the same name (`shopping_centres`). \n",
    "\n",
    "Remember to define a custom `user_agent` string!"
   ]
  },
  {
   "cell_type": "code",
   "execution_count": null,
   "id": "c6270e76-8459-4ec5-8e88-9b031ddb891e",
   "metadata": {},
   "outputs": [],
   "source": [
    "# RUN YOUR CODE HERE"
   ]
  },
  {
   "cell_type": "markdown",
   "id": "b92180ee-7265-498f-a85b-80ab13980cf9",
   "metadata": {},
   "source": [
    " reproject the layer into SWEREF99:"
   ]
  },
  {
   "cell_type": "code",
   "execution_count": null,
   "id": "f33253e8-3038-4fe8-b45e-a040221741f7",
   "metadata": {},
   "outputs": [],
   "source": [
    "# RUN YOUR CODE HERE"
   ]
  },
  {
   "cell_type": "markdown",
   "id": "581f27d5-0ad2-454d-a143-ab434387ef20",
   "metadata": {},
   "source": [
    "\n",
    "---\n",
    "\n",
    "### d) Save the results in a geographical format (such as .shp or .gpkg)\n",
    "\n",
    "Save `shopping_centres` as a *GeoPackage* named `shopping_centres.gpkg`:"
   ]
  },
  {
   "cell_type": "code",
   "execution_count": null,
   "id": "8fddf428-78ab-479a-a5b1-5ae01bd391d5",
   "metadata": {},
   "outputs": [],
   "source": [
    "# RUN YOUR CODE HERE"
   ]
  }
 ],
 "metadata": {
  "kernelspec": {
   "display_name": "Python 3 (ipykernel)",
   "language": "python",
   "name": "python3"
  },
  "language_info": {
   "codemirror_mode": {
    "name": "ipython",
    "version": 3
   },
   "file_extension": ".py",
   "mimetype": "text/x-python",
   "name": "python",
   "nbconvert_exporter": "python",
   "pygments_lexer": "ipython3",
   "version": "3.11.8"
  }
 },
 "nbformat": 4,
 "nbformat_minor": 5
}
