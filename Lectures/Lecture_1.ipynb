{
 "cells": [
  {
   "cell_type": "markdown",
   "id": "128d1c76-d225-4c0b-91c5-15cde84e08df",
   "metadata": {},
   "source": [
    "\n",
    "# Introduction to Spatial Geometry with Python\n",
    "\n",
    "Welcome to the first lecture of our Geospatial Python course. In this session, we'll explore the fundamentals of spatial geometry manipulation using Python. We'll cover how to represent and manipulate basic geometrical shapes such as points, lines, and polygons with the Shapely library (https://shapely.readthedocs.io/en/stable/manual.html). By the end of this lecture, you will understand how to:\n",
    "\n",
    "- Create and manipulate spatial geometries using Shapely.\n",
    "- Understand the properties and methods of different geometrical shapes.\n",
    "- Visualize spatial geometries to enhance your geospatial data analysis skills.\n",
    "- Assess and ensure the validity of geometrical shapes for robust GIS applications."
   ]
  },
  {
   "cell_type": "markdown",
   "id": "442fb811-3a40-4c4e-a318-ee220ea53396",
   "metadata": {},
   "source": [
    "## Geometries"
   ]
  },
  {
   "cell_type": "markdown",
   "id": "38a119df-07ad-4af4-80d1-e36b1ce0b0ea",
   "metadata": {},
   "source": [
    "| Geometry Type     | Visualization |\n",
    "|-------------------|---------------|\n",
    "| **Line**          | <img src=\"https://upload.wikimedia.org/wikipedia/commons/thumb/b/b9/SFA_LineString.svg/1920px-SFA_LineString.svg.png\" width=\"200\" alt=\"Line\"> |\n",
    "| **Point**         | <img src=\"https://upload.wikimedia.org/wikipedia/commons/thumb/c/c2/SFA_Point.svg/1920px-SFA_Point.svg.png\" width=\"200\" alt=\"Point\"> |\n",
    "| **Polygon**       | <img src=\"https://upload.wikimedia.org/wikipedia/commons/thumb/3/3f/SFA_Polygon.svg/1920px-SFA_Polygon.svg.png\" width=\"200\" alt=\"Polygon\"> |\n",
    "| **Polygon with Hole** | <img src=\"https://upload.wikimedia.org/wikipedia/commons/thumb/5/55/SFA_Polygon_with_hole.svg/1920px-SFA_polygon_without_hole.svg.png\" width=\"200\" alt=\"Polygon with Hole\"> |\n",
    "| **MultiPoint**    | <img src=\"https://upload.wikimedia.org/wikipedia/commons/thumb/d/d6/SFA_MultiPoint.svg/1920px-SFA_MultiPoint.svg.png\" width=\"200\" alt=\"MultiPoint\"> |\n",
    "| **MultiLineString** | <img src=\"https://upload.wikimedia.org/wikipedia/commons/thumb/8/86/SFA_MultiLineString.svg/1920px-SFA_MultiLineString.svg.png\" width=\"200\" alt=\"MultiLineString\"> |\n",
    "| **MultiPolygon**  | <img src=\"https://upload.wikimedia.org/wikipedia/commons/thumb/d/dc/SFA_MultiPolygon.svg/1920px-SFA_MultiPolygon.svg.png\" width=\"200\" alt=\"MultiPolygon\"> |\n",
    "| **MultiPolygon with Hole** | <img src=\"https://upload.wikimedia.org/wikipedia/commons/thumb/3/3b/SFA_Multipolygon_without_hole.svg/1920px-SFA_MultiPolygon_with_hole.svg.png\" width=\"200\" alt=\"MultiPolygon with Hole\"> |\n",
    "| **Geometry Collection** | <img src=\"https://upload.wikimedia.org/wikipedia/commons/thumb/1/1d/SFA_GeometryCollection.svg/1920px-SFA_GeometryCollection.svg.png\" width=\"200\" alt=\"Geometry Collection\"> |\n"
   ]
  },
  {
   "cell_type": "markdown",
   "id": "e3a0c682-51f8-4713-b1d7-a082e1a9b667",
   "metadata": {},
   "source": [
    "Geospatial vector data fundamentally comprises points, lines, and polygons, serving as the essential components for spatial data analysis. The Python library **Shapely** (https://shapely.readthedocs.io/en/stable/)  is a key tool for manipulating these geo-spatial objects and performing geometric operations, laying the groundwork for more advanced applications like Geopandas (https://geopandas.org/en/stable/docs.html). \n",
    "\n",
    "This library, widely adopted in geospatial analysis, aligns with the Open Geospatial Consortium’s Simple Feature Access standard (https://www.ogc.org/standard/sfa/), emphasizing the importance of understanding Shapely's concepts for broader geospatial tasks.\n",
    "\n",
    "Beyond these basics, Shapely can handle collections of geometric objects to model more complex structures, like discontinuous administrative areas. This capability highlights Shapely's role in efficiently managing and analyzing geospatial data.\n",
    "\n"
   ]
  },
  {
   "cell_type": "markdown",
   "id": "4af5b431-6a49-4e2d-9d09-bad0b20052e3",
   "metadata": {},
   "source": [
    "## Geometric objects are described and constructed by coordinate tuples"
   ]
  },
  {
   "cell_type": "markdown",
   "id": "e4baac8f-f085-470a-9e5f-4a71eabcfe90",
   "metadata": {},
   "source": [
    "Geometric objects in Shapely are defined using **coordinate tuples, which can be two-dimensional (x, y) or three-dimensional (x, y, z), representing the basic shapes:\n"
   ]
  },
  {
   "cell_type": "markdown",
   "id": "4706c7d2-afcd-4b51-9c28-7fed35c586d7",
   "metadata": {},
   "source": [
    "**Tuples in Python**\n",
    "\n",
    "A **[tuple](https://docs.python.org/3/tutorial/datastructures.html#tuples-and-sequences)** is an immutable Python data structure that holds a sequence of values, separated by commas. Tuples are often used for fixed collections of items, such as coordinate pairs in geospatial data. For instance, `(60.192059, 24.945831)` represents a tuple with two elements.\n",
    "\n",
    "- **Single-value tuple**: To define a tuple with a single value, a trailing comma is required, e.g., `(1,)`. This comma distinguishes it from a simple parenthesis-enclosed object in mathematics.\n",
    "- **Converting lists to tuples**: Use the `tuple()` function to transform a list into a tuple, like `tuple([1, 2, 3])`.\n",
    "\n",
    "**Tuples vs. Lists**\n",
    "\n",
    "While both tuples and lists are sequence data types in Python, they serve different purposes and exhibit distinct characteristics:\n",
    "- **Immutability**: Tuples are immutable, meaning once defined, their content cannot be changed. This contrasts with lists, which are mutable, allowing for modifications such as adding or removing elements.\n",
    "\n",
    "Explore more about Python's data structures in the [Python documentation](https://docs.python.org/3/tutorial/datastructures.html).\n"
   ]
  },
  {
   "cell_type": "markdown",
   "id": "b67fdf42-c7ab-4e41-9380-f721b3f1e90e",
   "metadata": {},
   "source": [
    "### Points"
   ]
  },
  {
   "cell_type": "markdown",
   "id": "93e7cb2c-d646-476a-8c70-98e1da87772e",
   "metadata": {},
   "source": [
    "**Points** are single locations defined by a coordinate tuple.\n"
   ]
  },
  {
   "cell_type": "markdown",
   "id": "e1e29658-e785-44ae-8ff9-42f4a77b1adf",
   "metadata": {},
   "source": [
    "## LineStrings"
   ]
  },
  {
   "cell_type": "markdown",
   "id": "7d10a05a-0e29-49c8-a3bd-c33f4e9bb9dd",
   "metadata": {},
   "source": [
    "**LineStrings** (and **LinearRings**) are sequences of points forming lines or closed rings, respectively. A **LineString** needs at least two points, while a **LinearRing** requires at least three, with the first and last points identical.\n"
   ]
  },
  {
   "cell_type": "markdown",
   "id": "080b038e-b003-4749-9489-7e57db0b52e2",
   "metadata": {},
   "source": [
    "## Polygons"
   ]
  },
  {
   "cell_type": "markdown",
   "id": "0d91bfa1-ab48-43eb-a36c-8601a0bfb325",
   "metadata": {},
   "source": [
    "**Polygons** represent areas bounded by a *LinearRing*, with optional additional *LinearRings* for holes within the area. Defining a polygon requires a minimum of three coordinates, but complexity increases with the addition of holes, which must not intersect and stay within the exterior boundary.\n"
   ]
  },
  {
   "cell_type": "markdown",
   "id": "6123d24c-52d8-4fff-b09b-767075bc732b",
   "metadata": {},
   "source": [
    "Understanding Python's tuples is crucial for working with these geometries, as they are immutable sequences used to represent coordinate pairs or larger groupings. This contrasts with lists, which are mutable and serve different purposes in Python programming.\n",
    "\n",
    "In summary, mastering Shapely and the fundamental geometric objects it manipulates is essential for anyone working with geospatial data in Python, providing a foundation for exploring and analyzing the physical world's spatial dimensions."
   ]
  },
  {
   "cell_type": "markdown",
   "id": "19dc9e5c-e53b-4d97-814e-069a655e47ea",
   "metadata": {},
   "source": [
    "## Collections of geometric objects"
   ]
  },
  {
   "cell_type": "markdown",
   "id": "bf7af488-ac96-4ea5-ae46-db17e5b8a99a",
   "metadata": {},
   "source": [
    "Combining the foundational geometric shapes—points, lines, and polygons—Shapely enables the representation of more intricate geographic entities, such as administrative regions comprising several non-contiguous areas. \n",
    "\n",
    "- MultiPoint geometries encapsulate collections of discrete points.\n",
    "- MultiLineString geometries amalgamate multiple line segments.\n",
    "- MultiPolygon geometries aggregate various polygonal shapes.\n",
    "- GeometryCollection geometries are composite collections that include points, lines, and polygons, alongside their multi-variant forms: multi-points, multi-lines, and multi-polygons.\n",
    "\n"
   ]
  },
  {
   "cell_type": "markdown",
   "id": "de7e6cc2-34a0-4540-91bf-f53e85a57d6a",
   "metadata": {},
   "source": [
    "##  Utilizing Shapely for Geometric Manipulations\n",
    "Shapely is adept at facilitating a broad spectrum of operations on geometric shapes, enhancing the analysis and manipulation of spatial data. Key functionalities include:\n",
    "\n",
    "- Crafting lines and polygons from a cluster of points.\n",
    "- Computing geometric attributes such as *area*, *length*, and *perimeter*.\n",
    "- Executing geometric manipulations, including merging (**union**), subtraction (**difference**), and assessing distances between shapes.\n",
    "- Probing spatial relationships to determine interactions like **intersection**, **adjacency**, and **overlap** among geometries."
   ]
  },
  {
   "cell_type": "markdown",
   "id": "5b8af7fc-4918-4828-a7aa-127d964a9a13",
   "metadata": {},
   "source": [
    "\n",
    "## Introduction to Shapely for Geospatial Data\n",
    "\n",
    "We will start our journey into geospatial data manipulation with the Shapely library. Shapely is a powerful and flexible Python package for handling and analyzing planar geometric objects. It is built on top of the widely used GEOS (Geometry Engine - Open Source) C++ library. Shapely is not concerned with data formats or coordinate systems but focuses on the manipulation and analysis of geometric objects.\n",
    "            "
   ]
  },
  {
   "cell_type": "code",
   "execution_count": 1,
   "id": "d54bb53e-5bb7-4625-b35d-bc2d57529ad7",
   "metadata": {},
   "outputs": [],
   "source": [
    "# Import `shapely.geometry.Point` class\n",
    "from shapely.geometry import Point"
   ]
  },
  {
   "cell_type": "code",
   "execution_count": 2,
   "id": "45bfe9d2-8520-40cb-adb2-110316683b4b",
   "metadata": {},
   "outputs": [],
   "source": [
    "\n",
    "# Create Point objects in 2D:\n",
    "point1 = Point(1, 2)\n",
    "point2 = Point(5, 7)\n",
    "point3 = Point(-3, 4)\n",
    "\n",
    "# Create a Point object in 3D:\n",
    "point4_3D = Point(2, -1, 3)\n"
   ]
  },
  {
   "cell_type": "markdown",
   "id": "1786eef7-9406-4eae-bca4-7e929170c953",
   "metadata": {},
   "source": [
    "Let’s see what these variables now contain:\n",
    "\n"
   ]
  },
  {
   "cell_type": "code",
   "execution_count": 3,
   "id": "b18f3ab3-f3ff-4587-b48d-7b5722f04b85",
   "metadata": {},
   "outputs": [
    {
     "name": "stdout",
     "output_type": "stream",
     "text": [
      "Coordinates of point1: POINT (1 2)\n",
      "Coordinates of point2: POINT (5 7)\n",
      "Coordinates of point3: POINT (-3 4)\n",
      "Coordinates of point4_3D: POINT Z (2 -1 3)\n"
     ]
    }
   ],
   "source": [
    "\n",
    "# Print the coordinates of each point:\n",
    "print(\"Coordinates of point1:\", point1)\n",
    "print(\"Coordinates of point2:\", point2)\n",
    "print(\"Coordinates of point3:\", point3)\n",
    "print(\"Coordinates of point4_3D:\", point4_3D)"
   ]
  },
  {
   "cell_type": "code",
   "execution_count": 4,
   "id": "4a20e2ac-f307-41b8-9dbc-5f7c9295ebfa",
   "metadata": {},
   "outputs": [
    {
     "data": {
      "image/svg+xml": [
       "<svg xmlns=\"http://www.w3.org/2000/svg\" xmlns:xlink=\"http://www.w3.org/1999/xlink\" width=\"100.0\" height=\"100.0\" viewBox=\"1.0 -2.0 2.0 2.0\" preserveAspectRatio=\"xMinYMin meet\"><g transform=\"matrix(1,0,0,-1,0,-2.0)\"><circle cx=\"2.0\" cy=\"-1.0\" r=\"0.06\" stroke=\"#555555\" stroke-width=\"0.02\" fill=\"#66cc99\" opacity=\"0.6\" /></g></svg>"
      ],
      "text/plain": [
       "<shapely.geometry.point.Point at 0x7f704f635f00>"
      ]
     },
     "execution_count": 4,
     "metadata": {},
     "output_type": "execute_result"
    }
   ],
   "source": [
    "point4_3D"
   ]
  },
  {
   "cell_type": "markdown",
   "id": "80f10501-ccbb-4a70-9650-6cf9f3e8b78c",
   "metadata": {},
   "source": [
    "Jupyter notebook is able to display the shape directly on the screen.\n",
    "\n",
    "Alternatively, use a print statement to show the text representation of a shapely geometry object:"
   ]
  },
  {
   "cell_type": "code",
   "execution_count": 5,
   "id": "86032c56",
   "metadata": {},
   "outputs": [
    {
     "name": "stdout",
     "output_type": "stream",
     "text": [
      "POINT Z (2 -1 3)\n"
     ]
    }
   ],
   "source": [
    "print(point4_3D)"
   ]
  },
  {
   "cell_type": "markdown",
   "id": "0aeb2bae-757a-4aa0-9ff9-887dc910cff1",
   "metadata": {},
   "source": [
    "This text representation is in ‘Well-Known Text’ (WKT) format https://en.wikipedia.org/wiki/Well-known_text_representation_of_geometry , a standard set forward in the Open Geospatial Consortium’s (OGC)(https://www.ogc.org/)  Simple Feature Access (https://www.ogc.org/standard/sfa/). This includes the additional letter ‘Z’ that marks the three-dimensional version of a geometry (e.g., our point  <span style=\"color: red;\">point4_3D</span> ).\n",
    "\n"
   ]
  },
  {
   "cell_type": "markdown",
   "id": "9378cbb1-20ce-47b8-9fe0-1c0231a8b2e7",
   "metadata": {},
   "source": [
    "Let’s also check the data type of a point:\n",
    "\n"
   ]
  },
  {
   "cell_type": "code",
   "execution_count": 6,
   "id": "9db360b6-ff79-4614-8d40-812739022536",
   "metadata": {},
   "outputs": [
    {
     "data": {
      "text/plain": [
       "shapely.geometry.point.Point"
      ]
     },
     "execution_count": 6,
     "metadata": {},
     "output_type": "execute_result"
    }
   ],
   "source": [
    "type(point1)"
   ]
  },
  {
   "cell_type": "markdown",
   "id": "81122fd7-dbb4-4928-89c7-7e58d187d109",
   "metadata": {},
   "source": [
    "We can see that the type of the point is a shapely.geometry.point.Point (which is equivalent to shapely.geometry.Point, the class we used to instantiate the point object).\n",
    "\n",
    "Under the hood, shapely uses GEOS to handle geometry objects. GEOS (https://www.osgeo.org/projects/geos/) is a C++ library (much faster than Python code), and is one of the fundamental pillars of the open source GIS world, powering geospatial processing for many projects, including QGIS."
   ]
  },
  {
   "cell_type": "markdown",
   "id": "6d16decc-2528-458e-9f14-08f817509e39",
   "metadata": {},
   "source": [
    "# Point properties and methods"
   ]
  },
  {
   "cell_type": "markdown",
   "id": "c6b59261-d3de-4892-bc44-1741436bb51d",
   "metadata": {},
   "source": [
    "Points and other shapely geometry objects have useful built-in properties and methods. Using the available attributes, we can for example extract the coordinate values of a Point and calculate the Euclidian distance between points.\n",
    "\n",
    "The <span style=\"color: red;\"> geom_type</span> property contains information about the geometry type of a shapely geometry:"
   ]
  },
  {
   "cell_type": "code",
   "execution_count": 7,
   "id": "d344a75c-6dbd-4025-b39f-9ac2b5dce998",
   "metadata": {},
   "outputs": [
    {
     "data": {
      "text/plain": [
       "'Point'"
      ]
     },
     "execution_count": 7,
     "metadata": {},
     "output_type": "execute_result"
    }
   ],
   "source": [
    "point1.geom_type"
   ]
  },
  {
   "cell_type": "markdown",
   "id": "d56d659e-8c6e-48fe-8b49-32fba6b298dc",
   "metadata": {},
   "source": [
    "There are multiple ways to access the coordinates of geometry object. For instance, <span style=\"color: red;\">coords</span>  is a <span style=\"color: red;\">shapely.coords.CoordinateSequence</span>. It is an <span style=\"color: red;\"> Iterator</span>, an efficient Python data structure to iterate over lists of items, but for now we can simply convert it into a list of the (one pair of) coordinates:"
   ]
  },
  {
   "cell_type": "code",
   "execution_count": 8,
   "id": "56ccb0ce-be21-4ad1-a5f5-0aa6161dbe9f",
   "metadata": {},
   "outputs": [
    {
     "data": {
      "text/plain": [
       "[(1.0, 2.0)]"
      ]
     },
     "execution_count": 8,
     "metadata": {},
     "output_type": "execute_result"
    }
   ],
   "source": [
    "# Get coordinate tuple(s)\n",
    "list(point1.coords)"
   ]
  },
  {
   "cell_type": "markdown",
   "id": "f2489036-2261-45b8-99c4-b66047fec9ca",
   "metadata": {},
   "source": [
    "However, since points, by definition, only contain one coordinate tuple, <span style=\"color: red;\"> shapely.geometry.Points</span> have properties to directly access its coordinate values: the properties  <span style=\"color: red;\"> x</span>, <span style=\"color: red;\"> y</span>, and (possibly) <span style=\"color: red;\"> z</span>, which are basic <span style=\"color: red;\"> float</span> type decimal numbers."
   ]
  },
  {
   "cell_type": "code",
   "execution_count": 9,
   "id": "f55b9e73-0efd-4c31-a317-abd52dec7b4d",
   "metadata": {},
   "outputs": [
    {
     "name": "stdout",
     "output_type": "stream",
     "text": [
      "1.0 2.0\n"
     ]
    }
   ],
   "source": [
    "# Read x and y coordinates separately\n",
    "x = point1.x\n",
    "y = point1.y\n",
    "\n",
    "print(x, y)"
   ]
  },
  {
   "cell_type": "code",
   "execution_count": 10,
   "id": "9ef16619-229d-407e-94f5-04084a6907eb",
   "metadata": {},
   "outputs": [
    {
     "name": "stdout",
     "output_type": "stream",
     "text": [
      "2.0 -1.0 3.0\n"
     ]
    }
   ],
   "source": [
    "# Read x, y, and z\n",
    "x = point4_3D.x\n",
    "y = point4_3D.y\n",
    "z = point4_3D.z\n",
    "\n",
    "print(x, y, z)"
   ]
  },
  {
   "cell_type": "markdown",
   "id": "94128ffc-614c-474a-a70e-91cac68497f2",
   "metadata": {},
   "source": [
    "It is also possible to calculate the **distance** (https://shapely.readthedocs.io/en/stable/manual.html#object.distance)  between two objects using the distance method.\n",
    "\n",
    "In our example the distance is calculated in a cartesian coordinate system. When working with real GIS data the distance is based on the used coordinate reference system. always check what is the unit of measurement (for example, meters) in the coordinate reference system you are using.\n",
    "\n",
    "Let’s calculate the distance between  <span style=\"color: red;\">point1</span> and  <span style=\"color: red;\">point2</span>:"
   ]
  },
  {
   "cell_type": "code",
   "execution_count": 11,
   "id": "e8cbcf64-f093-4318-9fc8-3b6dbf03c051",
   "metadata": {},
   "outputs": [
    {
     "name": "stdout",
     "output_type": "stream",
     "text": [
      "POINT (1 2)\n",
      "POINT (-3 4)\n"
     ]
    }
   ],
   "source": [
    "# Check input data\n",
    "print(point1)\n",
    "print(point3)"
   ]
  },
  {
   "cell_type": "code",
   "execution_count": 12,
   "id": "dfa24595-c488-4313-ab07-9ddd57a260c0",
   "metadata": {},
   "outputs": [
    {
     "name": "stdout",
     "output_type": "stream",
     "text": [
      "Distance between the points is 4.47 units\n"
     ]
    }
   ],
   "source": [
    "# Calculate the distance between point1 and point2\n",
    "dist = point1.distance(point3)\n",
    "\n",
    "# Print out a nicely formatted info message\n",
    "print(f\"Distance between the points is {dist:.2f} units\")"
   ]
  },
  {
   "cell_type": "markdown",
   "id": "f5b33068-58ba-4d6f-943d-27fbe048af20",
   "metadata": {
    "tags": []
   },
   "source": [
    "Shapely geometries are, by design, agnostic (unaware) of the reference system used to represent them. Distances and surface area calculated using the built-in shapely methods will always: a) assume a flat, Cartesian, Euclidean space, and b) return the calculated value in the unit of the coordinates (e.g., meters, or degrees).\n",
    "\n",
    "This is perfectly fine for small-scale geo-spatial operations, if you keep yourself aware of the expected output unit. Most packages built on top of shapely, for instance GeoPandas (https://geopandas.org/en/stable/) , which we will get to know in lesson 2, bring their own functions and take the coordinate reference system into consideration."
   ]
  },
  {
   "cell_type": "markdown",
   "id": "458107c5-1100-4be8-aac5-a7fcc109d1d7",
   "metadata": {},
   "source": [
    "# Lines"
   ]
  },
  {
   "cell_type": "markdown",
   "id": "c6672143-560f-42b3-97fd-e686fb3783fd",
   "metadata": {},
   "source": [
    "Creating <span style=\"color: red;\">LineString</span> objects is similar to creating <span style=\"color: red;\">Points</span>. Instead of a single coordinate tuple, we pass a list of coordinate tuples, or a list of points, that make up the line:"
   ]
  },
  {
   "cell_type": "code",
   "execution_count": 13,
   "id": "ead8ec01-8809-4d99-9a36-e9003d489077",
   "metadata": {},
   "outputs": [],
   "source": [
    "# import the LineString class\n",
    "from shapely.geometry import LineString\n",
    "\n",
    "# Create a LineString from our Point objects\n",
    "line = LineString([point1, point2, point3])"
   ]
  },
  {
   "cell_type": "code",
   "execution_count": 14,
   "id": "655b6251-ebba-4a98-99af-6fcdecc93d34",
   "metadata": {},
   "outputs": [],
   "source": [
    "# Create a LineString from a list of coordinates:\n",
    "# (with the same coordinate values as the points, so results should be identical)\n",
    "line2 = LineString([(1, 2), (5, 7), (-3, 4)])\n",
    "\n",
    "\n"
   ]
  },
  {
   "cell_type": "code",
   "execution_count": 15,
   "id": "0d88f95f-afd1-4392-aba8-121994753fac",
   "metadata": {},
   "outputs": [
    {
     "data": {
      "text/plain": [
       "True"
      ]
     },
     "execution_count": 15,
     "metadata": {},
     "output_type": "execute_result"
    }
   ],
   "source": [
    "# Check if the lines are, indeed, identical:\n",
    "line == line2"
   ]
  },
  {
   "cell_type": "code",
   "execution_count": 16,
   "id": "28dfe925-83c6-4e0b-8610-c89052a159f1",
   "metadata": {},
   "outputs": [
    {
     "data": {
      "image/svg+xml": [
       "<svg xmlns=\"http://www.w3.org/2000/svg\" xmlns:xlink=\"http://www.w3.org/1999/xlink\" width=\"100.0\" height=\"100.0\" viewBox=\"-3.32 1.68 8.64 5.640000000000001\" preserveAspectRatio=\"xMinYMin meet\"><g transform=\"matrix(1,0,0,-1,0,9.0)\"><polyline fill=\"none\" stroke=\"#66cc99\" stroke-width=\"0.1728\" points=\"1.0,2.0 5.0,7.0 -3.0,4.0\" opacity=\"0.8\" /></g></svg>"
      ],
      "text/plain": [
       "<shapely.geometry.linestring.LineString at 0x7f70a2d9e3b0>"
      ]
     },
     "execution_count": 16,
     "metadata": {},
     "output_type": "execute_result"
    }
   ],
   "source": [
    "line"
   ]
  },
  {
   "cell_type": "code",
   "execution_count": 17,
   "id": "69260880-ff62-4fed-973b-308698fab1f6",
   "metadata": {},
   "outputs": [
    {
     "name": "stdout",
     "output_type": "stream",
     "text": [
      "LINESTRING (1 2, 5 7, -3 4)\n"
     ]
    }
   ],
   "source": [
    "print(line2)"
   ]
  },
  {
   "cell_type": "markdown",
   "id": "2ea561ba-3921-4c60-a441-e74fb97bc9ba",
   "metadata": {},
   "source": [
    "Again, the text representation is in WKT format. WKT is convenient as it is a human-readable text format that also most GIS tools can readily use.\n",
    "\n",
    "It’s not surprising, but we can see that a <span style=\"color: red;\">LineString</span> is constituted of multiple coordinate tuples. In fact, the value(s) of a WKT <span style=\"color: red;\">LINESTRING</span>  are made up of the values of multiple WKT <span style=\"color: red;\">POINTS</span>, joined together with a comma.\n",
    "\n",
    "Check also the data type:"
   ]
  },
  {
   "cell_type": "code",
   "execution_count": 18,
   "id": "8f78418c-fa92-45b2-a323-8df7363138ef",
   "metadata": {},
   "outputs": [
    {
     "data": {
      "text/plain": [
       "shapely.geometry.linestring.LineString"
      ]
     },
     "execution_count": 18,
     "metadata": {},
     "output_type": "execute_result"
    }
   ],
   "source": [
    "# Check data type of the line object\n",
    "type(line)"
   ]
  },
  {
   "cell_type": "code",
   "execution_count": 19,
   "id": "9a376354-07ef-4dfd-8c88-39c02ced00ee",
   "metadata": {},
   "outputs": [
    {
     "data": {
      "text/plain": [
       "'LineString'"
      ]
     },
     "execution_count": 19,
     "metadata": {},
     "output_type": "execute_result"
    }
   ],
   "source": [
    "# Check geometry type of the line object\n",
    "line.geom_type"
   ]
  },
  {
   "cell_type": "markdown",
   "id": "fa60071a-9460-48ab-b40c-d3f67ecd2837",
   "metadata": {},
   "source": [
    "# LineString properties and methods"
   ]
  },
  {
   "cell_type": "markdown",
   "id": "400e9a99-fc9a-4957-be9a-ed2d5c2db3bd",
   "metadata": {},
   "source": [
    "Linear geometries in their shapely representations (LineString, LinearRing, MultiLineString) have a variety of properties and methods that expose useful functionality. For instance, it is possible to access a geometry’s coordinates, calculate its lengths, find its centre point, create points along the line at a specified interval, or compute the closest distance between a line an another geometry."
   ]
  },
  {
   "cell_type": "markdown",
   "id": "496804af-ff30-4b88-be1e-e5ed41ab7878",
   "metadata": {},
   "source": [
    "### Tip\n",
    "\n",
    "Consult the Shapely user manual (https://shapely.readthedocs.io/en/stable/manual.html)  for a complete list of geometry attributes and operations on one or more geometries."
   ]
  },
  {
   "cell_type": "markdown",
   "id": "ef7a41e7-54ed-4d94-a0ee-551ef40b271c",
   "metadata": {},
   "source": [
    "Fundamentally, accessing the coordinates of a line is very similar as accessing the ones of a point:"
   ]
  },
  {
   "cell_type": "code",
   "execution_count": 20,
   "id": "dc84803f-9083-45e4-9bd7-471afea61e3e",
   "metadata": {},
   "outputs": [
    {
     "data": {
      "text/plain": [
       "[(1.0, 2.0), (5.0, 7.0), (-3.0, 4.0)]"
      ]
     },
     "execution_count": 20,
     "metadata": {},
     "output_type": "execute_result"
    }
   ],
   "source": [
    "# Get coordinate tuples\n",
    "list(line.coords)"
   ]
  },
  {
   "cell_type": "markdown",
   "id": "d40dfab0-d9b7-4cb0-9daf-18b808f7f019",
   "metadata": {},
   "source": [
    "Because a line has to have at least two coordinate tuples, the list now contains more than the one value we saw earlier with points.\n",
    "\n",
    "If you would need to access all x-coordinates or all y-coordinates of the line, you can use its <span style=\"color: red;\">xy</span> attribute (an iterator, but, again, for now, we can use them as lists):"
   ]
  },
  {
   "cell_type": "code",
   "execution_count": 21,
   "id": "1c4a037d-1ac1-4300-b16d-1519201026cb",
   "metadata": {},
   "outputs": [
    {
     "name": "stdout",
     "output_type": "stream",
     "text": [
      "[1.0, 5.0, -3.0]\n",
      "[2.0, 7.0, 4.0]\n"
     ]
    }
   ],
   "source": [
    "# Obtain x and y coordinates\n",
    "xcoords = list(line.xy[0])\n",
    "ycoords = list(line.xy[1])\n",
    "\n",
    "print(xcoords)\n",
    "print(ycoords)"
   ]
  },
  {
   "cell_type": "markdown",
   "id": "01cde933-d95e-4bf4-b6db-6bc85a938c8d",
   "metadata": {},
   "source": [
    "### 3D-LineStrings\n",
    "\n",
    "Note that the <span style=\"color: red;\">xy</span> property of shapely geometries does not return <span style=\"color: red;\">z</span> values for three-dimensional geometries."
   ]
  },
  {
   "cell_type": "markdown",
   "id": "20178c8f-eca8-4196-b985-51da7ff248f9",
   "metadata": {},
   "source": [
    "Other properties of lines that are useful for GIS analyses include the length and the centre point (centroid) of lines:"
   ]
  },
  {
   "cell_type": "code",
   "execution_count": 22,
   "id": "9923999e-6cf6-4883-afe5-ca59755240b9",
   "metadata": {},
   "outputs": [
    {
     "name": "stdout",
     "output_type": "stream",
     "text": [
      "Length of our line: 14.9 units\n"
     ]
    }
   ],
   "source": [
    "# Get the length of the line\n",
    "line_length = line.length\n",
    "print(f\"Length of our line: {line_length:.1f} units\")"
   ]
  },
  {
   "cell_type": "code",
   "execution_count": 23,
   "id": "c5593589-8545-4fc1-994d-0f29143484ba",
   "metadata": {},
   "outputs": [
    {
     "name": "stdout",
     "output_type": "stream",
     "text": [
      "POINT (1.8567698416474827 5.071615079176259)\n"
     ]
    }
   ],
   "source": [
    "# Get the centre point of the line\n",
    "print(line.centroid)"
   ]
  },
  {
   "cell_type": "markdown",
   "id": "ae0ab4fc-235b-4273-8711-167e7625395b",
   "metadata": {},
   "source": [
    "The centroid (or centre point) of a line (or any other shapely geometry) is a <span style=\"color: red;\">shapely.geometry.Point</span> object."
   ]
  },
  {
   "cell_type": "markdown",
   "id": "fe8d44a7-cdf8-4f2d-b762-b71db4eb7d32",
   "metadata": {},
   "source": [
    "# Polygon"
   ]
  },
  {
   "cell_type": "markdown",
   "id": "0c3729a2-d185-405e-b0b1-9f5e943b773c",
   "metadata": {},
   "source": [
    "Creating a polygon geometry follows the same logic as creating a point or line geometry. However, as discussed above the rules for what constitutes a polygon are more complex: It is constructed of exactly one linear ring forming its exterior (perimeter), and any number of additional linear rings forming holes that are cut out of the exterior shell.\n",
    "\n",
    "Consequently, the <span style=\"color: red;\">shapely.geometry.Polygon</span> constructor function accepts two parameter: the first one, <span style=\"color: red;\">shelln</span>, is a list of coordinate tuples, a list of points, or a  <span style=\"color: red;\">LinearRing</span>, and will form the outer hull of the new polygon. The second, optional, parameter  <span style=\"color: red;\">holes</span> can be a list of holes to cut out of shell (the items in the list can be the same data types as<span style=\"color: red;\"> shell</span>).\n",
    "\n",
    "For now, let’s create a simple polygon without any holes. The first example uses (at least three) coordinate tuples (three points are required to form a surface):"
   ]
  },
  {
   "cell_type": "code",
   "execution_count": 24,
   "id": "3d206287-88a1-4613-889e-4d9f9d0e23e5",
   "metadata": {},
   "outputs": [],
   "source": [
    "from shapely.geometry import Polygon\n",
    "# Create Point objects for the vertices of the polygon\n",
    "point1 = Point(0, 0)\n",
    "point2 = Point(5, 0)\n",
    "point3 = Point(5, 5)\n",
    "point4 = Point(0, 5)\n",
    "\n",
    "# Create a Polygon from the coordinates\n",
    "polygon1 = Polygon([(0, 0), (5, 0), (5, 5), (0, 5)])\n"
   ]
  },
  {
   "cell_type": "code",
   "execution_count": 25,
   "id": "86ace3ed-7bcd-420a-8f78-cc147506adf8",
   "metadata": {},
   "outputs": [],
   "source": [
    "# Create a Polygon from list of points\n",
    "polygon2 = Polygon([point1, point2, point3,point4])"
   ]
  },
  {
   "cell_type": "markdown",
   "id": "1b98f4b5-946f-4d57-8fc2-b1892ddaadaa",
   "metadata": {},
   "source": [
    "… or from a  **LinearRing** https://shapely.readthedocs.io/en/stable/manual.html#linearrings (which has an almost identical behaviour as a **LineString**, except that it is closed, i.e., the first and last point are identical):"
   ]
  },
  {
   "cell_type": "code",
   "execution_count": 26,
   "id": "d6e53a5d-9991-4388-acdc-7b681f77cc82",
   "metadata": {},
   "outputs": [],
   "source": [
    "from shapely.geometry import LinearRing\n",
    "\n",
    "# Create a LinearRing object from the points\n",
    "shell = LinearRing([point1, point2, point3, point4, point1])\n",
    "polygon3= Polygon(shell)"
   ]
  },
  {
   "cell_type": "markdown",
   "id": "b9c51c0e-ba09-4784-a765-20f417020074",
   "metadata": {},
   "source": [
    "(When constructing a  <span style=\"color: red;\">shapely.geometry.LinearRing</span>, you can omit listing the first point again at the end; shapely will then implicitely add the first point another time to the end of the list of points)\n",
    "\n",
    "We used different methods to construct the three polygons, but we used the same values. Let’s see whether they ended up describing identical geometries:"
   ]
  },
  {
   "cell_type": "code",
   "execution_count": 27,
   "id": "e678a414-08c4-4c6e-b1cd-675b5d67fcc8",
   "metadata": {},
   "outputs": [
    {
     "data": {
      "text/plain": [
       "True"
      ]
     },
     "execution_count": 27,
     "metadata": {},
     "output_type": "execute_result"
    }
   ],
   "source": [
    "polygon1  == polygon3"
   ]
  },
  {
   "cell_type": "markdown",
   "id": "3c7f1e2a-0ab6-4ae4-9533-85ce2882c9df",
   "metadata": {},
   "source": [
    "Let’s also see how the polygon looks like drawn, and what its text representation is:"
   ]
  },
  {
   "cell_type": "code",
   "execution_count": 28,
   "id": "55e950e8-e55c-4ac5-b808-232028e7db04",
   "metadata": {},
   "outputs": [
    {
     "data": {
      "image/svg+xml": [
       "<svg xmlns=\"http://www.w3.org/2000/svg\" xmlns:xlink=\"http://www.w3.org/1999/xlink\" width=\"100.0\" height=\"100.0\" viewBox=\"-0.2 -0.2 5.4 5.4\" preserveAspectRatio=\"xMinYMin meet\"><g transform=\"matrix(1,0,0,-1,0,5.0)\"><path fill-rule=\"evenodd\" fill=\"#66cc99\" stroke=\"#555555\" stroke-width=\"0.10800000000000001\" opacity=\"0.6\" d=\"M 0.0,0.0 L 5.0,0.0 L 5.0,5.0 L 0.0,5.0 L 0.0,0.0 z\" /></g></svg>"
      ],
      "text/plain": [
       "<shapely.geometry.polygon.Polygon at 0x7f70a2dc7a60>"
      ]
     },
     "execution_count": 28,
     "metadata": {},
     "output_type": "execute_result"
    }
   ],
   "source": [
    "polygon1"
   ]
  },
  {
   "cell_type": "code",
   "execution_count": 29,
   "id": "b7910022-a33b-44e0-a49a-7e32cecb5c5d",
   "metadata": {},
   "outputs": [
    {
     "name": "stdout",
     "output_type": "stream",
     "text": [
      "POLYGON ((0 0, 5 0, 5 5, 0 5, 0 0))\n"
     ]
    }
   ],
   "source": [
    "print(polygon1)"
   ]
  },
  {
   "cell_type": "code",
   "execution_count": 30,
   "id": "cc993650",
   "metadata": {},
   "outputs": [
    {
     "data": {
      "image/svg+xml": [
       "<svg xmlns=\"http://www.w3.org/2000/svg\" xmlns:xlink=\"http://www.w3.org/1999/xlink\" width=\"100.0\" height=\"100.0\" viewBox=\"-0.2 -0.2 5.4 5.4\" preserveAspectRatio=\"xMinYMin meet\"><g transform=\"matrix(1,0,0,-1,0,5.0)\"><path fill-rule=\"evenodd\" fill=\"#66cc99\" stroke=\"#555555\" stroke-width=\"0.10800000000000001\" opacity=\"0.6\" d=\"M 0.0,0.0 L 5.0,0.0 L 5.0,5.0 L 0.0,5.0 L 0.0,0.0 z\" /></g></svg>"
      ],
      "text/plain": [
       "<shapely.geometry.polygon.Polygon at 0x7f70a2dc7280>"
      ]
     },
     "execution_count": 30,
     "metadata": {},
     "output_type": "execute_result"
    }
   ],
   "source": [
    "polygon3"
   ]
  },
  {
   "cell_type": "markdown",
   "id": "870d34db-5d4f-4ef1-b056-81fa3e7e199e",
   "metadata": {},
   "source": [
    "Just like with points and lines, the text representation of a <span style=\"color: red;\">shapely.geometry.Polygon</span> is in the Well-Known Text format. Note how a WKT <span style=\"color: red;\">POLYGON</span> is made up of the values of one or more WKT <span style=\"color: red;\">LINEARRING</span>’s values (closed line strings), in parentheses, and joined together by commas. The first linear ring represents the exterior, all following ones holes. (Our example polygon consists of one linear ring, only, so no need for the comma).\n",
    "\n",
    "Check also the data type:"
   ]
  },
  {
   "cell_type": "code",
   "execution_count": 31,
   "id": "8b82c97c-20b7-4636-8fd3-bda939f5299d",
   "metadata": {},
   "outputs": [
    {
     "data": {
      "text/plain": [
       "shapely.geometry.polygon.Polygon"
      ]
     },
     "execution_count": 31,
     "metadata": {},
     "output_type": "execute_result"
    }
   ],
   "source": [
    "# Data type\n",
    "type(polygon1)"
   ]
  },
  {
   "cell_type": "code",
   "execution_count": 32,
   "id": "4da42f33-f3f4-436d-85e7-6932c19cad62",
   "metadata": {},
   "outputs": [
    {
     "data": {
      "text/plain": [
       "'Polygon'"
      ]
     },
     "execution_count": 32,
     "metadata": {},
     "output_type": "execute_result"
    }
   ],
   "source": [
    "# Geometry type\n",
    "polygon1.geom_type"
   ]
  },
  {
   "cell_type": "markdown",
   "id": "31904848-eb73-4056-a7a1-cc964fdce748",
   "metadata": {},
   "source": [
    "### Tip\n",
    "\n",
    "You can always use the built-in <span style=\"color: red;\">help()</span> function to find out how a function or class works, which parameters it expects, and what properties and methods you can use:"
   ]
  },
  {
   "cell_type": "code",
   "execution_count": 33,
   "id": "9feb2b61-521a-49ab-937e-d79b9648faed",
   "metadata": {},
   "outputs": [
    {
     "name": "stdout",
     "output_type": "stream",
     "text": [
      "Help on class Polygon in module shapely.geometry.polygon:\n",
      "\n",
      "class Polygon(shapely.geometry.base.BaseGeometry)\n",
      " |  Polygon(shell=None, holes=None)\n",
      " |  \n",
      " |  A two-dimensional figure bounded by a linear ring\n",
      " |  \n",
      " |  A polygon has a non-zero area. It may have one or more negative-space\n",
      " |  \"holes\" which are also bounded by linear rings. If any rings cross each\n",
      " |  other, the feature is invalid and operations on it may fail.\n",
      " |  \n",
      " |  Attributes\n",
      " |  ----------\n",
      " |  exterior : LinearRing\n",
      " |      The ring which bounds the positive space of the polygon.\n",
      " |  interiors : sequence\n",
      " |      A sequence of rings which bound all existing holes.\n",
      " |  \n",
      " |  Method resolution order:\n",
      " |      Polygon\n",
      " |      shapely.geometry.base.BaseGeometry\n",
      " |      builtins.object\n",
      " |  \n",
      " |  Methods defined here:\n",
      " |  \n",
      " |  __eq__(self, other)\n",
      " |      Return self==value.\n",
      " |  \n",
      " |  __init__(self, shell=None, holes=None)\n",
      " |      Parameters\n",
      " |      ----------\n",
      " |      shell : sequence\n",
      " |          A sequence of (x, y [,z]) numeric coordinate pairs or triples.\n",
      " |          Also can be a sequence of Point objects.\n",
      " |      holes : sequence\n",
      " |          A sequence of objects which satisfy the same requirements as the\n",
      " |          shell parameters above\n",
      " |      \n",
      " |      Example\n",
      " |      -------\n",
      " |      Create a square polygon with no holes\n",
      " |      \n",
      " |        >>> coords = ((0., 0.), (0., 1.), (1., 1.), (1., 0.), (0., 0.))\n",
      " |        >>> polygon = Polygon(coords)\n",
      " |        >>> polygon.area\n",
      " |        1.0\n",
      " |  \n",
      " |  __ne__(self, other)\n",
      " |      Return self!=value.\n",
      " |  \n",
      " |  svg(self, scale_factor=1.0, fill_color=None, opacity=None)\n",
      " |      Returns SVG path element for the Polygon geometry.\n",
      " |      \n",
      " |      Parameters\n",
      " |      ==========\n",
      " |      scale_factor : float\n",
      " |          Multiplication factor for the SVG stroke-width.  Default is 1.\n",
      " |      fill_color : str, optional\n",
      " |          Hex string for fill color. Default is to use \"#66cc99\" if\n",
      " |          geometry is valid, and \"#ff3333\" if invalid.\n",
      " |      opacity : float\n",
      " |          Float number between 0 and 1 for color opacity. Default value is 0.6\n",
      " |  \n",
      " |  ----------------------------------------------------------------------\n",
      " |  Class methods defined here:\n",
      " |  \n",
      " |  from_bounds(xmin, ymin, xmax, ymax) from builtins.type\n",
      " |      Construct a `Polygon()` from spatial bounds.\n",
      " |  \n",
      " |  ----------------------------------------------------------------------\n",
      " |  Readonly properties defined here:\n",
      " |  \n",
      " |  __array_interface__\n",
      " |      Provide the Numpy array protocol.\n",
      " |  \n",
      " |  __geo_interface__\n",
      " |      Dictionary representation of the geometry\n",
      " |  \n",
      " |  coords\n",
      " |      Access to geometry's coordinates (CoordinateSequence)\n",
      " |  \n",
      " |  exterior\n",
      " |  \n",
      " |  interiors\n",
      " |  \n",
      " |  ----------------------------------------------------------------------\n",
      " |  Data and other attributes defined here:\n",
      " |  \n",
      " |  __hash__ = None\n",
      " |  \n",
      " |  ----------------------------------------------------------------------\n",
      " |  Methods inherited from shapely.geometry.base.BaseGeometry:\n",
      " |  \n",
      " |  __and__(self, other)\n",
      " |  \n",
      " |  __bool__(self)\n",
      " |  \n",
      " |  __del__(self)\n",
      " |  \n",
      " |  __nonzero__(self)\n",
      " |  \n",
      " |  __or__(self, other)\n",
      " |      Return self|value.\n",
      " |  \n",
      " |  __reduce__(self)\n",
      " |      Helper for pickle.\n",
      " |  \n",
      " |  __setattr__(self, name, value)\n",
      " |      Implement setattr(self, name, value).\n",
      " |  \n",
      " |  __setstate__(self, state)\n",
      " |  \n",
      " |  __str__(self)\n",
      " |      Return str(self).\n",
      " |  \n",
      " |  __sub__(self, other)\n",
      " |  \n",
      " |  __xor__(self, other)\n",
      " |  \n",
      " |  almost_equals(self, other, decimal=6)\n",
      " |      True if geometries are equal at all coordinates to a\n",
      " |      specified decimal place.\n",
      " |      \n",
      " |      .. deprecated:: 1.8.0 The 'almost_equals()' method is deprecated\n",
      " |          and will be removed in Shapely 2.0 because the name is\n",
      " |          confusing. The 'equals_exact()' method should be used\n",
      " |          instead.\n",
      " |      \n",
      " |      Refers to approximate coordinate equality, which requires\n",
      " |      coordinates to be approximately equal and in the same order for\n",
      " |      all components of a geometry.\n",
      " |      \n",
      " |      Because of this it is possible for \"equals()\" to be True for two\n",
      " |      geometries and \"almost_equals()\" to be False.\n",
      " |      \n",
      " |      Examples\n",
      " |      --------\n",
      " |      >>> LineString(\n",
      " |      ...     [(0, 0), (2, 2)]\n",
      " |      ... ).equals_exact(\n",
      " |      ...     LineString([(0, 0), (1, 1), (2, 2)]),\n",
      " |      ...     1e-6\n",
      " |      ... )\n",
      " |      False\n",
      " |      \n",
      " |      Returns\n",
      " |      -------\n",
      " |      bool\n",
      " |  \n",
      " |  buffer(self, distance, resolution=16, quadsegs=None, cap_style=1, join_style=1, mitre_limit=5.0, single_sided=False)\n",
      " |      Get a geometry that represents all points within a distance\n",
      " |      of this geometry.\n",
      " |      \n",
      " |      A positive distance produces a dilation, a negative distance an\n",
      " |      erosion. A very small or zero distance may sometimes be used to\n",
      " |      \"tidy\" a polygon.\n",
      " |      \n",
      " |      Parameters\n",
      " |      ----------\n",
      " |      distance : float\n",
      " |          The distance to buffer around the object.\n",
      " |      resolution : int, optional\n",
      " |          The resolution of the buffer around each vertex of the\n",
      " |          object.\n",
      " |      quadsegs : int, optional\n",
      " |          Sets the number of line segments used to approximate an\n",
      " |          angle fillet.  Note: the use of a `quadsegs` parameter is\n",
      " |          deprecated and will be gone from the next major release.\n",
      " |      cap_style : int, optional\n",
      " |          The styles of caps are: CAP_STYLE.round (1), CAP_STYLE.flat\n",
      " |          (2), and CAP_STYLE.square (3).\n",
      " |      join_style : int, optional\n",
      " |          The styles of joins between offset segments are:\n",
      " |          JOIN_STYLE.round (1), JOIN_STYLE.mitre (2), and\n",
      " |          JOIN_STYLE.bevel (3).\n",
      " |      mitre_limit : float, optional\n",
      " |          The mitre limit ratio is used for very sharp corners. The\n",
      " |          mitre ratio is the ratio of the distance from the corner to\n",
      " |          the end of the mitred offset corner. When two line segments\n",
      " |          meet at a sharp angle, a miter join will extend the original\n",
      " |          geometry. To prevent unreasonable geometry, the mitre limit\n",
      " |          allows controlling the maximum length of the join corner.\n",
      " |          Corners with a ratio which exceed the limit will be beveled.\n",
      " |      single_side : bool, optional\n",
      " |          The side used is determined by the sign of the buffer\n",
      " |          distance:\n",
      " |      \n",
      " |              a positive distance indicates the left-hand side\n",
      " |              a negative distance indicates the right-hand side\n",
      " |      \n",
      " |          The single-sided buffer of point geometries is the same as\n",
      " |          the regular buffer.  The End Cap Style for single-sided\n",
      " |          buffers is always ignored, and forced to the equivalent of\n",
      " |          CAP_FLAT.\n",
      " |      \n",
      " |      Returns\n",
      " |      -------\n",
      " |      Geometry\n",
      " |      \n",
      " |      Notes\n",
      " |      -----\n",
      " |      The return value is a strictly two-dimensional geometry. All\n",
      " |      Z coordinates of the original geometry will be ignored.\n",
      " |      \n",
      " |      Examples\n",
      " |      --------\n",
      " |      >>> from shapely.wkt import loads\n",
      " |      >>> g = loads('POINT (0.0 0.0)')\n",
      " |      >>> g.buffer(1.0).area        # 16-gon approx of a unit radius circle\n",
      " |      3.1365484905459...\n",
      " |      >>> g.buffer(1.0, 128).area   # 128-gon approximation\n",
      " |      3.141513801144...\n",
      " |      >>> round(g.buffer(1.0, 3).area, 10)  # triangle approximation\n",
      " |      3.0\n",
      " |      >>> list(g.buffer(1.0, cap_style=CAP_STYLE.square).exterior.coords)\n",
      " |      [(1.0, 1.0), (1.0, -1.0), (-1.0, -1.0), (-1.0, 1.0), (1.0, 1.0)]\n",
      " |      >>> g.buffer(1.0, cap_style=CAP_STYLE.square).area\n",
      " |      4.0\n",
      " |  \n",
      " |  contains(self, other)\n",
      " |      Returns True if the geometry contains the other, else False\n",
      " |  \n",
      " |  covered_by(self, other)\n",
      " |      Returns True if the geometry is covered by the other, else False\n",
      " |  \n",
      " |  covers(self, other)\n",
      " |      Returns True if the geometry covers the other, else False\n",
      " |  \n",
      " |  crosses(self, other)\n",
      " |      Returns True if the geometries cross, else False\n",
      " |  \n",
      " |  difference(self, other)\n",
      " |      Returns the difference of the geometries\n",
      " |  \n",
      " |  disjoint(self, other)\n",
      " |      Returns True if geometries are disjoint, else False\n",
      " |  \n",
      " |  distance(self, other)\n",
      " |      Unitless distance to other geometry (float)\n",
      " |  \n",
      " |  empty(self, val=94852244300528)\n",
      " |  \n",
      " |  equals(self, other)\n",
      " |      Returns True if geometries are equal, else False.\n",
      " |      \n",
      " |      This method considers point-set equality (or topological\n",
      " |      equality), and is equivalent to (self.within(other) &\n",
      " |      self.contains(other)).\n",
      " |      \n",
      " |      Examples\n",
      " |      --------\n",
      " |      >>> LineString(\n",
      " |      ...     [(0, 0), (2, 2)]\n",
      " |      ... ).equals(\n",
      " |      ...     LineString([(0, 0), (1, 1), (2, 2)])\n",
      " |      ... )\n",
      " |      True\n",
      " |      \n",
      " |      Returns\n",
      " |      -------\n",
      " |      bool\n",
      " |  \n",
      " |  equals_exact(self, other, tolerance)\n",
      " |      True if geometries are equal to within a specified\n",
      " |      tolerance.\n",
      " |      \n",
      " |      Parameters\n",
      " |      ----------\n",
      " |      other : BaseGeometry\n",
      " |          The other geometry object in this comparison.\n",
      " |      tolerance : float\n",
      " |          Absolute tolerance in the same units as coordinates.\n",
      " |      \n",
      " |      This method considers coordinate equality, which requires\n",
      " |      coordinates to be equal and in the same order for all components\n",
      " |      of a geometry.\n",
      " |      \n",
      " |      Because of this it is possible for \"equals()\" to be True for two\n",
      " |      geometries and \"equals_exact()\" to be False.\n",
      " |      \n",
      " |      Examples\n",
      " |      --------\n",
      " |      >>> LineString(\n",
      " |      ...     [(0, 0), (2, 2)]\n",
      " |      ... ).equals_exact(\n",
      " |      ...     LineString([(0, 0), (1, 1), (2, 2)]),\n",
      " |      ...     1e-6\n",
      " |      ... )\n",
      " |      False\n",
      " |      \n",
      " |      Returns\n",
      " |      -------\n",
      " |      bool\n",
      " |  \n",
      " |  geometryType(self)\n",
      " |  \n",
      " |  hausdorff_distance(self, other)\n",
      " |      Unitless hausdorff distance to other geometry (float)\n",
      " |  \n",
      " |  interpolate(self, distance, normalized=False)\n",
      " |      Return a point at the specified distance along a linear geometry\n",
      " |      \n",
      " |      Negative length values are taken as measured in the reverse\n",
      " |      direction from the end of the geometry. Out-of-range index\n",
      " |      values are handled by clamping them to the valid range of values.\n",
      " |      If the normalized arg is True, the distance will be interpreted as a\n",
      " |      fraction of the geometry's length.\n",
      " |  \n",
      " |  intersection(self, other)\n",
      " |      Returns the intersection of the geometries\n",
      " |  \n",
      " |  intersects(self, other)\n",
      " |      Returns True if geometries intersect, else False\n",
      " |  \n",
      " |  normalize(self)\n",
      " |      Converts geometry to normal form (or canonical form).\n",
      " |      \n",
      " |      This method orders the coordinates, rings of a polygon and parts of\n",
      " |      multi geometries consistently. Typically useful for testing purposes\n",
      " |      (for example in combination with `equals_exact`).\n",
      " |      \n",
      " |      Examples\n",
      " |      --------\n",
      " |      >>> from shapely.wkt import loads\n",
      " |      >>> p = loads(\"MULTILINESTRING((0 0, 1 1), (3 3, 2 2))\")\n",
      " |      >>> p.normalize().wkt\n",
      " |      'MULTILINESTRING ((2 2, 3 3), (0 0, 1 1))'\n",
      " |  \n",
      " |  overlaps(self, other)\n",
      " |      Returns True if geometries overlap, else False\n",
      " |  \n",
      " |  project(self, other, normalized=False)\n",
      " |      Returns the distance along this geometry to a point nearest the\n",
      " |      specified point\n",
      " |      \n",
      " |      If the normalized arg is True, return the distance normalized to the\n",
      " |      length of the linear geometry.\n",
      " |  \n",
      " |  relate(self, other)\n",
      " |      Returns the DE-9IM intersection matrix for the two geometries\n",
      " |      (string)\n",
      " |  \n",
      " |  relate_pattern(self, other, pattern)\n",
      " |      Returns True if the DE-9IM string code for the relationship between\n",
      " |      the geometries satisfies the pattern, else False\n",
      " |  \n",
      " |  representative_point(self)\n",
      " |      Returns a point guaranteed to be within the object, cheaply.\n",
      " |  \n",
      " |  simplify(self, tolerance, preserve_topology=True)\n",
      " |      Returns a simplified geometry produced by the Douglas-Peucker\n",
      " |      algorithm\n",
      " |      \n",
      " |      Coordinates of the simplified geometry will be no more than the\n",
      " |      tolerance distance from the original. Unless the topology preserving\n",
      " |      option is used, the algorithm may produce self-intersecting or\n",
      " |      otherwise invalid geometries.\n",
      " |  \n",
      " |  symmetric_difference(self, other)\n",
      " |      Returns the symmetric difference of the geometries\n",
      " |      (Shapely geometry)\n",
      " |  \n",
      " |  touches(self, other)\n",
      " |      Returns True if geometries touch, else False\n",
      " |  \n",
      " |  union(self, other)\n",
      " |      Returns the union of the geometries (Shapely geometry)\n",
      " |  \n",
      " |  within(self, other)\n",
      " |      Returns True if geometry is within the other, else False\n",
      " |  \n",
      " |  ----------------------------------------------------------------------\n",
      " |  Readonly properties inherited from shapely.geometry.base.BaseGeometry:\n",
      " |  \n",
      " |  area\n",
      " |      Unitless area of the geometry (float)\n",
      " |  \n",
      " |  array_interface_base\n",
      " |  \n",
      " |  boundary\n",
      " |      Returns a lower dimension geometry that bounds the object\n",
      " |      \n",
      " |      The boundary of a polygon is a line, the boundary of a line is a\n",
      " |      collection of points. The boundary of a point is an empty (null)\n",
      " |      collection.\n",
      " |  \n",
      " |  bounds\n",
      " |      Returns minimum bounding region (minx, miny, maxx, maxy)\n",
      " |  \n",
      " |  centroid\n",
      " |      Returns the geometric center of the object\n",
      " |  \n",
      " |  convex_hull\n",
      " |      Imagine an elastic band stretched around the geometry: that's a\n",
      " |      convex hull, more or less\n",
      " |      \n",
      " |      The convex hull of a three member multipoint, for example, is a\n",
      " |      triangular polygon.\n",
      " |  \n",
      " |  ctypes\n",
      " |      Return ctypes buffer\n",
      " |  \n",
      " |  envelope\n",
      " |      A figure that envelopes the geometry\n",
      " |  \n",
      " |  geom_type\n",
      " |      Name of the geometry's type, such as 'Point'\n",
      " |  \n",
      " |  has_z\n",
      " |      True if the geometry's coordinate sequence(s) have z values (are\n",
      " |      3-dimensional)\n",
      " |  \n",
      " |  is_closed\n",
      " |      True if the geometry is closed, else False\n",
      " |      \n",
      " |      Applicable only to 1-D geometries.\n",
      " |  \n",
      " |  is_empty\n",
      " |      True if the set of points in this geometry is empty, else False\n",
      " |  \n",
      " |  is_ring\n",
      " |      True if the geometry is a closed ring, else False\n",
      " |  \n",
      " |  is_simple\n",
      " |      True if the geometry is simple, meaning that any self-intersections\n",
      " |      are only at boundary points, else False\n",
      " |  \n",
      " |  is_valid\n",
      " |      True if the geometry is valid (definition depends on sub-class),\n",
      " |      else False\n",
      " |  \n",
      " |  length\n",
      " |      Unitless length of the geometry (float)\n",
      " |  \n",
      " |  minimum_clearance\n",
      " |      Unitless distance by which a node could be moved to produce an invalid geometry (float)\n",
      " |  \n",
      " |  minimum_rotated_rectangle\n",
      " |      Returns the general minimum bounding rectangle of\n",
      " |      the geometry. Can possibly be rotated. If the convex hull\n",
      " |      of the object is a degenerate (line or point) this same degenerate\n",
      " |      is returned.\n",
      " |  \n",
      " |  type\n",
      " |  \n",
      " |  wkb\n",
      " |      WKB representation of the geometry\n",
      " |  \n",
      " |  wkb_hex\n",
      " |      WKB hex representation of the geometry\n",
      " |  \n",
      " |  wkt\n",
      " |      WKT representation of the geometry\n",
      " |  \n",
      " |  xy\n",
      " |      Separate arrays of X and Y coordinate values\n",
      " |  \n",
      " |  ----------------------------------------------------------------------\n",
      " |  Data descriptors inherited from shapely.geometry.base.BaseGeometry:\n",
      " |  \n",
      " |  __dict__\n",
      " |      dictionary for instance variables (if defined)\n",
      " |  \n",
      " |  __weakref__\n",
      " |      list of weak references to the object (if defined)\n",
      " |  \n",
      " |  ----------------------------------------------------------------------\n",
      " |  Data and other attributes inherited from shapely.geometry.base.BaseGeometry:\n",
      " |  \n",
      " |  __geom__ = 94852244300528\n",
      " |  \n",
      " |  __p__ = None\n",
      " |  \n",
      " |  impl = <GEOSImpl object: GEOS C API version (1, 13, 0)>\n",
      "\n"
     ]
    }
   ],
   "source": [
    "# Check the help for Polygon objects:\n",
    "help(Polygon)"
   ]
  },
  {
   "cell_type": "markdown",
   "id": "608be5ee-70d9-42b5-ace7-0437bab09879",
   "metadata": {},
   "source": [
    "Let’s still see how to create a polygon with a hole:"
   ]
  },
  {
   "cell_type": "code",
   "execution_count": 34,
   "id": "d64ed093-a345-4dd1-8a88-a1def368d694",
   "metadata": {},
   "outputs": [],
   "source": [
    "# define the exterior\n",
    "outer = LinearRing([(-180, 90), (-180, -90), (180, -90), (180, 90)])\n",
    "\n",
    "# define a hole:\n",
    "hole = LinearRing([(-170, 80), (-100, -80), (100, -80), (170, 80)])"
   ]
  },
  {
   "cell_type": "markdown",
   "id": "4b86b3fd-444f-4ef6-970e-2e840be247b3",
   "metadata": {},
   "source": [
    "Let’s see how the exterior shell and the hole look like on their own:\n",
    "\n"
   ]
  },
  {
   "cell_type": "code",
   "execution_count": 35,
   "id": "007bcf2f-33a1-4233-9f94-769dca911b8b",
   "metadata": {},
   "outputs": [
    {
     "data": {
      "image/svg+xml": [
       "<svg xmlns=\"http://www.w3.org/2000/svg\" xmlns:xlink=\"http://www.w3.org/1999/xlink\" width=\"300\" height=\"208.8\" viewBox=\"-194.4 -104.4 388.8 208.8\" preserveAspectRatio=\"xMinYMin meet\"><g transform=\"matrix(1,0,0,-1,0,0.0)\"><polyline fill=\"none\" stroke=\"#66cc99\" stroke-width=\"2.592\" points=\"-180.0,90.0 -180.0,-90.0 180.0,-90.0 180.0,90.0 -180.0,90.0\" opacity=\"0.8\" /></g></svg>"
      ],
      "text/plain": [
       "<shapely.geometry.polygon.LinearRing at 0x7f704f6370d0>"
      ]
     },
     "execution_count": 35,
     "metadata": {},
     "output_type": "execute_result"
    }
   ],
   "source": [
    "outer"
   ]
  },
  {
   "cell_type": "code",
   "execution_count": 36,
   "id": "a704286c-033d-4508-8ca9-3973f412fd6a",
   "metadata": {},
   "outputs": [
    {
     "data": {
      "image/svg+xml": [
       "<svg xmlns=\"http://www.w3.org/2000/svg\" xmlns:xlink=\"http://www.w3.org/1999/xlink\" width=\"300\" height=\"187.2\" viewBox=\"-183.6 -93.6 367.2 187.2\" preserveAspectRatio=\"xMinYMin meet\"><g transform=\"matrix(1,0,0,-1,0,0.0)\"><polyline fill=\"none\" stroke=\"#66cc99\" stroke-width=\"2.448\" points=\"-170.0,80.0 -100.0,-80.0 100.0,-80.0 170.0,80.0 -170.0,80.0\" opacity=\"0.8\" /></g></svg>"
      ],
      "text/plain": [
       "<shapely.geometry.polygon.LinearRing at 0x7f704f636620>"
      ]
     },
     "execution_count": 36,
     "metadata": {},
     "output_type": "execute_result"
    }
   ],
   "source": [
    "hole"
   ]
  },
  {
   "cell_type": "markdown",
   "id": "569a6aff-e524-4bae-9ec0-d53f8ee0e13d",
   "metadata": {},
   "source": [
    "A polygon using only the exterior shell:"
   ]
  },
  {
   "cell_type": "code",
   "execution_count": 37,
   "id": "6f864d84-8932-4e9e-a89b-42e0ff267b6d",
   "metadata": {},
   "outputs": [
    {
     "data": {
      "image/svg+xml": [
       "<svg xmlns=\"http://www.w3.org/2000/svg\" xmlns:xlink=\"http://www.w3.org/1999/xlink\" width=\"300\" height=\"208.8\" viewBox=\"-194.4 -104.4 388.8 208.8\" preserveAspectRatio=\"xMinYMin meet\"><g transform=\"matrix(1,0,0,-1,0,0.0)\"><path fill-rule=\"evenodd\" fill=\"#66cc99\" stroke=\"#555555\" stroke-width=\"2.592\" opacity=\"0.6\" d=\"M -180.0,90.0 L -180.0,-90.0 L 180.0,-90.0 L 180.0,90.0 L -180.0,90.0 z\" /></g></svg>"
      ],
      "text/plain": [
       "<shapely.geometry.polygon.Polygon at 0x7f704f6367d0>"
      ]
     },
     "execution_count": 37,
     "metadata": {},
     "output_type": "execute_result"
    }
   ],
   "source": [
    "polygon_without_hole = Polygon(outer)\n",
    "polygon_without_hole"
   ]
  },
  {
   "cell_type": "markdown",
   "id": "69bb0d1e-c794-435f-82c8-0abc7e49394a",
   "metadata": {},
   "source": [
    "And, finally, a polygon defined by the exterior shell, and one <span style=\"color: red;\">hole()</span> (note that holes need to be specified as a list):"
   ]
  },
  {
   "cell_type": "code",
   "execution_count": 38,
   "id": "c5c75c02-d214-4057-b916-7a31c89a00c7",
   "metadata": {},
   "outputs": [
    {
     "data": {
      "image/svg+xml": [
       "<svg xmlns=\"http://www.w3.org/2000/svg\" xmlns:xlink=\"http://www.w3.org/1999/xlink\" width=\"300\" height=\"208.8\" viewBox=\"-194.4 -104.4 388.8 208.8\" preserveAspectRatio=\"xMinYMin meet\"><g transform=\"matrix(1,0,0,-1,0,0.0)\"><path fill-rule=\"evenodd\" fill=\"#66cc99\" stroke=\"#555555\" stroke-width=\"2.592\" opacity=\"0.6\" d=\"M -180.0,90.0 L -180.0,-90.0 L 180.0,-90.0 L 180.0,90.0 L -180.0,90.0 z M -170.0,80.0 L -100.0,-80.0 L 100.0,-80.0 L 170.0,80.0 L -170.0,80.0 z\" /></g></svg>"
      ],
      "text/plain": [
       "<shapely.geometry.polygon.Polygon at 0x7f704f637190>"
      ]
     },
     "execution_count": 38,
     "metadata": {},
     "output_type": "execute_result"
    }
   ],
   "source": [
    "polygon_with_hole = Polygon(outer, [hole])\n",
    "polygon_with_hole"
   ]
  },
  {
   "cell_type": "code",
   "execution_count": 39,
   "id": "a258a1ed-f3bc-4b09-92f5-7847f523c727",
   "metadata": {},
   "outputs": [
    {
     "name": "stdout",
     "output_type": "stream",
     "text": [
      "POLYGON ((-180 90, -180 -90, 180 -90, 180 90, -180 90))\n",
      "POLYGON ((-180 90, -180 -90, 180 -90, 180 90, -180 90), (-170 80, -100 -80, 100 -80, 170 80, -170 80))\n"
     ]
    }
   ],
   "source": [
    "print(polygon_without_hole)\n",
    "print(polygon_with_hole)"
   ]
  },
  {
   "cell_type": "markdown",
   "id": "78a0bd52-62c6-46f8-b191-44817fe1302d",
   "metadata": {},
   "source": [
    "# Polygon properties and methods"
   ]
  },
  {
   "cell_type": "markdown",
   "id": "4cc32435-bc7d-4651-8208-46cf28760a31",
   "metadata": {},
   "source": [
    "Very similar to lines and points, also <span style=\"color: red;\">shapely.geometry.Polygons()</span> expose a number of properties and methods that can be useful for spatial analysis tasks. Consult the shapely user manual for a complete list, and see a few examples here:"
   ]
  },
  {
   "cell_type": "code",
   "execution_count": 40,
   "id": "ee3f76bd",
   "metadata": {},
   "outputs": [
    {
     "name": "stdout",
     "output_type": "stream",
     "text": [
      "Polygon centroid: POINT (0 0)\n",
      "Polygon area: 64800.0\n",
      "Polygon bounding box: (-180.0, -90.0, 180.0, 90.0)\n",
      "Polygon exterior ring: LINEARRING (-180 90, -180 -90, 180 -90, 180 90, -180 90)\n",
      "Polygon circumference: 1080.0\n"
     ]
    }
   ],
   "source": [
    "print(f\"Polygon centroid: {polygon_without_hole.centroid}\")\n",
    "print(f\"Polygon area: {polygon_without_hole.area}\")\n",
    "print(f\"Polygon bounding box: {polygon_without_hole.bounds}\")\n",
    "print(f\"Polygon exterior ring: {polygon_without_hole.exterior}\")\n",
    "print(f\"Polygon circumference: {polygon_without_hole.exterior.length}\")"
   ]
  },
  {
   "cell_type": "code",
   "execution_count": 41,
   "id": "3d539ab9-1180-43a8-8454-f58acac7c401",
   "metadata": {},
   "outputs": [
    {
     "name": "stdout",
     "output_type": "stream",
     "text": [
      "Polygon centroid: POINT (0 -13.827160493827162)\n",
      "Polygon area: 21600.0\n",
      "Polygon bounding box: (-180.0, -90.0, 180.0, 90.0)\n",
      "Polygon exterior ring: LINEARRING (-180 90, -180 -90, 180 -90, 180 90, -180 90)\n",
      "Polygon circumference: 1080.0\n"
     ]
    }
   ],
   "source": [
    "print(f\"Polygon centroid: {polygon_with_hole.centroid}\")\n",
    "print(f\"Polygon area: {polygon_with_hole.area}\")\n",
    "print(f\"Polygon bounding box: {polygon_with_hole.bounds}\")\n",
    "print(f\"Polygon exterior ring: {polygon_with_hole.exterior}\")\n",
    "print(f\"Polygon circumference: {polygon_with_hole.exterior.length}\")"
   ]
  },
  {
   "cell_type": "markdown",
   "id": "789ca1d5-62b1-446a-a7cf-bc6fffc3be8d",
   "metadata": {},
   "source": [
    "As we can see above, it is again fairly straightforward to access different attributes of Polygon objects. Note that distance metrics will make more sense when we start working with data in projected coordinate systems."
   ]
  },
  {
   "cell_type": "markdown",
   "id": "36332854-8e90-4b64-af00-6edc06715309",
   "metadata": {},
   "source": [
    "# Check your understanding"
   ]
  },
  {
   "cell_type": "markdown",
   "id": "cbe6ce72-c5e0-4362-9c67-d136221bc5e4",
   "metadata": {},
   "source": [
    "Plot these shapes using shapely!\n",
    "\n",
    "Pentagon, example coordinates: (30, 2.01), (31.91, 0.62), (31.18, -1.63), (28.82, -1.63), (28.09, 0.62)\n",
    "\n",
    "Triangle, example coordinates: (0,0), (2,4), (4,0)\n",
    "\n",
    "Square, example coordinates: (0,0), (0,4), (4,4), (4,0)\n",
    "\n",
    "Circle, example coordinate (0,0)"
   ]
  },
  {
   "cell_type": "code",
   "execution_count": 42,
   "id": "c89e960c-775c-43fb-9260-23d6aac6862b",
   "metadata": {},
   "outputs": [
    {
     "data": {
      "image/svg+xml": [
       "<svg xmlns=\"http://www.w3.org/2000/svg\" xmlns:xlink=\"http://www.w3.org/1999/xlink\" width=\"100.0\" height=\"100.0\" viewBox=\"27.9372 -1.7828 4.125600000000002 3.9455999999999998\" preserveAspectRatio=\"xMinYMin meet\"><g transform=\"matrix(1,0,0,-1,0,0.3799999999999999)\"><path fill-rule=\"evenodd\" fill=\"#66cc99\" stroke=\"#555555\" stroke-width=\"0.08251200000000004\" opacity=\"0.6\" d=\"M 30.0,2.01 L 31.91,0.62 L 31.18,-1.63 L 28.82,-1.63 L 28.09,0.62 L 30.0,2.01 z\" /></g></svg>"
      ],
      "text/plain": [
       "<shapely.geometry.polygon.Polygon at 0x7f704f6361a0>"
      ]
     },
     "execution_count": 42,
     "metadata": {},
     "output_type": "execute_result"
    }
   ],
   "source": [
    "# Pentagon\n",
    "Polygon([(30, 2.01), (31.91, 0.62), (31.18, -1.63), (28.82, -1.63), (28.09, 0.62)])"
   ]
  },
  {
   "cell_type": "code",
   "execution_count": 43,
   "id": "b1eb4784-e1cd-46b9-a210-fc9b9646df1c",
   "metadata": {},
   "outputs": [
    {
     "data": {
      "image/svg+xml": [
       "<svg xmlns=\"http://www.w3.org/2000/svg\" xmlns:xlink=\"http://www.w3.org/1999/xlink\" width=\"100.0\" height=\"100.0\" viewBox=\"-0.16 -0.16 4.32 4.32\" preserveAspectRatio=\"xMinYMin meet\"><g transform=\"matrix(1,0,0,-1,0,4.0)\"><path fill-rule=\"evenodd\" fill=\"#66cc99\" stroke=\"#555555\" stroke-width=\"0.0864\" opacity=\"0.6\" d=\"M 0.0,0.0 L 2.0,4.0 L 4.0,0.0 L 0.0,0.0 z\" /></g></svg>"
      ],
      "text/plain": [
       "<shapely.geometry.polygon.Polygon at 0x7f704f637340>"
      ]
     },
     "execution_count": 43,
     "metadata": {},
     "output_type": "execute_result"
    }
   ],
   "source": [
    "# Triangle\n",
    "Polygon([(0,0), (2,4), (4,0)])"
   ]
  },
  {
   "cell_type": "code",
   "execution_count": 44,
   "id": "633b5042-d863-4a21-bf74-f62d6f7c72a7",
   "metadata": {},
   "outputs": [
    {
     "data": {
      "image/svg+xml": [
       "<svg xmlns=\"http://www.w3.org/2000/svg\" xmlns:xlink=\"http://www.w3.org/1999/xlink\" width=\"100.0\" height=\"100.0\" viewBox=\"-0.16 -0.16 4.32 4.32\" preserveAspectRatio=\"xMinYMin meet\"><g transform=\"matrix(1,0,0,-1,0,4.0)\"><path fill-rule=\"evenodd\" fill=\"#66cc99\" stroke=\"#555555\" stroke-width=\"0.0864\" opacity=\"0.6\" d=\"M 0.0,0.0 L 0.0,4.0 L 4.0,4.0 L 4.0,0.0 L 0.0,0.0 z\" /></g></svg>"
      ],
      "text/plain": [
       "<shapely.geometry.polygon.Polygon at 0x7f704f635a50>"
      ]
     },
     "execution_count": 44,
     "metadata": {},
     "output_type": "execute_result"
    }
   ],
   "source": [
    "# Square\n",
    "Polygon([(0,0), (0,4), (4,4), (4,0)])"
   ]
  },
  {
   "cell_type": "code",
   "execution_count": 45,
   "id": "753ee23d-ca20-46a4-a371-85a04830affe",
   "metadata": {},
   "outputs": [
    {
     "data": {
      "image/svg+xml": [
       "<svg xmlns=\"http://www.w3.org/2000/svg\" xmlns:xlink=\"http://www.w3.org/1999/xlink\" width=\"100.0\" height=\"100.0\" viewBox=\"-1.08 -1.08 2.16 2.16\" preserveAspectRatio=\"xMinYMin meet\"><g transform=\"matrix(1,0,0,-1,0,0.0)\"><path fill-rule=\"evenodd\" fill=\"#66cc99\" stroke=\"#555555\" stroke-width=\"0.0432\" opacity=\"0.6\" d=\"M 1.0,0.0 L 0.9951847266721969,-0.0980171403295606 L 0.9807852804032304,-0.19509032201612825 L 0.9569403357322088,-0.29028467725446233 L 0.9238795325112867,-0.3826834323650898 L 0.881921264348355,-0.47139673682599764 L 0.8314696123025452,-0.5555702330196022 L 0.773010453362737,-0.6343932841636455 L 0.7071067811865476,-0.7071067811865475 L 0.6343932841636455,-0.773010453362737 L 0.5555702330196023,-0.8314696123025452 L 0.4713967368259978,-0.8819212643483549 L 0.38268343236508984,-0.9238795325112867 L 0.29028467725446233,-0.9569403357322089 L 0.19509032201612833,-0.9807852804032304 L 0.09801714032956077,-0.9951847266721968 L 6.123233995736766e-17,-1.0 L -0.09801714032956065,-0.9951847266721969 L -0.1950903220161282,-0.9807852804032304 L -0.29028467725446216,-0.9569403357322089 L -0.3826834323650897,-0.9238795325112867 L -0.4713967368259977,-0.881921264348355 L -0.555570233019602,-0.8314696123025455 L -0.6343932841636454,-0.7730104533627371 L -0.7071067811865475,-0.7071067811865476 L -0.773010453362737,-0.6343932841636455 L -0.8314696123025453,-0.5555702330196022 L -0.8819212643483549,-0.47139673682599786 L -0.9238795325112867,-0.3826834323650899 L -0.9569403357322088,-0.2902846772544624 L -0.9807852804032304,-0.1950903220161286 L -0.9951847266721968,-0.09801714032956083 L -1.0,-1.2246467991473532e-16 L -0.9951847266721969,0.09801714032956059 L -0.9807852804032304,0.19509032201612836 L -0.9569403357322089,0.2902846772544621 L -0.9238795325112868,0.38268343236508967 L -0.881921264348355,0.47139673682599764 L -0.8314696123025455,0.555570233019602 L -0.7730104533627371,0.6343932841636453 L -0.7071067811865477,0.7071067811865475 L -0.6343932841636459,0.7730104533627367 L -0.5555702330196022,0.8314696123025452 L -0.47139673682599786,0.8819212643483549 L -0.38268343236509034,0.9238795325112865 L -0.29028467725446244,0.9569403357322088 L -0.19509032201612866,0.9807852804032303 L -0.09801714032956045,0.9951847266721969 L -1.8369701987210297e-16,1.0 L 0.09801714032956009,0.9951847266721969 L 0.1950903220161283,0.9807852804032304 L 0.29028467725446205,0.9569403357322089 L 0.38268343236509,0.9238795325112866 L 0.4713967368259976,0.881921264348355 L 0.5555702330196018,0.8314696123025455 L 0.6343932841636456,0.7730104533627369 L 0.7071067811865474,0.7071067811865477 L 0.7730104533627367,0.6343932841636459 L 0.8314696123025452,0.5555702330196022 L 0.8819212643483548,0.4713967368259979 L 0.9238795325112865,0.3826834323650904 L 0.9569403357322088,0.2902846772544625 L 0.9807852804032303,0.19509032201612872 L 0.9951847266721969,0.0980171403295605 L 1.0,0.0 z\" /></g></svg>"
      ],
      "text/plain": [
       "<shapely.geometry.polygon.Polygon at 0x7f70a2d9dab0>"
      ]
     },
     "execution_count": 45,
     "metadata": {},
     "output_type": "execute_result"
    }
   ],
   "source": [
    "# Circle (using a buffer around a point)\n",
    "point = Point((0,0))\n",
    "point.buffer(1)"
   ]
  },
  {
   "cell_type": "markdown",
   "id": "f7577415-3f35-4413-a3db-11d1260fd8db",
   "metadata": {},
   "source": [
    "# Geometry collections (optional)"
   ]
  },
  {
   "cell_type": "markdown",
   "id": "675a84fc-9713-44d0-9580-eeb575a1e9f5",
   "metadata": {},
   "source": [
    "Sometimes, it can be useful to store multiple geometries (for example, several points or several polygons) in a single feature. Semantically, it would not make sense to store the two polygons in separate rows. If expressed as a MultiPolygon, we would represent one row of information in the attribute table with multiple polygons attached."
   ]
  },
  {
   "cell_type": "markdown",
   "id": "fec8d055-9716-4d58-9794-18a6eda5d3c5",
   "metadata": {},
   "source": [
    "By convention, data sets should always consist of either single- or multi-geometries. Some file formats enforce this, and many GIS tools refuse operation on data sets with mixed single- and multi-geometries.\n",
    "\n",
    "If one feature in a data set is a MultiGeometry, all other features should be converted, too. All single geometries can be expressed as a collection of one item."
   ]
  },
  {
   "cell_type": "markdown",
   "id": "905ef699-1239-4066-9e10-41393ada46d1",
   "metadata": {},
   "source": [
    "In shapely, collections of points are implemented as <span style=\"color: red;\">MultiPoint</span> geometries, collections of lines as <span style=\"color: red;\">MultiLineString</span> geometries, and collections of polygons as <span style=\"color: red;\">MultiPolygon</span> geometries."
   ]
  },
  {
   "cell_type": "code",
   "execution_count": 46,
   "id": "dfbcef5b-57c3-413d-981e-87a2444420e5",
   "metadata": {},
   "outputs": [
    {
     "name": "stdout",
     "output_type": "stream",
     "text": [
      "MULTIPOINT (0 0, 5 0, 5 5)\n",
      "MULTILINESTRING ((0 0, 5 0), (5 0, 5 5))\n"
     ]
    }
   ],
   "source": [
    "from shapely.geometry import MultiPoint, MultiLineString, MultiPolygon\n",
    "\n",
    "# Create a MultiPoint object of our points 1,2 and 3\n",
    "multipoint = MultiPoint([point1, point2, point3])\n",
    "\n",
    "# We can also create a MultiLineString with two lines\n",
    "line1 = LineString([point1, point2])\n",
    "line2 = LineString([point2, point3])\n",
    "multiline = MultiLineString([line1, line2])\n",
    "\n",
    "print(multipoint)\n",
    "print(multiline)"
   ]
  },
  {
   "cell_type": "code",
   "execution_count": 47,
   "id": "a98f5250-ca33-46ab-846e-d6391895c0c7",
   "metadata": {},
   "outputs": [
    {
     "data": {
      "image/svg+xml": [
       "<svg xmlns=\"http://www.w3.org/2000/svg\" xmlns:xlink=\"http://www.w3.org/1999/xlink\" width=\"100.0\" height=\"100.0\" viewBox=\"-0.2 -0.2 5.4 5.4\" preserveAspectRatio=\"xMinYMin meet\"><g transform=\"matrix(1,0,0,-1,0,5.0)\"><g><circle cx=\"0.0\" cy=\"0.0\" r=\"0.16200000000000003\" stroke=\"#555555\" stroke-width=\"0.054000000000000006\" fill=\"#66cc99\" opacity=\"0.6\" /><circle cx=\"5.0\" cy=\"0.0\" r=\"0.16200000000000003\" stroke=\"#555555\" stroke-width=\"0.054000000000000006\" fill=\"#66cc99\" opacity=\"0.6\" /><circle cx=\"5.0\" cy=\"5.0\" r=\"0.16200000000000003\" stroke=\"#555555\" stroke-width=\"0.054000000000000006\" fill=\"#66cc99\" opacity=\"0.6\" /></g></g></svg>"
      ],
      "text/plain": [
       "<shapely.geometry.multipoint.MultiPoint at 0x7f704f6365c0>"
      ]
     },
     "execution_count": 47,
     "metadata": {},
     "output_type": "execute_result"
    }
   ],
   "source": [
    "multipoint"
   ]
  },
  {
   "cell_type": "code",
   "execution_count": 48,
   "id": "0ad9cf3f-0d3e-4b5e-94fd-bd6cd59954c4",
   "metadata": {},
   "outputs": [
    {
     "data": {
      "image/svg+xml": [
       "<svg xmlns=\"http://www.w3.org/2000/svg\" xmlns:xlink=\"http://www.w3.org/1999/xlink\" width=\"100.0\" height=\"100.0\" viewBox=\"-0.2 -0.2 5.4 5.4\" preserveAspectRatio=\"xMinYMin meet\"><g transform=\"matrix(1,0,0,-1,0,5.0)\"><g><polyline fill=\"none\" stroke=\"#66cc99\" stroke-width=\"0.10800000000000001\" points=\"0.0,0.0 5.0,0.0\" opacity=\"0.8\" /><polyline fill=\"none\" stroke=\"#66cc99\" stroke-width=\"0.10800000000000001\" points=\"5.0,0.0 5.0,5.0\" opacity=\"0.8\" /></g></g></svg>"
      ],
      "text/plain": [
       "<shapely.geometry.multilinestring.MultiLineString at 0x7f70a2dc7a30>"
      ]
     },
     "execution_count": 48,
     "metadata": {},
     "output_type": "execute_result"
    }
   ],
   "source": [
    "multiline"
   ]
  },
  {
   "cell_type": "markdown",
   "id": "371631d4-c9cb-4d9f-8335-445d37ff9765",
   "metadata": {},
   "source": [
    "<span style=\"color: red;\">MultiPolygons</span> are constructed in a similar manner. Let’s create a bounding box for ‘the world’ by combining two separate polygons that represent the western and eastern hemispheres."
   ]
  },
  {
   "cell_type": "code",
   "execution_count": 49,
   "id": "0d41081e-1252-45ae-9b20-7ec3a357f416",
   "metadata": {},
   "outputs": [
    {
     "name": "stdout",
     "output_type": "stream",
     "text": [
      "POLYGON ((-180 90, -180 -90, 0 -90, 0 90, -180 90))\n"
     ]
    },
    {
     "data": {
      "image/svg+xml": [
       "<svg xmlns=\"http://www.w3.org/2000/svg\" xmlns:xlink=\"http://www.w3.org/1999/xlink\" width=\"194.39999999999998\" height=\"194.4\" viewBox=\"-187.2 -97.2 194.39999999999998 194.4\" preserveAspectRatio=\"xMinYMin meet\"><g transform=\"matrix(1,0,0,-1,0,0.0)\"><path fill-rule=\"evenodd\" fill=\"#66cc99\" stroke=\"#555555\" stroke-width=\"2.0\" opacity=\"0.6\" d=\"M -180.0,90.0 L -180.0,-90.0 L 0.0,-90.0 L 0.0,90.0 L -180.0,90.0 z\" /></g></svg>"
      ],
      "text/plain": [
       "<shapely.geometry.polygon.Polygon at 0x7f704f636590>"
      ]
     },
     "execution_count": 49,
     "metadata": {},
     "output_type": "execute_result"
    }
   ],
   "source": [
    "# Let’s create the exterior of the western part of the world\n",
    "western_hemisphere = Polygon([(-180, 90), (-180, -90), (0, -90), (0, 90)])\n",
    "print(western_hemisphere)\n",
    "western_hemisphere"
   ]
  },
  {
   "cell_type": "markdown",
   "id": "3d2b98d8-1dee-4cab-9917-9b038136a0b2",
   "metadata": {},
   "source": [
    "Shapely has a short-hand function for creating rectangular polygons, ‘boxes’. It can be used, for instance, to create <span style=\"color: red;\">bounding boxes</span> using minimum and maximum x and y coordinates.\n",
    "\n",
    "Let’s use <span style=\"color: red;\">shapely.geometry.box()</span> for creating the polygon representing the the eastern hemisphere:"
   ]
  },
  {
   "cell_type": "code",
   "execution_count": 50,
   "id": "46b25491-1fbe-4359-8e6e-540487e71559",
   "metadata": {},
   "outputs": [
    {
     "name": "stdout",
     "output_type": "stream",
     "text": [
      "POLYGON ((180 -90, 180 90, 0 90, 0 -90, 180 -90))\n"
     ]
    },
    {
     "data": {
      "image/svg+xml": [
       "<svg xmlns=\"http://www.w3.org/2000/svg\" xmlns:xlink=\"http://www.w3.org/1999/xlink\" width=\"194.39999999999998\" height=\"194.4\" viewBox=\"-7.2 -97.2 194.39999999999998 194.4\" preserveAspectRatio=\"xMinYMin meet\"><g transform=\"matrix(1,0,0,-1,0,0.0)\"><path fill-rule=\"evenodd\" fill=\"#66cc99\" stroke=\"#555555\" stroke-width=\"2.0\" opacity=\"0.6\" d=\"M 180.0,-90.0 L 180.0,90.0 L 0.0,90.0 L 0.0,-90.0 L 180.0,-90.0 z\" /></g></svg>"
      ],
      "text/plain": [
       "<shapely.geometry.polygon.Polygon at 0x7f704f635540>"
      ]
     },
     "execution_count": 50,
     "metadata": {},
     "output_type": "execute_result"
    }
   ],
   "source": [
    "from shapely.geometry import box\n",
    "min_x = 0\n",
    "max_x = 180\n",
    "min_y = -90\n",
    "max_y = 90\n",
    "\n",
    "eastern_hemisphere = box(min_x, min_y, max_x, max_y)\n",
    "\n",
    "print(eastern_hemisphere)\n",
    "eastern_hemisphere"
   ]
  },
  {
   "cell_type": "markdown",
   "id": "fc57ee36-32a0-4eeb-b3ec-14be700617ca",
   "metadata": {},
   "source": [
    "Finally, we can combine the two polygons into a MultiPolygon:"
   ]
  },
  {
   "cell_type": "code",
   "execution_count": 51,
   "id": "327b12ad-140e-434d-b9c8-38fb54763321",
   "metadata": {},
   "outputs": [
    {
     "name": "stdout",
     "output_type": "stream",
     "text": [
      "MULTIPOLYGON (((-180 90, -180 -90, 0 -90, 0 90, -180 90)), ((180 -90, 180 90, 0 90, 0 -90, 180 -90)))\n"
     ]
    },
    {
     "data": {
      "image/svg+xml": [
       "<svg xmlns=\"http://www.w3.org/2000/svg\" xmlns:xlink=\"http://www.w3.org/1999/xlink\" width=\"300\" height=\"208.8\" viewBox=\"-194.4 -104.4 388.8 208.8\" preserveAspectRatio=\"xMinYMin meet\"><g transform=\"matrix(1,0,0,-1,0,0.0)\"><g><path fill-rule=\"evenodd\" fill=\"#ff3333\" stroke=\"#555555\" stroke-width=\"2.592\" opacity=\"0.6\" d=\"M -180.0,90.0 L -180.0,-90.0 L 0.0,-90.0 L 0.0,90.0 L -180.0,90.0 z\" /><path fill-rule=\"evenodd\" fill=\"#ff3333\" stroke=\"#555555\" stroke-width=\"2.592\" opacity=\"0.6\" d=\"M 180.0,-90.0 L 180.0,90.0 L 0.0,90.0 L 0.0,-90.0 L 180.0,-90.0 z\" /></g></g></svg>"
      ],
      "text/plain": [
       "<shapely.geometry.multipolygon.MultiPolygon at 0x7f704f637880>"
      ]
     },
     "execution_count": 51,
     "metadata": {},
     "output_type": "execute_result"
    }
   ],
   "source": [
    "# Let’s create our MultiPolygon.\n",
    "# Pass multiple Polygon objects as a list\n",
    "multipolygon = MultiPolygon([western_hemisphere, eastern_hemisphere])\n",
    "\n",
    "print(multipolygon)\n",
    "multipolygon"
   ]
  },
  {
   "cell_type": "markdown",
   "id": "4c37cf0e-2f31-4b5b-a995-055cc1713009",
   "metadata": {},
   "source": [
    "Multi-geometries are in many ways similar to simple geometries, like the ones we created earlier. The main difference is that they can combine multiple geometric primitives into one feature."
   ]
  },
  {
   "cell_type": "markdown",
   "id": "e7c48268-d51b-46c8-b0a4-b220da783d87",
   "metadata": {},
   "source": [
    "# Convex hull and envelope"
   ]
  },
  {
   "cell_type": "markdown",
   "id": "d920e3fd-7ffb-466b-b473-c2238e0658c3",
   "metadata": {},
   "source": [
    "A ‘convex hull’ refers to the smallest possible convex polygon that can contain a geometry or a set of geometries. Alongside bounding boxes, convex (https://en.wikipedia.org/wiki/Convex_set)  hulls are useful to describe the extent of data sets."
   ]
  },
  {
   "cell_type": "code",
   "execution_count": 52,
   "id": "0d0cfed4-0fd7-4556-ad62-58f7d7431603",
   "metadata": {},
   "outputs": [
    {
     "data": {
      "image/svg+xml": [
       "<svg xmlns=\"http://www.w3.org/2000/svg\" xmlns:xlink=\"http://www.w3.org/1999/xlink\" width=\"100.0\" height=\"100.0\" viewBox=\"-0.2 -0.2 5.4 5.4\" preserveAspectRatio=\"xMinYMin meet\"><g transform=\"matrix(1,0,0,-1,0,5.0)\"><g><circle cx=\"0.0\" cy=\"0.0\" r=\"0.16200000000000003\" stroke=\"#555555\" stroke-width=\"0.054000000000000006\" fill=\"#66cc99\" opacity=\"0.6\" /><circle cx=\"5.0\" cy=\"0.0\" r=\"0.16200000000000003\" stroke=\"#555555\" stroke-width=\"0.054000000000000006\" fill=\"#66cc99\" opacity=\"0.6\" /><circle cx=\"5.0\" cy=\"5.0\" r=\"0.16200000000000003\" stroke=\"#555555\" stroke-width=\"0.054000000000000006\" fill=\"#66cc99\" opacity=\"0.6\" /></g></g></svg>"
      ],
      "text/plain": [
       "<shapely.geometry.multipoint.MultiPoint at 0x7f704f6365c0>"
      ]
     },
     "execution_count": 52,
     "metadata": {},
     "output_type": "execute_result"
    }
   ],
   "source": [
    "# Check input geometry\n",
    "multipoint"
   ]
  },
  {
   "cell_type": "code",
   "execution_count": 53,
   "id": "99081d3b-795f-4124-a9d0-e10e89f52647",
   "metadata": {},
   "outputs": [
    {
     "data": {
      "text/plain": [
       "[<shapely.geometry.polygon.Polygon at 0x7f704f635600>,\n",
       " <shapely.geometry.multipoint.MultiPoint at 0x7f704f6365c0>]"
      ]
     },
     "execution_count": 53,
     "metadata": {},
     "output_type": "execute_result"
    }
   ],
   "source": [
    "# Convex Hull\n",
    "[multipoint.convex_hull, multipoint]"
   ]
  },
  {
   "cell_type": "code",
   "execution_count": 54,
   "id": "f44212ec",
   "metadata": {},
   "outputs": [
    {
     "data": {
      "image/svg+xml": [
       "<svg xmlns=\"http://www.w3.org/2000/svg\" xmlns:xlink=\"http://www.w3.org/1999/xlink\" width=\"100.0\" height=\"100.0\" viewBox=\"-0.2 -0.2 5.4 5.4\" preserveAspectRatio=\"xMinYMin meet\"><g transform=\"matrix(1,0,0,-1,0,5.0)\"><path fill-rule=\"evenodd\" fill=\"#66cc99\" stroke=\"#555555\" stroke-width=\"0.10800000000000001\" opacity=\"0.6\" d=\"M 0.0,0.0 L 5.0,5.0 L 5.0,0.0 L 0.0,0.0 z\" /></g></svg>"
      ],
      "text/plain": [
       "<shapely.geometry.polygon.Polygon at 0x7f704f635390>"
      ]
     },
     "execution_count": 54,
     "metadata": {},
     "output_type": "execute_result"
    }
   ],
   "source": [
    "multipoint.convex_hull"
   ]
  },
  {
   "cell_type": "code",
   "execution_count": 55,
   "id": "1eaa5c35-35a1-4c28-87bb-8456b9fb0a27",
   "metadata": {},
   "outputs": [
    {
     "data": {
      "image/svg+xml": [
       "<svg xmlns=\"http://www.w3.org/2000/svg\" xmlns:xlink=\"http://www.w3.org/1999/xlink\" width=\"100.0\" height=\"100.0\" viewBox=\"-0.2 -0.2 5.4 5.4\" preserveAspectRatio=\"xMinYMin meet\"><g transform=\"matrix(1,0,0,-1,0,5.0)\"><path fill-rule=\"evenodd\" fill=\"#66cc99\" stroke=\"#555555\" stroke-width=\"0.10800000000000001\" opacity=\"0.6\" d=\"M 0.0,0.0 L 5.0,0.0 L 5.0,5.0 L 0.0,5.0 L 0.0,0.0 z\" /></g></svg>"
      ],
      "text/plain": [
       "<shapely.geometry.polygon.Polygon at 0x7f704f635ab0>"
      ]
     },
     "execution_count": 55,
     "metadata": {},
     "output_type": "execute_result"
    }
   ],
   "source": [
    "# Envelope (smalles rectangular polygon around a geometry/set of geometries):\n",
    "multipoint.envelope"
   ]
  },
  {
   "cell_type": "markdown",
   "id": "300414d2-0b05-48b8-b60a-4df82f7864c7",
   "metadata": {},
   "source": [
    "# Validity of geometries"
   ]
  },
  {
   "cell_type": "markdown",
   "id": "e8bee2bd-6a8c-4fa9-9b54-5723f60cf6c0",
   "metadata": {},
   "source": [
    "As discussed on the very top of this page, already the geometric primitives have certain requirements. For instance, a <span style=\"color: red;\">LineString</span> must consist of at least two points, and a <span style=\"color: red;\">Polygon</span>’s exterior shell and holes must not intersect.\n",
    "\n",
    "Each shapely geometry has a built-in check that can be of great help, for instance, finding topological errors:"
   ]
  },
  {
   "cell_type": "code",
   "execution_count": 56,
   "id": "e2fa3600-5cc6-451e-96e0-39e25def67d0",
   "metadata": {},
   "outputs": [
    {
     "name": "stdout",
     "output_type": "stream",
     "text": [
      "Is polygon valid?: True\n"
     ]
    }
   ],
   "source": [
    "print(f\"Is polygon valid?: {polygon_with_hole.is_valid}\")"
   ]
  },
  {
   "cell_type": "markdown",
   "id": "94de2fc8-1947-4fbb-bc40-bfd5d56f5d9a",
   "metadata": {},
   "source": [
    "## Sources\n",
    "\n",
    "This lesson is inspired by the [Programming in Python lessons](http://swcarpentry.github.io/python-novice-inflammation/) from the [Software Carpentry organization](http://software-carpentry.org) and has adapted or reused material from University of Helsinki Automating GIS processis course (https://autogis-site.readthedocs.io/en/latest/course-info/license.html) under a Creative Commons Attribution-ShareAlike 4.0 International licence (https://creativecommons.org/licenses/by-sa/4.0/deed.en)."
   ]
  },
  {
   "cell_type": "code",
   "execution_count": null,
   "id": "52bb9ad3-445c-4e57-862e-fb0fabe4029b",
   "metadata": {},
   "outputs": [],
   "source": []
  }
 ],
 "metadata": {
  "kernelspec": {
   "display_name": "Python 3 (ipykernel)",
   "language": "python",
   "name": "python3"
  },
  "language_info": {
   "codemirror_mode": {
    "name": "ipython",
    "version": 3
   },
   "file_extension": ".py",
   "mimetype": "text/x-python",
   "name": "python",
   "nbconvert_exporter": "python",
   "pygments_lexer": "ipython3",
   "version": "3.10.13"
  }
 },
 "nbformat": 4,
 "nbformat_minor": 5
}
