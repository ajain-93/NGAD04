{
 "cells": [
  {
   "cell_type": "markdown",
   "id": "128d1c76-d225-4c0b-91c5-15cde84e08df",
   "metadata": {},
   "source": [
    "\n",
    "# Introduction to Spatial Geometry with Python\n",
    "\n",
    "Welcome to the first lecture of our Geospatial Python course. In this session, we'll explore the fundamentals of spatial geometry manipulation using Python. We'll cover how to represent and manipulate basic geometrical shapes such as points, lines, and polygons with the Shapely library (https://shapely.readthedocs.io/en/stable/manual.html). By the end of this lecture, you will understand how to:\n",
    "\n",
    "- Create and manipulate spatial geometries using Shapely.\n",
    "- Understand the properties and methods of different geometrical shapes.\n",
    "- Visualize spatial geometries to enhance your geospatial data analysis skills.\n",
    "- Assess and ensure the validity of geometrical shapes for robust GIS applications."
   ]
  },
  {
   "cell_type": "markdown",
   "id": "442fb811-3a40-4c4e-a318-ee220ea53396",
   "metadata": {},
   "source": [
    "## Geometries"
   ]
  },
  {
   "cell_type": "markdown",
   "id": "38a119df-07ad-4af4-80d1-e36b1ce0b0ea",
   "metadata": {},
   "source": [
    "| Geometry Type     | Visualization |\n",
    "|-------------------|---------------|\n",
    "| **Line**          | <img src=\"https://upload.wikimedia.org/wikipedia/commons/thumb/b/b9/SFA_LineString.svg/1920px-SFA_LineString.svg.png\" width=\"200\" alt=\"Line\"> |\n",
    "| **Point**         | <img src=\"https://upload.wikimedia.org/wikipedia/commons/thumb/c/c2/SFA_Point.svg/1920px-SFA_Point.svg.png\" width=\"200\" alt=\"Point\"> |\n",
    "| **Polygon**       | <img src=\"https://upload.wikimedia.org/wikipedia/commons/thumb/3/3f/SFA_Polygon.svg/1920px-SFA_Polygon.svg.png\" width=\"200\" alt=\"Polygon\"> |\n",
    "| **Polygon with Hole** | <img src=\"https://upload.wikimedia.org/wikipedia/commons/thumb/5/55/SFA_Polygon_with_hole.svg/1920px-SFA_Polygon_with_hole.svg.png\" width=\"200\" alt=\"Polygon with Hole\"> |\n",
    "| **MultiPoint**    | <img src=\"https://upload.wikimedia.org/wikipedia/commons/thumb/d/d6/SFA_MultiPoint.svg/1920px-SFA_MultiPoint.svg.png\" width=\"200\" alt=\"MultiPoint\"> |\n",
    "| **MultiLineString** | <img src=\"https://upload.wikimedia.org/wikipedia/commons/thumb/8/86/SFA_MultiLineString.svg/1920px-SFA_MultiLineString.svg.png\" width=\"200\" alt=\"MultiLineString\"> |\n",
    "| **MultiPolygon**  | <img src=\"https://upload.wikimedia.org/wikipedia/commons/thumb/d/dc/SFA_MultiPolygon.svg/1920px-SFA_MultiPolygon.svg.png\" width=\"200\" alt=\"MultiPolygon\"> |\n",
    "| **MultiPolygon with Hole** | <img src=\"https://upload.wikimedia.org/wikipedia/commons/thumb/3/3b/SFA_MultiPolygon_with_hole.svg/1920px-SFA_MultiPolygon_with_hole.svg.png\" width=\"200\" alt=\"MultiPolygon with Hole\"> |\n",
    "| **Geometry Collection** | <img src=\"https://upload.wikimedia.org/wikipedia/commons/thumb/1/1d/SFA_GeometryCollection.svg/1920px-SFA_GeometryCollection.svg.png\" width=\"200\" alt=\"Geometry Collection\"> |\n"
   ]
  },
  {
   "cell_type": "markdown",
   "id": "e3a0c682-51f8-4713-b1d7-a082e1a9b667",
   "metadata": {},
   "source": [
    "Geospatial vector data fundamentally comprises points, lines, and polygons, serving as the essential components for spatial data analysis. The Python library **Shapely** (https://shapely.readthedocs.io/en/stable/)  is a key tool for manipulating these geo-spatial objects and performing geometric operations, laying the groundwork for more advanced applications like Geopandas (https://geopandas.org/en/stable/docs.html). \n",
    "\n",
    "This library, widely adopted in geospatial analysis, aligns with the Open Geospatial Consortium’s Simple Feature Access standard (https://www.ogc.org/standard/sfa/), emphasizing the importance of understanding Shapely's concepts for broader geospatial tasks.\n",
    "\n",
    "Beyond these basics, Shapely can handle collections of geometric objects to model more complex structures, like discontinuous administrative areas. This capability highlights Shapely's role in efficiently managing and analyzing geospatial data.\n",
    "\n"
   ]
  },
  {
   "cell_type": "markdown",
   "id": "4af5b431-6a49-4e2d-9d09-bad0b20052e3",
   "metadata": {},
   "source": [
    "## Geometric objects are described and constructed by coordinate tuples"
   ]
  },
  {
   "cell_type": "markdown",
   "id": "e4baac8f-f085-470a-9e5f-4a71eabcfe90",
   "metadata": {},
   "source": [
    "Geometric objects in Shapely are defined using **coordinate tuples, which can be two-dimensional (x, y) or three-dimensional (x, y, z), representing the basic shapes:\n"
   ]
  },
  {
   "cell_type": "markdown",
   "id": "4706c7d2-afcd-4b51-9c28-7fed35c586d7",
   "metadata": {},
   "source": [
    "**Tuples in Python**\n",
    "\n",
    "A **[tuple](https://docs.python.org/3/tutorial/datastructures.html#tuples-and-sequences)** is an immutable Python data structure that holds a sequence of values, separated by commas. Tuples are often used for fixed collections of items, such as coordinate pairs in geospatial data. For instance, `(60.192059, 24.945831)` represents a tuple with two elements.\n",
    "\n",
    "- **Single-value tuple**: To define a tuple with a single value, a trailing comma is required, e.g., `(1,)`. This comma distinguishes it from a simple parenthesis-enclosed object in mathematics.\n",
    "- **Converting lists to tuples**: Use the `tuple()` function to transform a list into a tuple, like `tuple([1, 2, 3])`.\n",
    "\n",
    "**Tuples vs. Lists**\n",
    "\n",
    "While both tuples and lists are sequence data types in Python, they serve different purposes and exhibit distinct characteristics:\n",
    "- **Immutability**: Tuples are immutable, meaning once defined, their content cannot be changed. This contrasts with lists, which are mutable, allowing for modifications such as adding or removing elements.\n",
    "\n",
    "Explore more about Python's data structures in the [Python documentation](https://docs.python.org/3/tutorial/datastructures.html).\n"
   ]
  },
  {
   "cell_type": "markdown",
   "id": "b67fdf42-c7ab-4e41-9380-f721b3f1e90e",
   "metadata": {},
   "source": [
    "### Points"
   ]
  },
  {
   "cell_type": "markdown",
   "id": "93e7cb2c-d646-476a-8c70-98e1da87772e",
   "metadata": {},
   "source": [
    "**Points** are single locations defined by a coordinate tuple.\n"
   ]
  },
  {
   "cell_type": "markdown",
   "id": "e1e29658-e785-44ae-8ff9-42f4a77b1adf",
   "metadata": {},
   "source": [
    "## LineStrings"
   ]
  },
  {
   "cell_type": "markdown",
   "id": "7d10a05a-0e29-49c8-a3bd-c33f4e9bb9dd",
   "metadata": {},
   "source": [
    "**LineStrings** (and **LinearRings**) are sequences of points forming lines or closed rings, respectively. A **LineString** needs at least two points, while a **LinearRing** requires at least three, with the first and last points identical.\n"
   ]
  },
  {
   "cell_type": "markdown",
   "id": "080b038e-b003-4749-9489-7e57db0b52e2",
   "metadata": {},
   "source": [
    "## Polygons"
   ]
  },
  {
   "cell_type": "markdown",
   "id": "0d91bfa1-ab48-43eb-a36c-8601a0bfb325",
   "metadata": {},
   "source": [
    "**Polygons** represent areas bounded by a *LinearRing*, with optional additional *LinearRings* for holes within the area. Defining a polygon requires a minimum of three coordinates, but complexity increases with the addition of holes, which must not intersect and stay within the exterior boundary.\n"
   ]
  },
  {
   "cell_type": "markdown",
   "id": "6123d24c-52d8-4fff-b09b-767075bc732b",
   "metadata": {},
   "source": [
    "Understanding Python's tuples is crucial for working with these geometries, as they are immutable sequences used to represent coordinate pairs or larger groupings. This contrasts with lists, which are mutable and serve different purposes in Python programming.\n",
    "\n",
    "In summary, mastering Shapely and the fundamental geometric objects it manipulates is essential for anyone working with geospatial data in Python, providing a foundation for exploring and analyzing the physical world's spatial dimensions."
   ]
  },
  {
   "cell_type": "markdown",
   "id": "19dc9e5c-e53b-4d97-814e-069a655e47ea",
   "metadata": {},
   "source": [
    "## Collections of geometric objects"
   ]
  },
  {
   "cell_type": "markdown",
   "id": "bf7af488-ac96-4ea5-ae46-db17e5b8a99a",
   "metadata": {},
   "source": [
    "Combining the foundational geometric shapes—points, lines, and polygons—Shapely enables the representation of more intricate geographic entities, such as administrative regions comprising several non-contiguous areas. \n",
    "\n",
    "- MultiPoint geometries encapsulate collections of discrete points.\n",
    "- MultiLineString geometries amalgamate multiple line segments.\n",
    "- MultiPolygon geometries aggregate various polygonal shapes.\n",
    "- GeometryCollection geometries are composite collections that include points, lines, and polygons, alongside their multi-variant forms: multi-points, multi-lines, and multi-polygons.\n",
    "\n"
   ]
  },
  {
   "cell_type": "markdown",
   "id": "de7e6cc2-34a0-4540-91bf-f53e85a57d6a",
   "metadata": {},
   "source": [
    "##  Utilizing Shapely for Geometric Manipulations\n",
    "Shapely is adept at facilitating a broad spectrum of operations on geometric shapes, enhancing the analysis and manipulation of spatial data. Key functionalities include:\n",
    "\n",
    "- Crafting lines and polygons from a cluster of points.\n",
    "- Computing geometric attributes such as *area*, *length*, and *perimeter*.\n",
    "- Executing geometric manipulations, including merging (**union**), subtraction (**difference**), and assessing distances between shapes.\n",
    "- Probing spatial relationships to determine interactions like **intersection**, **adjacency**, and **overlap** among geometries."
   ]
  },
  {
   "cell_type": "markdown",
   "id": "5b8af7fc-4918-4828-a7aa-127d964a9a13",
   "metadata": {},
   "source": [
    "\n",
    "## Introduction to Shapely for Geospatial Data\n",
    "\n",
    "We will start our journey into geospatial data manipulation with the Shapely library. Shapely is a powerful and flexible Python package for handling and analyzing planar geometric objects. It is built on top of the widely used GEOS (Geometry Engine - Open Source) C++ library. Shapely is not concerned with data formats or coordinate systems but focuses on the manipulation and analysis of geometric objects.\n",
    "            "
   ]
  },
  {
   "cell_type": "code",
   "execution_count": null,
   "id": "d54bb53e-5bb7-4625-b35d-bc2d57529ad7",
   "metadata": {},
   "outputs": [],
   "source": [
    "# Import `shapely.geometry.Point` class\n",
    "from shapely.geometry import Point"
   ]
  },
  {
   "cell_type": "code",
   "execution_count": null,
   "id": "45bfe9d2-8520-40cb-adb2-110316683b4b",
   "metadata": {},
   "outputs": [],
   "source": [
    "\n",
    "# Create Point objects in 2D:\n",
    "point1 = Point(1, 2)\n",
    "point2 = Point(5, 7)\n",
    "point3 = Point(-3, 4)\n",
    "\n",
    "# Create a Point object in 3D:\n",
    "point4_3D = Point(2, -1, 3)\n"
   ]
  },
  {
   "cell_type": "markdown",
   "id": "1786eef7-9406-4eae-bca4-7e929170c953",
   "metadata": {},
   "source": [
    "Let’s see what these variables now contain:\n",
    "\n"
   ]
  },
  {
   "cell_type": "code",
   "execution_count": null,
   "id": "b18f3ab3-f3ff-4587-b48d-7b5722f04b85",
   "metadata": {},
   "outputs": [],
   "source": [
    "\n",
    "# Print the coordinates of each point:\n",
    "print(\"Coordinates of point1:\", point1)\n",
    "print(\"Coordinates of point2:\", point2)\n",
    "print(\"Coordinates of point3:\", point3)\n",
    "print(\"Coordinates of point4_3D:\", point4_3D)"
   ]
  },
  {
   "cell_type": "code",
   "execution_count": null,
   "id": "4a20e2ac-f307-41b8-9dbc-5f7c9295ebfa",
   "metadata": {},
   "outputs": [],
   "source": [
    "point4_3D"
   ]
  },
  {
   "cell_type": "markdown",
   "id": "80f10501-ccbb-4a70-9650-6cf9f3e8b78c",
   "metadata": {},
   "source": [
    "Jupyter notebook is able to display the shape directly on the screen.\n",
    "\n",
    "Alternatively, use a print statement to show the text representation of a shapely geometry object:"
   ]
  },
  {
   "cell_type": "markdown",
   "id": "0aeb2bae-757a-4aa0-9ff9-887dc910cff1",
   "metadata": {},
   "source": [
    "This text representation is in ‘Well-Known Text’ (WKT) format https://en.wikipedia.org/wiki/Well-known_text_representation_of_geometry , a standard set forward in the Open Geospatial Consortium’s (OGC)(https://www.ogc.org/)  Simple Feature Access (https://www.ogc.org/standard/sfa/). This includes the additional letter ‘Z’ that marks the three-dimensional version of a geometry (e.g., our point  <span style=\"color: red;\">point4_3D</span> ).\n",
    "\n"
   ]
  },
  {
   "cell_type": "markdown",
   "id": "9378cbb1-20ce-47b8-9fe0-1c0231a8b2e7",
   "metadata": {},
   "source": [
    "Let’s also check the data type of a point:\n",
    "\n"
   ]
  },
  {
   "cell_type": "code",
   "execution_count": null,
   "id": "9db360b6-ff79-4614-8d40-812739022536",
   "metadata": {},
   "outputs": [],
   "source": [
    "type(point1)"
   ]
  },
  {
   "cell_type": "markdown",
   "id": "81122fd7-dbb4-4928-89c7-7e58d187d109",
   "metadata": {},
   "source": [
    "We can see that the type of the point is a shapely.geometry.point.Point (which is equivalent to shapely.geometry.Point, the class we used to instantiate the point object).\n",
    "\n",
    "Under the hood, shapely uses GEOS to handle geometry objects. GEOS (https://www.osgeo.org/projects/geos/) is a C++ library (much faster than Python code), and is one of the fundamental pillars of the open source GIS world, powering geospatial processing for many projects, including QGIS."
   ]
  },
  {
   "cell_type": "markdown",
   "id": "6d16decc-2528-458e-9f14-08f817509e39",
   "metadata": {},
   "source": [
    "# Point properties and methods"
   ]
  },
  {
   "cell_type": "markdown",
   "id": "c6b59261-d3de-4892-bc44-1741436bb51d",
   "metadata": {},
   "source": [
    "Points and other shapely geometry objects have useful built-in properties and methods. Using the available attributes, we can for example extract the coordinate values of a Point and calculate the Euclidian distance between points.\n",
    "\n",
    "The <span style=\"color: red;\"> geom_type</span> property contains information about the geometry type of a shapely geometry:"
   ]
  },
  {
   "cell_type": "code",
   "execution_count": null,
   "id": "d344a75c-6dbd-4025-b39f-9ac2b5dce998",
   "metadata": {},
   "outputs": [],
   "source": [
    "point1.geom_type"
   ]
  },
  {
   "cell_type": "markdown",
   "id": "d56d659e-8c6e-48fe-8b49-32fba6b298dc",
   "metadata": {},
   "source": [
    "There are multiple ways to access the coordinates of geometry object. For instance, <span style=\"color: red;\">coords</span>  is a <span style=\"color: red;\">shapely.coords.CoordinateSequence</span>. It is an <span style=\"color: red;\"> Iterator</span>, an efficient Python data structure to iterate over lists of items, but for now we can simply convert it into a list of the (one pair of) coordinates:"
   ]
  },
  {
   "cell_type": "code",
   "execution_count": null,
   "id": "56ccb0ce-be21-4ad1-a5f5-0aa6161dbe9f",
   "metadata": {},
   "outputs": [],
   "source": [
    "# Get coordinate tuple(s)\n",
    "list(point1.coords)"
   ]
  },
  {
   "cell_type": "markdown",
   "id": "f2489036-2261-45b8-99c4-b66047fec9ca",
   "metadata": {},
   "source": [
    "However, since points, by definition, only contain one coordinate tuple, <span style=\"color: red;\"> shapely.geometry.Points</span> have properties to directly access its coordinate values: the properties  <span style=\"color: red;\"> x</span>, <span style=\"color: red;\"> y</span>, and (possibly) <span style=\"color: red;\"> z</span>, which are basic <span style=\"color: red;\"> float</span> type decimal numbers."
   ]
  },
  {
   "cell_type": "code",
   "execution_count": null,
   "id": "f55b9e73-0efd-4c31-a317-abd52dec7b4d",
   "metadata": {},
   "outputs": [],
   "source": [
    "# Read x and y coordinates separately\n",
    "x = point1.x\n",
    "y = point1.y\n",
    "\n",
    "print(x, y)"
   ]
  },
  {
   "cell_type": "code",
   "execution_count": null,
   "id": "9ef16619-229d-407e-94f5-04084a6907eb",
   "metadata": {},
   "outputs": [],
   "source": [
    "# Read x, y, and z\n",
    "x = point4_3D.x\n",
    "y = point4_3D.y\n",
    "z = point4_3D.z\n",
    "\n",
    "print(x, y, z)"
   ]
  },
  {
   "cell_type": "markdown",
   "id": "94128ffc-614c-474a-a70e-91cac68497f2",
   "metadata": {},
   "source": [
    "It is also possible to calculate the **distance** (https://shapely.readthedocs.io/en/stable/manual.html#object.distance)  between two objects using the distance method.\n",
    "\n",
    "In our example the distance is calculated in a cartesian coordinate system. When working with real GIS data the distance is based on the used coordinate reference system. always check what is the unit of measurement (for example, meters) in the coordinate reference system you are using.\n",
    "\n",
    "Let’s calculate the distance between  <span style=\"color: red;\">point1</span> and  <span style=\"color: red;\">point2</span>:"
   ]
  },
  {
   "cell_type": "code",
   "execution_count": null,
   "id": "e8cbcf64-f093-4318-9fc8-3b6dbf03c051",
   "metadata": {},
   "outputs": [],
   "source": [
    "# Check input data\n",
    "print(point1)\n",
    "print(point3)"
   ]
  },
  {
   "cell_type": "code",
   "execution_count": null,
   "id": "dfa24595-c488-4313-ab07-9ddd57a260c0",
   "metadata": {},
   "outputs": [],
   "source": [
    "# Calculate the distance between point1 and point2\n",
    "dist = point1.distance(point3)\n",
    "\n",
    "# Print out a nicely formatted info message\n",
    "print(f\"Distance between the points is {dist:.2f} units\")"
   ]
  },
  {
   "cell_type": "markdown",
   "id": "f5b33068-58ba-4d6f-943d-27fbe048af20",
   "metadata": {
    "tags": []
   },
   "source": [
    "Shapely geometries are, by design, agnostic (unaware) of the reference system used to represent them. Distances and surface area calculated using the built-in shapely methods will always: a) assume a flat, Cartesian, Euclidean space, and b) return the calculated value in the unit of the coordinates (e.g., meters, or degrees).\n",
    "\n",
    "This is perfectly fine for small-scale geo-spatial operations, if you keep yourself aware of the expected output unit. Most packages built on top of shapely, for instance GeoPandas (https://geopandas.org/en/stable/) , which we will get to know in lesson 2, bring their own functions and take the coordinate reference system into consideration."
   ]
  },
  {
   "cell_type": "markdown",
   "id": "458107c5-1100-4be8-aac5-a7fcc109d1d7",
   "metadata": {},
   "source": [
    "# Lines"
   ]
  },
  {
   "cell_type": "markdown",
   "id": "c6672143-560f-42b3-97fd-e686fb3783fd",
   "metadata": {},
   "source": [
    "Creating <span style=\"color: red;\">LineString</span> objects is similar to creating <span style=\"color: red;\">Points</span>. Instead of a single coordinate tuple, we pass a list of coordinate tuples, or a list of points, that make up the line:"
   ]
  },
  {
   "cell_type": "code",
   "execution_count": null,
   "id": "ead8ec01-8809-4d99-9a36-e9003d489077",
   "metadata": {},
   "outputs": [],
   "source": [
    "# import the LineString class\n",
    "from shapely.geometry import LineString\n",
    "\n",
    "# Create a LineString from our Point objects\n",
    "line = LineString([point1, point2, point3])"
   ]
  },
  {
   "cell_type": "code",
   "execution_count": null,
   "id": "655b6251-ebba-4a98-99af-6fcdecc93d34",
   "metadata": {},
   "outputs": [],
   "source": [
    "# Create a LineString from a list of coordinates:\n",
    "# (with the same coordinate values as the points, so results should be identical)\n",
    "line2 = LineString([(1, 2), (5, 7), (-3, 4)])\n",
    "\n",
    "\n"
   ]
  },
  {
   "cell_type": "code",
   "execution_count": null,
   "id": "0d88f95f-afd1-4392-aba8-121994753fac",
   "metadata": {},
   "outputs": [],
   "source": [
    "# Check if the lines are, indeed, identical:\n",
    "line == line2"
   ]
  },
  {
   "cell_type": "code",
   "execution_count": null,
   "id": "28dfe925-83c6-4e0b-8610-c89052a159f1",
   "metadata": {},
   "outputs": [],
   "source": [
    "line"
   ]
  },
  {
   "cell_type": "code",
   "execution_count": null,
   "id": "69260880-ff62-4fed-973b-308698fab1f6",
   "metadata": {},
   "outputs": [],
   "source": [
    "print(line)"
   ]
  },
  {
   "cell_type": "markdown",
   "id": "2ea561ba-3921-4c60-a441-e74fb97bc9ba",
   "metadata": {},
   "source": [
    "Again, the text representation is in WKT format. WKT is convenient as it is a human-readable text format that also most GIS tools can readily use.\n",
    "\n",
    "It’s not surprising, but we can see that a <span style=\"color: red;\">LineString</span> is constituted of multiple coordinate tuples. In fact, the value(s) of a WKT <span style=\"color: red;\">LINESTRING</span>  are made up of the values of multiple WKT <span style=\"color: red;\">POINTS</span>, joined together with a comma.\n",
    "\n",
    "Check also the data type:"
   ]
  },
  {
   "cell_type": "code",
   "execution_count": null,
   "id": "8f78418c-fa92-45b2-a323-8df7363138ef",
   "metadata": {},
   "outputs": [],
   "source": [
    "# Check data type of the line object\n",
    "type(line)"
   ]
  },
  {
   "cell_type": "code",
   "execution_count": null,
   "id": "9a376354-07ef-4dfd-8c88-39c02ced00ee",
   "metadata": {},
   "outputs": [],
   "source": [
    "# Check geometry type of the line object\n",
    "line.geom_type"
   ]
  },
  {
   "cell_type": "markdown",
   "id": "fa60071a-9460-48ab-b40c-d3f67ecd2837",
   "metadata": {},
   "source": [
    "# LineString properties and methods"
   ]
  },
  {
   "cell_type": "markdown",
   "id": "400e9a99-fc9a-4957-be9a-ed2d5c2db3bd",
   "metadata": {},
   "source": [
    "Linear geometries in their shapely representations (LineString, LinearRing, MultiLineString) have a variety of properties and methods that expose useful functionality. For instance, it is possible to access a geometry’s coordinates, calculate its lengths, find its centre point, create points along the line at a specified interval, or compute the closest distance between a line an another geometry."
   ]
  },
  {
   "cell_type": "markdown",
   "id": "496804af-ff30-4b88-be1e-e5ed41ab7878",
   "metadata": {},
   "source": [
    "### Tip\n",
    "\n",
    "Consult the Shapely user manual (https://shapely.readthedocs.io/en/stable/manual.html)  for a complete list of geometry attributes and operations on one or more geometries."
   ]
  },
  {
   "cell_type": "markdown",
   "id": "ef7a41e7-54ed-4d94-a0ee-551ef40b271c",
   "metadata": {},
   "source": [
    "Fundamentally, accessing the coordinates of a line is very similar as accessing the ones of a point:"
   ]
  },
  {
   "cell_type": "code",
   "execution_count": null,
   "id": "dc84803f-9083-45e4-9bd7-471afea61e3e",
   "metadata": {},
   "outputs": [],
   "source": [
    "# Get coordinate tuples\n",
    "list(line.coords)"
   ]
  },
  {
   "cell_type": "markdown",
   "id": "d40dfab0-d9b7-4cb0-9daf-18b808f7f019",
   "metadata": {},
   "source": [
    "Because a line has to have at least two coordinate tuples, the list now contains more than the one value we saw earlier with points.\n",
    "\n",
    "If you would need to access all x-coordinates or all y-coordinates of the line, you can use its <span style=\"color: red;\">xy</span> attribute (an iterator, but, again, for now, we can use them as lists):"
   ]
  },
  {
   "cell_type": "code",
   "execution_count": null,
   "id": "1c4a037d-1ac1-4300-b16d-1519201026cb",
   "metadata": {},
   "outputs": [],
   "source": [
    "# Obtain x and y coordinates\n",
    "xcoords = list(line.xy[0])\n",
    "ycoords = list(line.xy[1])\n",
    "\n",
    "print(xcoords)\n",
    "print(ycoords)"
   ]
  },
  {
   "cell_type": "markdown",
   "id": "01cde933-d95e-4bf4-b6db-6bc85a938c8d",
   "metadata": {},
   "source": [
    "### 3D-LineStrings\n",
    "\n",
    "Note that the <span style=\"color: red;\">xy</span> property of shapely geometries does not return <span style=\"color: red;\">z</span> values for three-dimensional geometries."
   ]
  },
  {
   "cell_type": "markdown",
   "id": "20178c8f-eca8-4196-b985-51da7ff248f9",
   "metadata": {},
   "source": [
    "Other properties of lines that are useful for GIS analyses include the length and the centre point (centroid) of lines:"
   ]
  },
  {
   "cell_type": "code",
   "execution_count": null,
   "id": "9923999e-6cf6-4883-afe5-ca59755240b9",
   "metadata": {},
   "outputs": [],
   "source": [
    "# Get the length of the line\n",
    "line_length = line.length\n",
    "print(f\"Length of our line: {line_length:.1f} units\")"
   ]
  },
  {
   "cell_type": "code",
   "execution_count": null,
   "id": "c5593589-8545-4fc1-994d-0f29143484ba",
   "metadata": {},
   "outputs": [],
   "source": [
    "# Get the centre point of the line\n",
    "print(line.centroid)"
   ]
  },
  {
   "cell_type": "markdown",
   "id": "ae0ab4fc-235b-4273-8711-167e7625395b",
   "metadata": {},
   "source": [
    "The centroid (or centre point) of a line (or any other shapely geometry) is a <span style=\"color: red;\">shapely.geometry.Point</span> object."
   ]
  },
  {
   "cell_type": "markdown",
   "id": "fe8d44a7-cdf8-4f2d-b762-b71db4eb7d32",
   "metadata": {},
   "source": [
    "# Polygon"
   ]
  },
  {
   "cell_type": "markdown",
   "id": "0c3729a2-d185-405e-b0b1-9f5e943b773c",
   "metadata": {},
   "source": [
    "Creating a polygon geometry follows the same logic as creating a point or line geometry. However, as discussed above the rules for what constitutes a polygon are more complex: It is constructed of exactly one linear ring forming its exterior (perimeter), and any number of additional linear rings forming holes that are cut out of the exterior shell.\n",
    "\n",
    "Consequently, the <span style=\"color: red;\">shapely.geometry.Polygon</span> constructor function accepts two parameter: the first one, <span style=\"color: red;\">shelln</span>, is a list of coordinate tuples, a list of points, or a  <span style=\"color: red;\">LinearRing</span>, and will form the outer hull of the new polygon. The second, optional, parameter  <span style=\"color: red;\">holes</span> can be a list of holes to cut out of shell (the items in the list can be the same data types as<span style=\"color: red;\"> shell</span>).\n",
    "\n",
    "For now, let’s create a simple polygon without any holes. The first example uses (at least three) coordinate tuples (three points are required to form a surface):"
   ]
  },
  {
   "cell_type": "code",
   "execution_count": null,
   "id": "3d206287-88a1-4613-889e-4d9f9d0e23e5",
   "metadata": {},
   "outputs": [],
   "source": [
    "from shapely.geometry import Polygon\n",
    "# Create Point objects for the vertices of the polygon\n",
    "point1 = Point(0, 0)\n",
    "point2 = Point(5, 0)\n",
    "point3 = Point(5, 5)\n",
    "point4 = Point(0, 5)\n",
    "\n",
    "# Create a Polygon from the coordinates\n",
    "polygon1 = Polygon([(0, 0), (5, 0), (5, 5), (0, 5)])\n"
   ]
  },
  {
   "cell_type": "code",
   "execution_count": null,
   "id": "86ace3ed-7bcd-420a-8f78-cc147506adf8",
   "metadata": {},
   "outputs": [],
   "source": [
    "# Create a Polygon from list of points\n",
    "polygon2 = Polygon([point1, point2, point3,point4])"
   ]
  },
  {
   "cell_type": "markdown",
   "id": "1b98f4b5-946f-4d57-8fc2-b1892ddaadaa",
   "metadata": {},
   "source": [
    "… or from a  **LinearRing** https://shapely.readthedocs.io/en/stable/manual.html#linearrings (which has an almost identical behaviour as a **LineString**, except that it is closed, i.e., the first and last point are identical):"
   ]
  },
  {
   "cell_type": "code",
   "execution_count": null,
   "id": "d6e53a5d-9991-4388-acdc-7b681f77cc82",
   "metadata": {},
   "outputs": [],
   "source": [
    "from shapely.geometry import LinearRing\n",
    "\n",
    "# Create a LinearRing object from the points\n",
    "shell = LinearRing([point1, point2, point3, point4, point1])\n",
    "polygon3= Polygon(shell)"
   ]
  },
  {
   "cell_type": "markdown",
   "id": "b9c51c0e-ba09-4784-a765-20f417020074",
   "metadata": {},
   "source": [
    "(When constructing a  <span style=\"color: red;\">shapely.geometry.LinearRing</span>, you can omit listing the first point again at the end; shapely will then implicitely add the first point another time to the end of the list of points)\n",
    "\n",
    "We used different methods to construct the three polygons, but we used the same values. Let’s see whether they ended up describing identical geometries:"
   ]
  },
  {
   "cell_type": "code",
   "execution_count": null,
   "id": "e678a414-08c4-4c6e-b1cd-675b5d67fcc8",
   "metadata": {},
   "outputs": [],
   "source": [
    "polygon1  == polygon3"
   ]
  },
  {
   "cell_type": "markdown",
   "id": "3c7f1e2a-0ab6-4ae4-9533-85ce2882c9df",
   "metadata": {},
   "source": [
    "Let’s also see how the polygon looks like drawn, and what its text representation is:"
   ]
  },
  {
   "cell_type": "code",
   "execution_count": null,
   "id": "55e950e8-e55c-4ac5-b808-232028e7db04",
   "metadata": {},
   "outputs": [],
   "source": [
    "polygon1"
   ]
  },
  {
   "cell_type": "code",
   "execution_count": null,
   "id": "b7910022-a33b-44e0-a49a-7e32cecb5c5d",
   "metadata": {},
   "outputs": [],
   "source": [
    "print(polygon1)"
   ]
  },
  {
   "cell_type": "markdown",
   "id": "870d34db-5d4f-4ef1-b056-81fa3e7e199e",
   "metadata": {},
   "source": [
    "Just like with points and lines, the text representation of a <span style=\"color: red;\">shapely.geometry.Polygon</span> is in the Well-Known Text format. Note how a WKT <span style=\"color: red;\">POLYGON</span> is made up of the values of one or more WKT <span style=\"color: red;\">LINEARRING</span>’s values (closed line strings), in parentheses, and joined together by commas. The first linear ring represents the exterior, all following ones holes. (Our example polygon consists of one linear ring, only, so no need for the comma).\n",
    "\n",
    "Check also the data type:"
   ]
  },
  {
   "cell_type": "code",
   "execution_count": null,
   "id": "8b82c97c-20b7-4636-8fd3-bda939f5299d",
   "metadata": {},
   "outputs": [],
   "source": [
    "# Data type\n",
    "type(polygon1)"
   ]
  },
  {
   "cell_type": "code",
   "execution_count": null,
   "id": "4da42f33-f3f4-436d-85e7-6932c19cad62",
   "metadata": {},
   "outputs": [],
   "source": [
    "# Geometry type\n",
    "polygon1.geom_type"
   ]
  },
  {
   "cell_type": "markdown",
   "id": "31904848-eb73-4056-a7a1-cc964fdce748",
   "metadata": {},
   "source": [
    "### Tip\n",
    "\n",
    "You can always use the built-in <span style=\"color: red;\">help()</span> function to find out how a function or class works, which parameters it expects, and what properties and methods you can use:"
   ]
  },
  {
   "cell_type": "code",
   "execution_count": null,
   "id": "9feb2b61-521a-49ab-937e-d79b9648faed",
   "metadata": {},
   "outputs": [],
   "source": [
    "# Check the help for Polygon objects:\n",
    "help(Polygon)"
   ]
  },
  {
   "cell_type": "markdown",
   "id": "608be5ee-70d9-42b5-ace7-0437bab09879",
   "metadata": {},
   "source": [
    "Let’s still see how to create a polygon with a hole:"
   ]
  },
  {
   "cell_type": "code",
   "execution_count": null,
   "id": "d64ed093-a345-4dd1-8a88-a1def368d694",
   "metadata": {},
   "outputs": [],
   "source": [
    "# define the exterior\n",
    "outer = LinearRing([(-180, 90), (-180, -90), (180, -90), (180, 90)])\n",
    "\n",
    "# define a hole:\n",
    "hole = LinearRing([(-170, 80), (-100, -80), (100, -80), (170, 80)])"
   ]
  },
  {
   "cell_type": "markdown",
   "id": "4b86b3fd-444f-4ef6-970e-2e840be247b3",
   "metadata": {},
   "source": [
    "Let’s see how the exterior shell and the hole look like on their own:\n",
    "\n"
   ]
  },
  {
   "cell_type": "code",
   "execution_count": null,
   "id": "007bcf2f-33a1-4233-9f94-769dca911b8b",
   "metadata": {},
   "outputs": [],
   "source": [
    "outer"
   ]
  },
  {
   "cell_type": "code",
   "execution_count": null,
   "id": "a704286c-033d-4508-8ca9-3973f412fd6a",
   "metadata": {},
   "outputs": [],
   "source": [
    "hole"
   ]
  },
  {
   "cell_type": "markdown",
   "id": "569a6aff-e524-4bae-9ec0-d53f8ee0e13d",
   "metadata": {},
   "source": [
    "A polygon using only the exterior shell:"
   ]
  },
  {
   "cell_type": "code",
   "execution_count": null,
   "id": "6f864d84-8932-4e9e-a89b-42e0ff267b6d",
   "metadata": {},
   "outputs": [],
   "source": [
    "polygon_without_hole = Polygon(outer)\n",
    "polygon_without_hole"
   ]
  },
  {
   "cell_type": "markdown",
   "id": "69bb0d1e-c794-435f-82c8-0abc7e49394a",
   "metadata": {},
   "source": [
    "And, finally, a polygon defined by the exterior shell, and one <span style=\"color: red;\">hole()</span> (note that holes need to be specified as a list):"
   ]
  },
  {
   "cell_type": "code",
   "execution_count": null,
   "id": "c5c75c02-d214-4057-b916-7a31c89a00c7",
   "metadata": {},
   "outputs": [],
   "source": [
    "polygon_with_hole = Polygon(outer, [hole])\n",
    "polygon_with_hole"
   ]
  },
  {
   "cell_type": "code",
   "execution_count": null,
   "id": "a258a1ed-f3bc-4b09-92f5-7847f523c727",
   "metadata": {},
   "outputs": [],
   "source": [
    "print(polygon_without_hole)\n",
    "print(polygon_with_hole)"
   ]
  },
  {
   "cell_type": "markdown",
   "id": "78a0bd52-62c6-46f8-b191-44817fe1302d",
   "metadata": {},
   "source": [
    "# Polygon properties and methods"
   ]
  },
  {
   "cell_type": "markdown",
   "id": "4cc32435-bc7d-4651-8208-46cf28760a31",
   "metadata": {},
   "source": [
    "Very similar to lines and points, also <span style=\"color: red;\">shapely.geometry.Polygons()</span> expose a number of properties and methods that can be useful for spatial analysis tasks. Consult the shapely user manual for a complete list, and see a few examples here:"
   ]
  },
  {
   "cell_type": "code",
   "execution_count": null,
   "id": "3d539ab9-1180-43a8-8454-f58acac7c401",
   "metadata": {},
   "outputs": [],
   "source": [
    "print(f\"Polygon centroid: {polygon_with_hole.centroid}\")\n",
    "print(f\"Polygon area: {polygon_with_hole.area}\")\n",
    "print(f\"Polygon bounding box: {polygon_with_hole.bounds}\")\n",
    "print(f\"Polygon exterior ring: {polygon_with_hole.exterior}\")\n",
    "print(f\"Polygon circumference: {polygon_with_hole.exterior.length}\")"
   ]
  },
  {
   "cell_type": "markdown",
   "id": "789ca1d5-62b1-446a-a7cf-bc6fffc3be8d",
   "metadata": {},
   "source": [
    "As we can see above, it is again fairly straightforward to access different attributes of Polygon objects. Note that distance metrics will make more sense when we start working with data in projected coordinate systems."
   ]
  },
  {
   "cell_type": "markdown",
   "id": "36332854-8e90-4b64-af00-6edc06715309",
   "metadata": {},
   "source": [
    "# Check your understanding"
   ]
  },
  {
   "cell_type": "markdown",
   "id": "cbe6ce72-c5e0-4362-9c67-d136221bc5e4",
   "metadata": {},
   "source": [
    "Plot these shapes using shapely!\n",
    "\n",
    "Pentagon, example coordinates: (30, 2.01), (31.91, 0.62), (31.18, -1.63), (28.82, -1.63), (28.09, 0.62)\n",
    "\n",
    "Triangle, example coordinates: (0,0), (2,4), (4,0)\n",
    "\n",
    "Square, example coordinates: (0,0), (0,4), (4,4), (4,0)\n",
    "\n",
    "Circle, example coordinate (0,0)"
   ]
  },
  {
   "cell_type": "code",
   "execution_count": null,
   "id": "c89e960c-775c-43fb-9260-23d6aac6862b",
   "metadata": {},
   "outputs": [],
   "source": [
    "# Pentagon \n",
    "Polygon([(30, 2.01), (31.91, 0.62), (31.18, -1.63), (28.82, -1.63), (28.09, 0.62)])"
   ]
  },
  {
   "cell_type": "code",
   "execution_count": null,
   "id": "b1eb4784-e1cd-46b9-a210-fc9b9646df1c",
   "metadata": {},
   "outputs": [],
   "source": [
    "# Triangle\n",
    "Polygon([(0,0), (2,4), (4,0)])"
   ]
  },
  {
   "cell_type": "code",
   "execution_count": null,
   "id": "633b5042-d863-4a21-bf74-f62d6f7c72a7",
   "metadata": {},
   "outputs": [],
   "source": [
    "# Square\n",
    "Polygon([(0,0), (0,4), (4,4), (4,0)])"
   ]
  },
  {
   "cell_type": "code",
   "execution_count": null,
   "id": "753ee23d-ca20-46a4-a371-85a04830affe",
   "metadata": {},
   "outputs": [],
   "source": [
    "# Circle (using a buffer around a point)\n",
    "point = Point((0,0))\n",
    "point.buffer(1)"
   ]
  },
  {
   "cell_type": "markdown",
   "id": "f7577415-3f35-4413-a3db-11d1260fd8db",
   "metadata": {},
   "source": [
    "# Geometry collections (optional)"
   ]
  },
  {
   "cell_type": "markdown",
   "id": "675a84fc-9713-44d0-9580-eeb575a1e9f5",
   "metadata": {},
   "source": [
    "Sometimes, it can be useful to store multiple geometries (for example, several points or several polygons) in a single feature. Semantically, it would not make sense to store the two polygons in separate rows. If expressed as a MultiPolygon, we would represent one row of information in the attribute table with multiple polygons attached."
   ]
  },
  {
   "cell_type": "markdown",
   "id": "fec8d055-9716-4d58-9794-18a6eda5d3c5",
   "metadata": {},
   "source": [
    "By convention, data sets should always consist of either single- or multi-geometries. Some file formats enforce this, and many GIS tools refuse operation on data sets with mixed single- and multi-geometries.\n",
    "\n",
    "If one feature in a data set is a MultiGeometry, all other features should be converted, too. All single geometries can be expressed as a collection of one item."
   ]
  },
  {
   "cell_type": "markdown",
   "id": "905ef699-1239-4066-9e10-41393ada46d1",
   "metadata": {},
   "source": [
    "In shapely, collections of points are implemented as <span style=\"color: red;\">MultiPoint</span> geometries, collections of lines as <span style=\"color: red;\">MultiLineString</span> geometries, and collections of polygons as <span style=\"color: red;\">MultiPolygon</span> geometries."
   ]
  },
  {
   "cell_type": "code",
   "execution_count": null,
   "id": "dfbcef5b-57c3-413d-981e-87a2444420e5",
   "metadata": {},
   "outputs": [],
   "source": [
    "from shapely.geometry import MultiPoint, MultiLineString, MultiPolygon\n",
    "\n",
    "# Create a MultiPoint object of our points 1,2 and 3\n",
    "multipoint = MultiPoint([point1, point2, point3])\n",
    "\n",
    "# We can also create a MultiLineString with two lines\n",
    "line1 = LineString([point1, point2])\n",
    "line2 = LineString([point2, point3])\n",
    "multiline = MultiLineString([line1, line2])\n",
    "\n",
    "print(multipoint)\n",
    "print(multiline)"
   ]
  },
  {
   "cell_type": "code",
   "execution_count": null,
   "id": "a98f5250-ca33-46ab-846e-d6391895c0c7",
   "metadata": {},
   "outputs": [],
   "source": [
    "multipoint"
   ]
  },
  {
   "cell_type": "code",
   "execution_count": null,
   "id": "0ad9cf3f-0d3e-4b5e-94fd-bd6cd59954c4",
   "metadata": {},
   "outputs": [],
   "source": [
    "multiline"
   ]
  },
  {
   "cell_type": "markdown",
   "id": "371631d4-c9cb-4d9f-8335-445d37ff9765",
   "metadata": {},
   "source": [
    "<span style=\"color: red;\">MultiPolygons</span> are constructed in a similar manner. Let’s create a bounding box for ‘the world’ by combining two separate polygons that represent the western and eastern hemispheres."
   ]
  },
  {
   "cell_type": "code",
   "execution_count": null,
   "id": "0d41081e-1252-45ae-9b20-7ec3a357f416",
   "metadata": {},
   "outputs": [],
   "source": [
    "# Let’s create the exterior of the western part of the world\n",
    "western_hemisphere = Polygon([(-180, 90), (-180, -90), (0, -90), (0, 90)])\n",
    "print(western_hemisphere)\n",
    "western_hemisphere"
   ]
  },
  {
   "cell_type": "markdown",
   "id": "3d2b98d8-1dee-4cab-9917-9b038136a0b2",
   "metadata": {},
   "source": [
    "Shapely has a short-hand function for creating rectangular polygons, ‘boxes’. It can be used, for instance, to create <span style=\"color: red;\">bounding boxes</span> using minimum and maximum x and y coordinates.\n",
    "\n",
    "Let’s use <span style=\"color: red;\">shapely.geometry.box()</span> for creating the polygon representing the the eastern hemisphere:"
   ]
  },
  {
   "cell_type": "code",
   "execution_count": null,
   "id": "46b25491-1fbe-4359-8e6e-540487e71559",
   "metadata": {},
   "outputs": [],
   "source": [
    "from shapely.geometry import box\n",
    "min_x = 0\n",
    "max_x = 180\n",
    "min_y = -90\n",
    "max_y = 90\n",
    "\n",
    "eastern_hemisphere = box(min_x, min_y, max_x, max_y)\n",
    "\n",
    "print(eastern_hemisphere)\n",
    "eastern_hemisphere"
   ]
  },
  {
   "cell_type": "markdown",
   "id": "fc57ee36-32a0-4eeb-b3ec-14be700617ca",
   "metadata": {},
   "source": [
    "Finally, we can combine the two polygons into a MultiPolygon:"
   ]
  },
  {
   "cell_type": "code",
   "execution_count": null,
   "id": "327b12ad-140e-434d-b9c8-38fb54763321",
   "metadata": {},
   "outputs": [],
   "source": [
    "# Let’s create our MultiPolygon.\n",
    "# Pass multiple Polygon objects as a list\n",
    "multipolygon = MultiPolygon([western_hemisphere, eastern_hemisphere])\n",
    "\n",
    "print(multipolygon)\n",
    "multipolygon"
   ]
  },
  {
   "cell_type": "markdown",
   "id": "4c37cf0e-2f31-4b5b-a995-055cc1713009",
   "metadata": {},
   "source": [
    "Multi-geometries are in many ways similar to simple geometries, like the ones we created earlier. The main difference is that they can combine multiple geometric primitives into one feature."
   ]
  },
  {
   "cell_type": "markdown",
   "id": "e7c48268-d51b-46c8-b0a4-b220da783d87",
   "metadata": {},
   "source": [
    "# Convex hull and envelope"
   ]
  },
  {
   "cell_type": "markdown",
   "id": "d920e3fd-7ffb-466b-b473-c2238e0658c3",
   "metadata": {},
   "source": [
    "A ‘convex hull’ refers to the smallest possible convex polygon that can contain a geometry or a set of geometries. Alongside bounding boxes, convex (https://en.wikipedia.org/wiki/Convex_set)  hulls are useful to describe the extent of data sets."
   ]
  },
  {
   "cell_type": "code",
   "execution_count": null,
   "id": "0d0cfed4-0fd7-4556-ad62-58f7d7431603",
   "metadata": {},
   "outputs": [],
   "source": [
    "# Check input geometry\n",
    "multipoint"
   ]
  },
  {
   "cell_type": "code",
   "execution_count": null,
   "id": "99081d3b-795f-4124-a9d0-e10e89f52647",
   "metadata": {},
   "outputs": [],
   "source": [
    "# Convex Hull\n",
    "[multipoint.convex_hull, multipoint]"
   ]
  },
  {
   "cell_type": "code",
   "execution_count": null,
   "id": "1eaa5c35-35a1-4c28-87bb-8456b9fb0a27",
   "metadata": {},
   "outputs": [],
   "source": [
    "# Envelope (smalles rectangular polygon around a geometry/set of geometries):\n",
    "multipoint.envelope"
   ]
  },
  {
   "cell_type": "markdown",
   "id": "300414d2-0b05-48b8-b60a-4df82f7864c7",
   "metadata": {},
   "source": [
    "# Validity of geometries"
   ]
  },
  {
   "cell_type": "markdown",
   "id": "e8bee2bd-6a8c-4fa9-9b54-5723f60cf6c0",
   "metadata": {},
   "source": [
    "As discussed on the very top of this page, already the geometric primitives have certain requirements. For instance, a <span style=\"color: red;\">LineString</span> must consist of at least two points, and a <span style=\"color: red;\">Polygon</span>’s exterior shell and holes must not intersect.\n",
    "\n",
    "Each shapely geometry has a built-in check that can be of great help, for instance, finding topological errors:"
   ]
  },
  {
   "cell_type": "code",
   "execution_count": null,
   "id": "e2fa3600-5cc6-451e-96e0-39e25def67d0",
   "metadata": {},
   "outputs": [],
   "source": [
    "print(f\"Is polygon valid?: {polygon_with_hole.is_valid}\")"
   ]
  },
  {
   "cell_type": "markdown",
   "id": "94de2fc8-1947-4fbb-bc40-bfd5d56f5d9a",
   "metadata": {},
   "source": [
    "## Sources\n",
    "\n",
    "This lesson is inspired by the [Programming in Python lessons](http://swcarpentry.github.io/python-novice-inflammation/) from the [Software Carpentry organization](http://software-carpentry.org) and has adapted or reused material from University of Helsinki Automating GIS processis course (https://autogis-site.readthedocs.io/en/latest/course-info/license.html) under a Creative Commons Attribution-ShareAlike 4.0 International licence (https://creativecommons.org/licenses/by-sa/4.0/deed.en)."
   ]
  },
  {
   "cell_type": "code",
   "execution_count": null,
   "id": "52bb9ad3-445c-4e57-862e-fb0fabe4029b",
   "metadata": {},
   "outputs": [],
   "source": []
  }
 ],
 "metadata": {
  "kernelspec": {
   "display_name": "Python 3 (ipykernel)",
   "language": "python",
   "name": "python3"
  },
  "language_info": {
   "codemirror_mode": {
    "name": "ipython",
    "version": 3
   },
   "file_extension": ".py",
   "mimetype": "text/x-python",
   "name": "python",
   "nbconvert_exporter": "python",
   "pygments_lexer": "ipython3",
   "version": "3.11.8"
  }
 },
 "nbformat": 4,
 "nbformat_minor": 5
}
